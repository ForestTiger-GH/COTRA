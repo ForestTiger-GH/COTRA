{
  "nbformat": 4,
  "nbformat_minor": 0,
  "metadata": {
    "colab": {
      "name": "Выгрузка СОТ",
      "provenance": [],
      "collapsed_sections": []
    },
    "kernelspec": {
      "name": "python3",
      "display_name": "Python 3"
    }
  },
  "cells": [
    {
      "cell_type": "markdown",
      "metadata": {
        "id": "kCUts7IDMe6g"
      },
      "source": [
        "# Выгрузка полного набора отчетов 'Commitments of Traders'\n",
        "**from start to 2021**"
      ]
    },
    {
      "cell_type": "markdown",
      "metadata": {
        "id": "jOW5l5DHMGzS"
      },
      "source": [
        "Отчеты разделены на четыре категории:\n",
        "*   Disaggregated Futures\n",
        "*   Traders in Financial Futures\n",
        "*   Legacy Reports\n",
        "*   Commodity Index Trader Supplement\n",
        "\n",
        "А также на две группы:\n",
        "\n",
        "\n",
        "*   Futures only\n",
        "*   Futures-and-Options Combined\n",
        "\n",
        "Отчеты Legacy загружены с 2000 года.\n"
      ]
    },
    {
      "cell_type": "code",
      "metadata": {
        "colab": {
          "base_uri": "https://localhost:8080/"
        },
        "id": "Jo108D-cK83T",
        "outputId": "8bfe9749-8ee5-4f3a-c384-2f48af46f1e9"
      },
      "source": [
        "!pip install memory_profiler"
      ],
      "execution_count": 1,
      "outputs": [
        {
          "output_type": "stream",
          "text": [
            "Collecting memory_profiler\n",
            "  Downloading https://files.pythonhosted.org/packages/8f/fd/d92b3295657f8837e0177e7b48b32d6651436f0293af42b76d134c3bb489/memory_profiler-0.58.0.tar.gz\n",
            "Requirement already satisfied: psutil in /usr/local/lib/python3.7/dist-packages (from memory_profiler) (5.4.8)\n",
            "Building wheels for collected packages: memory-profiler\n",
            "  Building wheel for memory-profiler (setup.py) ... \u001b[?25l\u001b[?25hdone\n",
            "  Created wheel for memory-profiler: filename=memory_profiler-0.58.0-cp37-none-any.whl size=30180 sha256=c05fd3dbc1e463cdf94b6243e2c7a772927fea4c7846ecf39c6db4f1fa47fdda\n",
            "  Stored in directory: /root/.cache/pip/wheels/02/e4/0b/aaab481fc5dd2a4ea59e78bc7231bb6aae7635ca7ee79f8ae5\n",
            "Successfully built memory-profiler\n",
            "Installing collected packages: memory-profiler\n",
            "Successfully installed memory-profiler-0.58.0\n"
          ],
          "name": "stdout"
        }
      ]
    },
    {
      "cell_type": "code",
      "metadata": {
        "id": "TIw69Ynx19cj"
      },
      "source": [
        "import pandas as pd\n",
        "\n",
        "import urllib.request\n",
        "from zipfile import ZipFile\n",
        "from io import BytesIO\n",
        "\n",
        "from memory_profiler import memory_usage\n",
        "\n",
        "import matplotlib.pyplot as plt"
      ],
      "execution_count": 2,
      "outputs": []
    },
    {
      "cell_type": "code",
      "metadata": {
        "id": "wOEjwxsfJMIN"
      },
      "source": [
        "mem = []"
      ],
      "execution_count": 3,
      "outputs": []
    },
    {
      "cell_type": "code",
      "metadata": {
        "colab": {
          "base_uri": "https://localhost:8080/"
        },
        "id": "4_j6kgUh88uk",
        "outputId": "31da0e8e-7cc2-4fa4-c156-c425dba34f70"
      },
      "source": [
        "# Disaggregated Futures Only Reports:\n",
        "Fdisagg_2006_2016 = pd.read_csv(ZipFile(BytesIO(urllib.request.urlopen('https://www.cftc.gov/files/dea/history/fut_disagg_txt_hist_2006_2016.zip').read())).open('F_Disagg06_16.txt'), sep=',', error_bad_lines=False, decimal='.', encoding='gbk', skiprows=0)\n",
        "Fdisagg_2010 = pd.read_csv(ZipFile(BytesIO(urllib.request.urlopen('https://www.cftc.gov/files/dea/history/fut_disagg_txt_2010.zip').read())).open('f_year.txt'), sep=',', error_bad_lines=False, decimal='.', encoding='gbk', skiprows=0)\n",
        "Fdisagg_2011 = pd.read_csv(ZipFile(BytesIO(urllib.request.urlopen('https://www.cftc.gov/files/dea/history/fut_disagg_txt_2011.zip').read())).open('f_year.txt'), sep=',', error_bad_lines=False, decimal='.', encoding='gbk', skiprows=0)\n",
        "Fdisagg_2012 = pd.read_csv(ZipFile(BytesIO(urllib.request.urlopen('https://www.cftc.gov/files/dea/history/fut_disagg_txt_2012.zip').read())).open('f_year.txt'), sep=',', error_bad_lines=False, decimal='.', encoding='gbk', skiprows=0)\n",
        "Fdisagg_2013 = pd.read_csv(ZipFile(BytesIO(urllib.request.urlopen('https://www.cftc.gov/files/dea/history/fut_disagg_txt_2013.zip').read())).open('f_year.txt'), sep=',', error_bad_lines=False, decimal='.', encoding='gbk', skiprows=0)\n",
        "Fdisagg_2014 = pd.read_csv(ZipFile(BytesIO(urllib.request.urlopen('https://www.cftc.gov/files/dea/history/fut_disagg_txt_2014.zip').read())).open('f_year.txt'), sep=',', error_bad_lines=False, decimal='.', encoding='gbk', skiprows=0)\n",
        "Fdisagg_2015 = pd.read_csv(ZipFile(BytesIO(urllib.request.urlopen('https://www.cftc.gov/files/dea/history/fut_disagg_txt_2015.zip').read())).open('f_year.txt'), sep=',', error_bad_lines=False, decimal='.', encoding='gbk', skiprows=0)\n",
        "Fdisagg_2016 = pd.read_csv(ZipFile(BytesIO(urllib.request.urlopen('https://www.cftc.gov/files/dea/history/fut_disagg_txt_2016.zip').read())).open('f_year.txt'), sep=',', error_bad_lines=False, decimal='.', encoding='gbk', skiprows=0)\n",
        "Fdisagg_2017 = pd.read_csv(ZipFile(BytesIO(urllib.request.urlopen('https://www.cftc.gov/files/dea/history/fut_disagg_txt_2017.zip').read())).open('f_year.txt'), sep=',', error_bad_lines=False, decimal='.', encoding='gbk', skiprows=0)\n",
        "Fdisagg_2018 = pd.read_csv(ZipFile(BytesIO(urllib.request.urlopen('https://www.cftc.gov/files/dea/history/fut_disagg_txt_2018.zip').read())).open('f_year.txt'), sep=',', error_bad_lines=False, decimal='.', encoding='gbk', skiprows=0)\n",
        "Fdisagg_2019 = pd.read_csv(ZipFile(BytesIO(urllib.request.urlopen('https://www.cftc.gov/files/dea/history/fut_disagg_txt_2019.zip').read())).open('f_year.txt'), sep=',', error_bad_lines=False, decimal='.', encoding='gbk', skiprows=0)\n",
        "Fdisagg_2020 = pd.read_csv(ZipFile(BytesIO(urllib.request.urlopen('https://www.cftc.gov/files/dea/history/fut_disagg_txt_2020.zip').read())).open('f_year.txt'), sep=',', error_bad_lines=False, decimal='.', encoding='gbk', skiprows=0)\n",
        "Fdisagg_2021 = pd.read_csv(ZipFile(BytesIO(urllib.request.urlopen('https://www.cftc.gov/files/dea/history/fut_disagg_txt_2021.zip').read())).open('f_year.txt'), sep=',', error_bad_lines=False, decimal='.', encoding='gbk', skiprows=0)"
      ],
      "execution_count": 4,
      "outputs": [
        {
          "output_type": "stream",
          "text": [
            "/usr/local/lib/python3.7/dist-packages/IPython/core/interactiveshell.py:2718: DtypeWarning: Columns (3,120,121,125,133,134,135,145,146,147,148,149,150,151,152,153,154,155,156,157,158,159,160,186) have mixed types.Specify dtype option on import or set low_memory=False.\n",
            "  interactivity=interactivity, compiler=compiler, result=result)\n",
            "/usr/local/lib/python3.7/dist-packages/IPython/core/interactiveshell.py:2718: DtypeWarning: Columns (133,145,146,147,148,149,159,160) have mixed types.Specify dtype option on import or set low_memory=False.\n",
            "  interactivity=interactivity, compiler=compiler, result=result)\n",
            "/usr/local/lib/python3.7/dist-packages/IPython/core/interactiveshell.py:2718: DtypeWarning: Columns (133,147,148,149,150,159,160) have mixed types.Specify dtype option on import or set low_memory=False.\n",
            "  interactivity=interactivity, compiler=compiler, result=result)\n",
            "/usr/local/lib/python3.7/dist-packages/IPython/core/interactiveshell.py:2718: DtypeWarning: Columns (147,148,149,150,159,160) have mixed types.Specify dtype option on import or set low_memory=False.\n",
            "  interactivity=interactivity, compiler=compiler, result=result)\n",
            "/usr/local/lib/python3.7/dist-packages/IPython/core/interactiveshell.py:2718: DtypeWarning: Columns (120,121,134,135,145,146,147,148,149,150,151,152,153,154,155,156,157,158,159,160) have mixed types.Specify dtype option on import or set low_memory=False.\n",
            "  interactivity=interactivity, compiler=compiler, result=result)\n",
            "/usr/local/lib/python3.7/dist-packages/IPython/core/interactiveshell.py:2718: DtypeWarning: Columns (120,133,134,145,146,147,148,149,150,151,152,153,154,155,156,157,158,159,160) have mixed types.Specify dtype option on import or set low_memory=False.\n",
            "  interactivity=interactivity, compiler=compiler, result=result)\n",
            "/usr/local/lib/python3.7/dist-packages/IPython/core/interactiveshell.py:2718: DtypeWarning: Columns (133,145,146,147,148,149,157,159,160) have mixed types.Specify dtype option on import or set low_memory=False.\n",
            "  interactivity=interactivity, compiler=compiler, result=result)\n",
            "/usr/local/lib/python3.7/dist-packages/IPython/core/interactiveshell.py:2718: DtypeWarning: Columns (146,147,148,149,159,160) have mixed types.Specify dtype option on import or set low_memory=False.\n",
            "  interactivity=interactivity, compiler=compiler, result=result)\n",
            "/usr/local/lib/python3.7/dist-packages/IPython/core/interactiveshell.py:2718: DtypeWarning: Columns (133,145,147,159,160) have mixed types.Specify dtype option on import or set low_memory=False.\n",
            "  interactivity=interactivity, compiler=compiler, result=result)\n",
            "/usr/local/lib/python3.7/dist-packages/IPython/core/interactiveshell.py:2718: DtypeWarning: Columns (133,145,147,160) have mixed types.Specify dtype option on import or set low_memory=False.\n",
            "  interactivity=interactivity, compiler=compiler, result=result)\n",
            "/usr/local/lib/python3.7/dist-packages/IPython/core/interactiveshell.py:2718: DtypeWarning: Columns (120,133,146,147,149,159,160) have mixed types.Specify dtype option on import or set low_memory=False.\n",
            "  interactivity=interactivity, compiler=compiler, result=result)\n"
          ],
          "name": "stderr"
        }
      ]
    },
    {
      "cell_type": "code",
      "metadata": {
        "id": "8f7LCiZ6JKT8"
      },
      "source": [
        "mem.append(memory_usage())"
      ],
      "execution_count": 5,
      "outputs": []
    },
    {
      "cell_type": "code",
      "metadata": {
        "colab": {
          "base_uri": "https://localhost:8080/"
        },
        "id": "ePeaC663CYVt",
        "outputId": "62a5ffe7-4af7-4145-cc0d-62de482bbb65"
      },
      "source": [
        "# Disaggregated Futures-and-Options Combined Reports:\n",
        "Cdisagg_2006_2016 = pd.read_csv(ZipFile(BytesIO(urllib.request.urlopen('https://www.cftc.gov/files/dea/history/com_disagg_txt_hist_2006_2016.zip').read())).open('C_Disagg06_16.txt'), sep=',', error_bad_lines=False, decimal='.', encoding='gbk', skiprows=0)\n",
        "Cdisagg_2010 = pd.read_csv(ZipFile(BytesIO(urllib.request.urlopen('https://www.cftc.gov/files/dea/history/com_disagg_txt_2010.zip').read())).open('c_year.txt'), sep=',', error_bad_lines=False, decimal='.', encoding='gbk', skiprows=0)\n",
        "Cdisagg_2011 = pd.read_csv(ZipFile(BytesIO(urllib.request.urlopen('https://www.cftc.gov/files/dea/history/com_disagg_txt_2011.zip').read())).open('c_year.txt'), sep=',', error_bad_lines=False, decimal='.', encoding='gbk', skiprows=0)\n",
        "Cdisagg_2012 = pd.read_csv(ZipFile(BytesIO(urllib.request.urlopen('https://www.cftc.gov/files/dea/history/com_disagg_txt_2012.zip').read())).open('c_year.txt'), sep=',', error_bad_lines=False, decimal='.', encoding='gbk', skiprows=0)\n",
        "Cdisagg_2013 = pd.read_csv(ZipFile(BytesIO(urllib.request.urlopen('https://www.cftc.gov/files/dea/history/com_disagg_txt_2013.zip').read())).open('c_year.txt'), sep=',', error_bad_lines=False, decimal='.', encoding='gbk', skiprows=0)\n",
        "Cdisagg_2014 = pd.read_csv(ZipFile(BytesIO(urllib.request.urlopen('https://www.cftc.gov/files/dea/history/com_disagg_txt_2014.zip').read())).open('c_year.txt'), sep=',', error_bad_lines=False, decimal='.', encoding='gbk', skiprows=0)\n",
        "Cdisagg_2015 = pd.read_csv(ZipFile(BytesIO(urllib.request.urlopen('https://www.cftc.gov/files/dea/history/com_disagg_txt_2015.zip').read())).open('c_year.txt'), sep=',', error_bad_lines=False, decimal='.', encoding='gbk', skiprows=0)\n",
        "Cdisagg_2016 = pd.read_csv(ZipFile(BytesIO(urllib.request.urlopen('https://www.cftc.gov/files/dea/history/com_disagg_txt_2016.zip').read())).open('c_year.txt'), sep=',', error_bad_lines=False, decimal='.', encoding='gbk', skiprows=0)\n",
        "Cdisagg_2017 = pd.read_csv(ZipFile(BytesIO(urllib.request.urlopen('https://www.cftc.gov/files/dea/history/com_disagg_txt_2017.zip').read())).open('c_year.txt'), sep=',', error_bad_lines=False, decimal='.', encoding='gbk', skiprows=0)\n",
        "Cdisagg_2018 = pd.read_csv(ZipFile(BytesIO(urllib.request.urlopen('https://www.cftc.gov/files/dea/history/com_disagg_txt_2018.zip').read())).open('c_year.txt'), sep=',', error_bad_lines=False, decimal='.', encoding='gbk', skiprows=0)\n",
        "Cdisagg_2019 = pd.read_csv(ZipFile(BytesIO(urllib.request.urlopen('https://www.cftc.gov/files/dea/history/com_disagg_txt_2019.zip').read())).open('c_year.txt'), sep=',', error_bad_lines=False, decimal='.', encoding='gbk', skiprows=0)\n",
        "Cdisagg_2020 = pd.read_csv(ZipFile(BytesIO(urllib.request.urlopen('https://www.cftc.gov/files/dea/history/com_disagg_txt_2020.zip').read())).open('c_year.txt'), sep=',', error_bad_lines=False, decimal='.', encoding='gbk', skiprows=0)\n",
        "Cdisagg_2021 = pd.read_csv(ZipFile(BytesIO(urllib.request.urlopen('https://www.cftc.gov/files/dea/history/com_disagg_txt_2021.zip').read())).open('c_year.txt'), sep=',', error_bad_lines=False, decimal='.', encoding='gbk', skiprows=0)"
      ],
      "execution_count": 6,
      "outputs": [
        {
          "output_type": "stream",
          "text": [
            "/usr/local/lib/python3.7/dist-packages/IPython/core/interactiveshell.py:2718: DtypeWarning: Columns (120,121,133,134,135,145,146,147,148,149,150,151,152,153,154,155,156,157,158,159,160) have mixed types.Specify dtype option on import or set low_memory=False.\n",
            "  interactivity=interactivity, compiler=compiler, result=result)\n",
            "/usr/local/lib/python3.7/dist-packages/IPython/core/interactiveshell.py:2718: DtypeWarning: Columns (133,145,146,147,148,149,159,160) have mixed types.Specify dtype option on import or set low_memory=False.\n",
            "  interactivity=interactivity, compiler=compiler, result=result)\n",
            "/usr/local/lib/python3.7/dist-packages/IPython/core/interactiveshell.py:2718: DtypeWarning: Columns (133,147,148,149,150,159,160) have mixed types.Specify dtype option on import or set low_memory=False.\n",
            "  interactivity=interactivity, compiler=compiler, result=result)\n",
            "/usr/local/lib/python3.7/dist-packages/IPython/core/interactiveshell.py:2718: DtypeWarning: Columns (147,148,149,150,159,160) have mixed types.Specify dtype option on import or set low_memory=False.\n",
            "  interactivity=interactivity, compiler=compiler, result=result)\n",
            "/usr/local/lib/python3.7/dist-packages/IPython/core/interactiveshell.py:2718: DtypeWarning: Columns (145,146,147,148,149,150,151,152,153,154,155,156,157,158,159,160) have mixed types.Specify dtype option on import or set low_memory=False.\n",
            "  interactivity=interactivity, compiler=compiler, result=result)\n",
            "/usr/local/lib/python3.7/dist-packages/IPython/core/interactiveshell.py:2718: DtypeWarning: Columns (120,133,134,145,146,147,148,149,153,156,157,158,159,160) have mixed types.Specify dtype option on import or set low_memory=False.\n",
            "  interactivity=interactivity, compiler=compiler, result=result)\n",
            "/usr/local/lib/python3.7/dist-packages/IPython/core/interactiveshell.py:2718: DtypeWarning: Columns (120,133,134,145,146,147,148,149,150,156,159,160) have mixed types.Specify dtype option on import or set low_memory=False.\n",
            "  interactivity=interactivity, compiler=compiler, result=result)\n",
            "/usr/local/lib/python3.7/dist-packages/IPython/core/interactiveshell.py:2718: DtypeWarning: Columns (120,133,134,145,146,147,148,149,157,159,160) have mixed types.Specify dtype option on import or set low_memory=False.\n",
            "  interactivity=interactivity, compiler=compiler, result=result)\n",
            "/usr/local/lib/python3.7/dist-packages/IPython/core/interactiveshell.py:2718: DtypeWarning: Columns (146,147,148,149,159,160) have mixed types.Specify dtype option on import or set low_memory=False.\n",
            "  interactivity=interactivity, compiler=compiler, result=result)\n",
            "/usr/local/lib/python3.7/dist-packages/IPython/core/interactiveshell.py:2718: DtypeWarning: Columns (133,145,147,159,160) have mixed types.Specify dtype option on import or set low_memory=False.\n",
            "  interactivity=interactivity, compiler=compiler, result=result)\n",
            "/usr/local/lib/python3.7/dist-packages/IPython/core/interactiveshell.py:2718: DtypeWarning: Columns (133,145,147,160) have mixed types.Specify dtype option on import or set low_memory=False.\n",
            "  interactivity=interactivity, compiler=compiler, result=result)\n",
            "/usr/local/lib/python3.7/dist-packages/IPython/core/interactiveshell.py:2718: DtypeWarning: Columns (120,133,146,147,149,159,160) have mixed types.Specify dtype option on import or set low_memory=False.\n",
            "  interactivity=interactivity, compiler=compiler, result=result)\n"
          ],
          "name": "stderr"
        }
      ]
    },
    {
      "cell_type": "code",
      "metadata": {
        "id": "zNZ92Tw8JSpE"
      },
      "source": [
        "mem.append(memory_usage())"
      ],
      "execution_count": 7,
      "outputs": []
    },
    {
      "cell_type": "code",
      "metadata": {
        "colab": {
          "base_uri": "https://localhost:8080/"
        },
        "id": "-_DYowEL9jpE",
        "outputId": "fcf41c08-3469-4f43-e19c-b6f597c29a87"
      },
      "source": [
        "# Traders in Financial Futures ; Futures Only Reports:\n",
        "Ffin_2006_2016 = pd.read_csv(ZipFile(BytesIO(urllib.request.urlopen('https://www.cftc.gov/files/dea/history/fin_fut_txt_2006_2016.zip').read())).open('F_TFF_2006_2016.txt'), sep=',', error_bad_lines=False, decimal='.', encoding='gbk', skiprows=0)\n",
        "Ffin_2010 = pd.read_csv(ZipFile(BytesIO(urllib.request.urlopen('https://www.cftc.gov/files/dea/history/fut_fin_txt_2010.zip').read())).open('FinFutYY.txt'), sep=',', error_bad_lines=False, decimal='.', encoding='gbk', skiprows=0)\n",
        "Ffin_2011 = pd.read_csv(ZipFile(BytesIO(urllib.request.urlopen('https://www.cftc.gov/files/dea/history/fut_fin_txt_2011.zip').read())).open('FinFutYY.txt'), sep=',', error_bad_lines=False, decimal='.', encoding='gbk', skiprows=0)\n",
        "Ffin_2012 = pd.read_csv(ZipFile(BytesIO(urllib.request.urlopen('https://www.cftc.gov/files/dea/history/fut_fin_txt_2012.zip').read())).open('FinFutYY.txt'), sep=',', error_bad_lines=False, decimal='.', encoding='gbk', skiprows=0)\n",
        "Ffin_2013 = pd.read_csv(ZipFile(BytesIO(urllib.request.urlopen('https://www.cftc.gov/files/dea/history/fut_fin_txt_2013.zip').read())).open('FinFutYY.txt'), sep=',', error_bad_lines=False, decimal='.', encoding='gbk', skiprows=0)\n",
        "Ffin_2014 = pd.read_csv(ZipFile(BytesIO(urllib.request.urlopen('https://www.cftc.gov/files/dea/history/fut_fin_txt_2014.zip').read())).open('FinFutYY.txt'), sep=',', error_bad_lines=False, decimal='.', encoding='gbk', skiprows=0)\n",
        "Ffin_2015 = pd.read_csv(ZipFile(BytesIO(urllib.request.urlopen('https://www.cftc.gov/files/dea/history/fut_fin_txt_2015.zip').read())).open('FinFutYY.txt'), sep=',', error_bad_lines=False, decimal='.', encoding='gbk', skiprows=0)\n",
        "Ffin_2016 = pd.read_csv(ZipFile(BytesIO(urllib.request.urlopen('https://www.cftc.gov/files/dea/history/fut_fin_txt_2016.zip').read())).open('FinFutYY.txt'), sep=',', error_bad_lines=False, decimal='.', encoding='gbk', skiprows=0)\n",
        "Ffin_2017 = pd.read_csv(ZipFile(BytesIO(urllib.request.urlopen('https://www.cftc.gov/files/dea/history/fut_fin_txt_2017.zip').read())).open('FinFutYY.txt'), sep=',', error_bad_lines=False, decimal='.', encoding='gbk', skiprows=0)\n",
        "Ffin_2018 = pd.read_csv(ZipFile(BytesIO(urllib.request.urlopen('https://www.cftc.gov/files/dea/history/fut_fin_txt_2018.zip').read())).open('FinFutYY.txt'), sep=',', error_bad_lines=False, decimal='.', encoding='gbk', skiprows=0)\n",
        "Ffin_2019 = pd.read_csv(ZipFile(BytesIO(urllib.request.urlopen('https://www.cftc.gov/files/dea/history/fut_fin_txt_2019.zip').read())).open('FinFutYY.txt'), sep=',', error_bad_lines=False, decimal='.', encoding='gbk', skiprows=0)\n",
        "Ffin_2020 = pd.read_csv(ZipFile(BytesIO(urllib.request.urlopen('https://www.cftc.gov/files/dea/history/fut_fin_txt_2020.zip').read())).open('FinFutYY.txt'), sep=',', error_bad_lines=False, decimal='.', encoding='gbk', skiprows=0)\n",
        "Ffin_2021 = pd.read_csv(ZipFile(BytesIO(urllib.request.urlopen('https://www.cftc.gov/files/dea/history/fut_fin_txt_2021.zip').read())).open('FinFutYY.txt'), sep=',', error_bad_lines=False, decimal='.', encoding='gbk', skiprows=0)"
      ],
      "execution_count": 8,
      "outputs": [
        {
          "output_type": "stream",
          "text": [
            "/usr/local/lib/python3.7/dist-packages/IPython/core/interactiveshell.py:2718: DtypeWarning: Columns (3,82) have mixed types.Specify dtype option on import or set low_memory=False.\n",
            "  interactivity=interactivity, compiler=compiler, result=result)\n"
          ],
          "name": "stderr"
        }
      ]
    },
    {
      "cell_type": "code",
      "metadata": {
        "id": "eFOwVZeuJTPN"
      },
      "source": [
        "mem.append(memory_usage())"
      ],
      "execution_count": 9,
      "outputs": []
    },
    {
      "cell_type": "code",
      "metadata": {
        "colab": {
          "base_uri": "https://localhost:8080/"
        },
        "id": "A796RwPbCds8",
        "outputId": "b6a005c2-b6ca-4118-bb11-0f312493f5c9"
      },
      "source": [
        "# Traders in Financial Futures ; Futures-and-Options Combined Reports:\n",
        "Cfin_2006_2016 = pd.read_csv(ZipFile(BytesIO(urllib.request.urlopen('https://www.cftc.gov/files/dea/history/fin_com_txt_2006_2016.zip').read())).open('C_TFF_2006_2016.txt'), sep=',', error_bad_lines=False, decimal='.', encoding='gbk', skiprows=0)\n",
        "Cfin_2010 = pd.read_csv(ZipFile(BytesIO(urllib.request.urlopen('https://www.cftc.gov/files/dea/history/com_fin_txt_2010.zip').read())).open('FinComYY.txt'), sep=',', error_bad_lines=False, decimal='.', encoding='gbk', skiprows=0)\n",
        "Cfin_2011 = pd.read_csv(ZipFile(BytesIO(urllib.request.urlopen('https://www.cftc.gov/files/dea/history/com_fin_txt_2011.zip').read())).open('FinComYY.txt'), sep=',', error_bad_lines=False, decimal='.', encoding='gbk', skiprows=0)\n",
        "Cfin_2012 = pd.read_csv(ZipFile(BytesIO(urllib.request.urlopen('https://www.cftc.gov/files/dea/history/com_fin_txt_2012.zip').read())).open('FinComYY.txt'), sep=',', error_bad_lines=False, decimal='.', encoding='gbk', skiprows=0)\n",
        "Cfin_2013 = pd.read_csv(ZipFile(BytesIO(urllib.request.urlopen('https://www.cftc.gov/files/dea/history/com_fin_txt_2013.zip').read())).open('FinComYY.txt'), sep=',', error_bad_lines=False, decimal='.', encoding='gbk', skiprows=0)\n",
        "Cfin_2014 = pd.read_csv(ZipFile(BytesIO(urllib.request.urlopen('https://www.cftc.gov/files/dea/history/com_fin_txt_2014.zip').read())).open('FinComYY.txt'), sep=',', error_bad_lines=False, decimal='.', encoding='gbk', skiprows=0)\n",
        "Cfin_2015 = pd.read_csv(ZipFile(BytesIO(urllib.request.urlopen('https://www.cftc.gov/files/dea/history/com_fin_txt_2015.zip').read())).open('FinComYY.txt'), sep=',', error_bad_lines=False, decimal='.', encoding='gbk', skiprows=0)\n",
        "Cfin_2016 = pd.read_csv(ZipFile(BytesIO(urllib.request.urlopen('https://www.cftc.gov/files/dea/history/com_fin_txt_2016.zip').read())).open('FinComYY.txt'), sep=',', error_bad_lines=False, decimal='.', encoding='gbk', skiprows=0)\n",
        "Cfin_2017 = pd.read_csv(ZipFile(BytesIO(urllib.request.urlopen('https://www.cftc.gov/files/dea/history/com_fin_txt_2017.zip').read())).open('FinComYY.txt'), sep=',', error_bad_lines=False, decimal='.', encoding='gbk', skiprows=0)\n",
        "Cfin_2018 = pd.read_csv(ZipFile(BytesIO(urllib.request.urlopen('https://www.cftc.gov/files/dea/history/com_fin_txt_2018.zip').read())).open('FinComYY.txt'), sep=',', error_bad_lines=False, decimal='.', encoding='gbk', skiprows=0)\n",
        "Cfin_2019 = pd.read_csv(ZipFile(BytesIO(urllib.request.urlopen('https://www.cftc.gov/files/dea/history/com_fin_txt_2019.zip').read())).open('FinComYY.txt'), sep=',', error_bad_lines=False, decimal='.', encoding='gbk', skiprows=0)\n",
        "Cfin_2020 = pd.read_csv(ZipFile(BytesIO(urllib.request.urlopen('https://www.cftc.gov/files/dea/history/com_fin_txt_2020.zip').read())).open('FinComYY.txt'), sep=',', error_bad_lines=False, decimal='.', encoding='gbk', skiprows=0)\n",
        "Cfin_2021 = pd.read_csv(ZipFile(BytesIO(urllib.request.urlopen('https://www.cftc.gov/files/dea/history/com_fin_txt_2021.zip').read())).open('FinComYY.txt'), sep=',', error_bad_lines=False, decimal='.', encoding='gbk', skiprows=0)"
      ],
      "execution_count": 10,
      "outputs": [
        {
          "output_type": "stream",
          "text": [
            "/usr/local/lib/python3.7/dist-packages/IPython/core/interactiveshell.py:2718: DtypeWarning: Columns (3,82) have mixed types.Specify dtype option on import or set low_memory=False.\n",
            "  interactivity=interactivity, compiler=compiler, result=result)\n"
          ],
          "name": "stderr"
        }
      ]
    },
    {
      "cell_type": "code",
      "metadata": {
        "id": "-IBEadaaJTq1"
      },
      "source": [
        "mem.append(memory_usage())"
      ],
      "execution_count": 11,
      "outputs": []
    },
    {
      "cell_type": "code",
      "metadata": {
        "colab": {
          "base_uri": "https://localhost:8080/"
        },
        "id": "5UD0hQRs-Fa0",
        "outputId": "e13b2bfb-9eea-48ce-d86d-f178fbe0eb75"
      },
      "source": [
        "# Futures Only Reports:\n",
        "Fdea_2000 = pd.read_csv(ZipFile(BytesIO(urllib.request.urlopen('https://www.cftc.gov/files/dea/history/deacot2000.zip').read())).open('Annual.TXT'), sep=',', error_bad_lines=False, decimal='.', encoding='gbk', skiprows=0)\n",
        "Fdea_2001 = pd.read_csv(ZipFile(BytesIO(urllib.request.urlopen('https://www.cftc.gov/files/dea/history/deacot2001.zip').read())).open('Annual.TXT'), sep=',', error_bad_lines=False, decimal='.', encoding='gbk', skiprows=0)\n",
        "Fdea_2002 = pd.read_csv(ZipFile(BytesIO(urllib.request.urlopen('https://www.cftc.gov/files/dea/history/deacot2002.zip').read())).open('Annual.TXT'), sep=',', error_bad_lines=False, decimal='.', encoding='gbk', skiprows=0)\n",
        "Fdea_2003 = pd.read_csv(ZipFile(BytesIO(urllib.request.urlopen('https://www.cftc.gov/files/dea/history/deacot2003.zip').read())).open('annual.txt'), sep=',', error_bad_lines=False, decimal='.', encoding='gbk', skiprows=0)\n",
        "Fdea_2004 = pd.read_csv(ZipFile(BytesIO(urllib.request.urlopen('https://www.cftc.gov/files/dea/history/deacot2004.zip').read())).open('annual.txt'), sep=',', error_bad_lines=False, decimal='.', encoding='gbk', skiprows=0)\n",
        "Fdea_2005 = pd.read_csv(ZipFile(BytesIO(urllib.request.urlopen('https://www.cftc.gov/files/dea/history/deacot2005.zip').read())).open('annual.txt'), sep=',', error_bad_lines=False, decimal='.', encoding='gbk', skiprows=0)\n",
        "Fdea_2006 = pd.read_csv(ZipFile(BytesIO(urllib.request.urlopen('https://www.cftc.gov/files/dea/history/deacot2006.zip').read())).open('annual.txt'), sep=',', error_bad_lines=False, decimal='.', encoding='gbk', skiprows=0)\n",
        "Fdea_2007 = pd.read_csv(ZipFile(BytesIO(urllib.request.urlopen('https://www.cftc.gov/files/dea/history/deacot2007.zip').read())).open('annual_2007.txt'), sep=',', error_bad_lines=False, decimal='.', encoding='gbk', skiprows=0)\n",
        "Fdea_2008 = pd.read_csv(ZipFile(BytesIO(urllib.request.urlopen('https://www.cftc.gov/files/dea/history/deacot2008.zip').read())).open('annual.txt'), sep=',', error_bad_lines=False, decimal='.', encoding='gbk', skiprows=0)\n",
        "Fdea_2009 = pd.read_csv(ZipFile(BytesIO(urllib.request.urlopen('https://www.cftc.gov/files/dea/history/deacot2009.zip').read())).open('annual.txt'), sep=',', error_bad_lines=False, decimal='.', encoding='gbk', skiprows=0)\n",
        "Fdea_2010 = pd.read_csv(ZipFile(BytesIO(urllib.request.urlopen('https://www.cftc.gov/files/dea/history/deacot2010.zip').read())).open('annual.txt'), sep=',', error_bad_lines=False, decimal='.', encoding='gbk', skiprows=0)\n",
        "Fdea_2011 = pd.read_csv(ZipFile(BytesIO(urllib.request.urlopen('https://www.cftc.gov/files/dea/history/deacot2011.zip').read())).open('annual.txt'), sep=',', error_bad_lines=False, decimal='.', encoding='gbk', skiprows=0)\n",
        "Fdea_2012 = pd.read_csv(ZipFile(BytesIO(urllib.request.urlopen('https://www.cftc.gov/files/dea/history/deacot2012.zip').read())).open('annual.txt'), sep=',', error_bad_lines=False, decimal='.', encoding='gbk', skiprows=0)\n",
        "Fdea_2013 = pd.read_csv(ZipFile(BytesIO(urllib.request.urlopen('https://www.cftc.gov/files/dea/history/deacot2013.zip').read())).open('annual.txt'), sep=',', error_bad_lines=False, decimal='.', encoding='gbk', skiprows=0)\n",
        "Fdea_2014 = pd.read_csv(ZipFile(BytesIO(urllib.request.urlopen('https://www.cftc.gov/files/dea/history/deacot2014.zip').read())).open('annual.txt'), sep=',', error_bad_lines=False, decimal='.', encoding='gbk', skiprows=0)\n",
        "Fdea_2015 = pd.read_csv(ZipFile(BytesIO(urllib.request.urlopen('https://www.cftc.gov/files/dea/history/deacot2015.zip').read())).open('annual.txt'), sep=',', error_bad_lines=False, decimal='.', encoding='gbk', skiprows=0)\n",
        "Fdea_2016 = pd.read_csv(ZipFile(BytesIO(urllib.request.urlopen('https://www.cftc.gov/files/dea/history/deacot2016.zip').read())).open('annual.txt'), sep=',', error_bad_lines=False, decimal='.', encoding='gbk', skiprows=0)\n",
        "Fdea_2017 = pd.read_csv(ZipFile(BytesIO(urllib.request.urlopen('https://www.cftc.gov/files/dea/history/deacot2017.zip').read())).open('annual.txt'), sep=',', error_bad_lines=False, decimal='.', encoding='gbk', skiprows=0)\n",
        "Fdea_2018 = pd.read_csv(ZipFile(BytesIO(urllib.request.urlopen('https://www.cftc.gov/files/dea/history/deacot2018.zip').read())).open('annual.txt'), sep=',', error_bad_lines=False, decimal='.', encoding='gbk', skiprows=0)\n",
        "Fdea_2019 = pd.read_csv(ZipFile(BytesIO(urllib.request.urlopen('https://www.cftc.gov/files/dea/history/deacot2019.zip').read())).open('annual.txt'), sep=',', error_bad_lines=False, decimal='.', encoding='gbk', skiprows=0)\n",
        "Fdea_2020 = pd.read_csv(ZipFile(BytesIO(urllib.request.urlopen('https://www.cftc.gov/files/dea/history/deacot2020.zip').read())).open('annual.txt'), sep=',', error_bad_lines=False, decimal='.', encoding='gbk', skiprows=0)\n",
        "Fdea_2021 = pd.read_csv(ZipFile(BytesIO(urllib.request.urlopen('https://www.cftc.gov/files/dea/history/deacot2021.zip').read())).open('annual.txt'), sep=',', error_bad_lines=False, decimal='.', encoding='gbk', skiprows=0)"
      ],
      "execution_count": 12,
      "outputs": [
        {
          "output_type": "stream",
          "text": [
            "/usr/local/lib/python3.7/dist-packages/IPython/core/interactiveshell.py:2718: DtypeWarning: Columns (3,37,38,39,40,41,42,43,44,45,46,126) have mixed types.Specify dtype option on import or set low_memory=False.\n",
            "  interactivity=interactivity, compiler=compiler, result=result)\n"
          ],
          "name": "stderr"
        }
      ]
    },
    {
      "cell_type": "code",
      "metadata": {
        "id": "kLKyySr4JV5k"
      },
      "source": [
        "mem.append(memory_usage())"
      ],
      "execution_count": 13,
      "outputs": []
    },
    {
      "cell_type": "code",
      "metadata": {
        "id": "s8n6iniRCjSE"
      },
      "source": [
        "# Futures-and-Options Combined Reports:\n",
        "Cdea_2000 = pd.read_csv(ZipFile(BytesIO(urllib.request.urlopen('https://www.cftc.gov/files/dea/history/deahistfo_2000.zip').read())).open('AnnualOF2000.txt'), sep=',', error_bad_lines=False, decimal='.', encoding='gbk', skiprows=0)\n",
        "Cdea_2001 = pd.read_csv(ZipFile(BytesIO(urllib.request.urlopen('https://www.cftc.gov/files/dea/history/deahistfo_2001.zip').read())).open('AnnualOF2001.txt'), sep=',', error_bad_lines=False, decimal='.', encoding='gbk', skiprows=0)\n",
        "Cdea_2002 = pd.read_csv(ZipFile(BytesIO(urllib.request.urlopen('https://www.cftc.gov/files/dea/history/deahistfo_2002.zip').read())).open('annualof_2002.txt'), sep=',', error_bad_lines=False, decimal='.', encoding='gbk', skiprows=0)\n",
        "Cdea_2003 = pd.read_csv(ZipFile(BytesIO(urllib.request.urlopen('https://www.cftc.gov/files/dea/history/deahistfo_2003.zip').read())).open('AnnualOF2003.txt'), sep=',', error_bad_lines=False, decimal='.', encoding='gbk', skiprows=0)\n",
        "Cdea_2004 = pd.read_csv(ZipFile(BytesIO(urllib.request.urlopen('https://www.cftc.gov/files/dea/history/deahistfo2004.zip').read())).open('annualof.txt'), sep=',', error_bad_lines=False, decimal='.', encoding='gbk', skiprows=0)\n",
        "Cdea_2005 = pd.read_csv(ZipFile(BytesIO(urllib.request.urlopen('https://www.cftc.gov/files/dea/history/deahistfo2005.zip').read())).open('annualof.txt'), sep=',', error_bad_lines=False, decimal='.', encoding='gbk', skiprows=0)\n",
        "Cdea_2006 = pd.read_csv(ZipFile(BytesIO(urllib.request.urlopen('https://www.cftc.gov/files/dea/history/deahistfo2006.zip').read())).open('annualof.txt'), sep=',', error_bad_lines=False, decimal='.', encoding='gbk', skiprows=0)\n",
        "Cdea_2007 = pd.read_csv(ZipFile(BytesIO(urllib.request.urlopen('https://www.cftc.gov/files/dea/history/deahistfo2007.zip').read())).open('annualof_2007.txt'), sep=',', error_bad_lines=False, decimal='.', encoding='gbk', skiprows=0)\n",
        "Cdea_2008 = pd.read_csv(ZipFile(BytesIO(urllib.request.urlopen('https://www.cftc.gov/files/dea/history/deahistfo2008.zip').read())).open('annualof.txt'), sep=',', error_bad_lines=False, decimal='.', encoding='gbk', skiprows=0)\n",
        "Cdea_2009 = pd.read_csv(ZipFile(BytesIO(urllib.request.urlopen('https://www.cftc.gov/files/dea/history/deahistfo2009.zip').read())).open('annualof.txt'), sep=',', error_bad_lines=False, decimal='.', encoding='gbk', skiprows=0)\n",
        "Cdea_2010 = pd.read_csv(ZipFile(BytesIO(urllib.request.urlopen('https://www.cftc.gov/files/dea/history/deahistfo2010.zip').read())).open('annualof.txt'), sep=',', error_bad_lines=False, decimal='.', encoding='gbk', skiprows=0)\n",
        "Cdea_2011 = pd.read_csv(ZipFile(BytesIO(urllib.request.urlopen('https://www.cftc.gov/files/dea/history/deahistfo2011.zip').read())).open('annualof.txt'), sep=',', error_bad_lines=False, decimal='.', encoding='gbk', skiprows=0)\n",
        "Cdea_2012 = pd.read_csv(ZipFile(BytesIO(urllib.request.urlopen('https://www.cftc.gov/files/dea/history/deahistfo2012.zip').read())).open('annualof.txt'), sep=',', error_bad_lines=False, decimal='.', encoding='gbk', skiprows=0)\n",
        "Cdea_2013 = pd.read_csv(ZipFile(BytesIO(urllib.request.urlopen('https://www.cftc.gov/files/dea/history/deahistfo2013.zip').read())).open('annualof.txt'), sep=',', error_bad_lines=False, decimal='.', encoding='gbk', skiprows=0)\n",
        "Cdea_2014 = pd.read_csv(ZipFile(BytesIO(urllib.request.urlopen('https://www.cftc.gov/files/dea/history/deahistfo2014.zip').read())).open('annualof.txt'), sep=',', error_bad_lines=False, decimal='.', encoding='gbk', skiprows=0)\n",
        "Cdea_2015 = pd.read_csv(ZipFile(BytesIO(urllib.request.urlopen('https://www.cftc.gov/files/dea/history/deahistfo2015.zip').read())).open('annualof.txt'), sep=',', error_bad_lines=False, decimal='.', encoding='gbk', skiprows=0)\n",
        "Cdea_2016 = pd.read_csv(ZipFile(BytesIO(urllib.request.urlopen('https://www.cftc.gov/files/dea/history/deahistfo2016.zip').read())).open('annualof.txt'), sep=',', error_bad_lines=False, decimal='.', encoding='gbk', skiprows=0)\n",
        "Cdea_2017 = pd.read_csv(ZipFile(BytesIO(urllib.request.urlopen('https://www.cftc.gov/files/dea/history/deahistfo2017.zip').read())).open('annualof.txt'), sep=',', error_bad_lines=False, decimal='.', encoding='gbk', skiprows=0)\n",
        "Cdea_2018 = pd.read_csv(ZipFile(BytesIO(urllib.request.urlopen('https://www.cftc.gov/files/dea/history/deahistfo2018.zip').read())).open('annualof.txt'), sep=',', error_bad_lines=False, decimal='.', encoding='gbk', skiprows=0)\n",
        "Cdea_2019 = pd.read_csv(ZipFile(BytesIO(urllib.request.urlopen('https://www.cftc.gov/files/dea/history/deahistfo2019.zip').read())).open('annualof.txt'), sep=',', error_bad_lines=False, decimal='.', encoding='gbk', skiprows=0)\n",
        "Cdea_2020 = pd.read_csv(ZipFile(BytesIO(urllib.request.urlopen('https://www.cftc.gov/files/dea/history/deahistfo2020.zip').read())).open('annualof.txt'), sep=',', error_bad_lines=False, decimal='.', encoding='gbk', skiprows=0)\n",
        "Cdea_2021 = pd.read_csv(ZipFile(BytesIO(urllib.request.urlopen('https://www.cftc.gov/files/dea/history/deahistfo2021.zip').read())).open('annualof.txt'), sep=',', error_bad_lines=False, decimal='.', encoding='gbk', skiprows=0)"
      ],
      "execution_count": 14,
      "outputs": []
    },
    {
      "cell_type": "code",
      "metadata": {
        "id": "P0xXlS0zJWcl"
      },
      "source": [
        "mem.append(memory_usage())"
      ],
      "execution_count": 15,
      "outputs": []
    },
    {
      "cell_type": "code",
      "metadata": {
        "id": "DEUFb-AV-I1J"
      },
      "source": [
        "# Commodity Index Trader Supplement:\n",
        "deacit_2006_2016 = pd.read_csv(ZipFile(BytesIO(urllib.request.urlopen('https://www.cftc.gov/files/dea/history/dea_cit_txt_2006_2016.zip').read())).open('CIT06_16.txt'), sep=',', error_bad_lines=False, decimal='.', encoding='gbk', skiprows=0)\n",
        "deacit_2006 = pd.read_csv(ZipFile(BytesIO(urllib.request.urlopen('https://www.cftc.gov/files/dea/history/dea_cit_txt_2006.zip').read())).open('annualci2006.txt'), sep=',', error_bad_lines=False, decimal='.', encoding='gbk', skiprows=0)\n",
        "deacit_2007 = pd.read_csv(ZipFile(BytesIO(urllib.request.urlopen('https://www.cftc.gov/files/dea/history/dea_cit_txt_2007.zip').read())).open('annualci.txt'), sep=',', error_bad_lines=False, decimal='.', encoding='gbk', skiprows=0)\n",
        "deacit_2008 = pd.read_csv(ZipFile(BytesIO(urllib.request.urlopen('https://www.cftc.gov/files/dea/history/dea_cit_txt_2008.zip').read())).open('annualci.txt'), sep=',', error_bad_lines=False, decimal='.', encoding='gbk', skiprows=0)\n",
        "deacit_2009 = pd.read_csv(ZipFile(BytesIO(urllib.request.urlopen('https://www.cftc.gov/files/dea/history/dea_cit_txt_2009.zip').read())).open('annualci.txt'), sep=',', error_bad_lines=False, decimal='.', encoding='gbk', skiprows=0)\n",
        "deacit_2010 = pd.read_csv(ZipFile(BytesIO(urllib.request.urlopen('https://www.cftc.gov/files/dea/history/dea_cit_txt_2010.zip').read())).open('annualci.txt'), sep=',', error_bad_lines=False, decimal='.', encoding='gbk', skiprows=0)\n",
        "deacit_2011 = pd.read_csv(ZipFile(BytesIO(urllib.request.urlopen('https://www.cftc.gov/files/dea/history/dea_cit_txt_2011.zip').read())).open('annualci.txt'), sep=',', error_bad_lines=False, decimal='.', encoding='gbk', skiprows=0)\n",
        "deacit_2012 = pd.read_csv(ZipFile(BytesIO(urllib.request.urlopen('https://www.cftc.gov/files/dea/history/dea_cit_txt_2012.zip').read())).open('annualci.txt'), sep=',', error_bad_lines=False, decimal='.', encoding='gbk', skiprows=0)\n",
        "deacit_2013 = pd.read_csv(ZipFile(BytesIO(urllib.request.urlopen('https://www.cftc.gov/files/dea/history/dea_cit_txt_2013.zip').read())).open('annualci.txt'), sep=',', error_bad_lines=False, decimal='.', encoding='gbk', skiprows=0)\n",
        "deacit_2014 = pd.read_csv(ZipFile(BytesIO(urllib.request.urlopen('https://www.cftc.gov/files/dea/history/dea_cit_txt_2014.zip').read())).open('annualci.txt'), sep=',', error_bad_lines=False, decimal='.', encoding='gbk', skiprows=0)\n",
        "deacit_2015 = pd.read_csv(ZipFile(BytesIO(urllib.request.urlopen('https://www.cftc.gov/files/dea/history/dea_cit_txt_2015.zip').read())).open('annualci.txt'), sep=',', error_bad_lines=False, decimal='.', encoding='gbk', skiprows=0)\n",
        "deacit_2016 = pd.read_csv(ZipFile(BytesIO(urllib.request.urlopen('https://www.cftc.gov/files/dea/history/dea_cit_txt_2016.zip').read())).open('annualci.txt'), sep=',', error_bad_lines=False, decimal='.', encoding='gbk', skiprows=0)\n",
        "deacit_2017 = pd.read_csv(ZipFile(BytesIO(urllib.request.urlopen('https://www.cftc.gov/files/dea/history/dea_cit_txt_2017.zip').read())).open('annualci.txt'), sep=',', error_bad_lines=False, decimal='.', encoding='gbk', skiprows=0)\n",
        "deacit_2018 = pd.read_csv(ZipFile(BytesIO(urllib.request.urlopen('https://www.cftc.gov/files/dea/history/dea_cit_txt_2018.zip').read())).open('annualci.txt'), sep=',', error_bad_lines=False, decimal='.', encoding='gbk', skiprows=0)\n",
        "deacit_2019 = pd.read_csv(ZipFile(BytesIO(urllib.request.urlopen('https://www.cftc.gov/files/dea/history/dea_cit_txt_2019.zip').read())).open('annualci.txt'), sep=',', error_bad_lines=False, decimal='.', encoding='gbk', skiprows=0)\n",
        "deacit_2020 = pd.read_csv(ZipFile(BytesIO(urllib.request.urlopen('https://www.cftc.gov/files/dea/history/dea_cit_txt_2020.zip').read())).open('annualci.txt'), sep=',', error_bad_lines=False, decimal='.', encoding='gbk', skiprows=0)\n",
        "deacit_2021 = pd.read_csv(ZipFile(BytesIO(urllib.request.urlopen('https://www.cftc.gov/files/dea/history/dea_cit_txt_2021.zip').read())).open('annualci.txt'), sep=',', error_bad_lines=False, decimal='.', encoding='gbk', skiprows=0)"
      ],
      "execution_count": 16,
      "outputs": []
    },
    {
      "cell_type": "code",
      "metadata": {
        "id": "apRgFf74JW5W"
      },
      "source": [
        "mem.append(memory_usage())"
      ],
      "execution_count": 17,
      "outputs": []
    },
    {
      "cell_type": "code",
      "metadata": {
        "colab": {
          "base_uri": "https://localhost:8080/",
          "height": 353
        },
        "id": "ObqNQEm88m5b",
        "outputId": "3ace883a-00a8-4e80-92d4-cf9dee52c9ea"
      },
      "source": [
        "print(mem)\n",
        "plt.figure(figsize=(15,5))\n",
        "plt.plot(mem)\n",
        "plt.title('RAM Mb')\n",
        "plt.show()"
      ],
      "execution_count": 18,
      "outputs": [
        {
          "output_type": "stream",
          "text": [
            "[[538.08203125], [910.984375], [942.3046875], [975.0859375], [1198.4296875], [1442.9453125], [1449.0]]\n"
          ],
          "name": "stdout"
        },
        {
          "output_type": "display_data",
          "data": {
            "image/png": "[encoded data removed]",
            "text/plain": [
              "<Figure size 1080x360 with 1 Axes>"
            ]
          },
          "metadata": {
            "tags": [],
            "needs_background": "light"
          }
        }
      ]
    },
    {
      "cell_type": "code",
      "metadata": {
        "colab": {
          "base_uri": "https://localhost:8080/"
        },
        "id": "Q8EYtiYOUI-C",
        "outputId": "6f4a4435-44e9-4ac0-a227-fe705d991a66"
      },
      "source": [
        "Fdisagg_2010_now = []\n",
        "Fdisagg_2010_now = Fdisagg_2010\n",
        "Fdisagg_2010_now.append(Fdisagg_2011)\n",
        "Fdisagg_2010_now.append(Fdisagg_2012)\n",
        "Fdisagg_2010_now.append(Fdisagg_2013)\n",
        "Fdisagg_2010_now.append(Fdisagg_2014)\n",
        "Fdisagg_2010_now.append(Fdisagg_2015)\n",
        "Fdisagg_2010_now.append(Fdisagg_2016)\n",
        "Fdisagg_2010_now.append(Fdisagg_2017)\n",
        "Fdisagg_2010_now.append(Fdisagg_2018)\n",
        "Fdisagg_2010_now.append(Fdisagg_2019)\n",
        "Fdisagg_2010_now.append(Fdisagg_2020)\n",
        "Fdisagg_2010_now.append(Fdisagg_2021)\n",
        "\n",
        "print()\n",
        "# исправить столбец дат"
      ],
      "execution_count": 19,
      "outputs": [
        {
          "output_type": "stream",
          "text": [
            "\n"
          ],
          "name": "stdout"
        }
      ]
    },
    {
      "cell_type": "code",
      "metadata": {
        "id": "rW41XRC6WBTf"
      },
      "source": [
        "mem.append(memory_usage())"
      ],
      "execution_count": 20,
      "outputs": []
    },
    {
      "cell_type": "code",
      "metadata": {
        "colab": {
          "base_uri": "https://localhost:8080/"
        },
        "id": "vHakBHu4WMR_",
        "outputId": "47fcae2c-2b6e-437d-8aef-6a1ad1cee96f"
      },
      "source": [
        "Ffin_2010_now = []\n",
        "Ffin_2010_now = Ffin_2010\n",
        "Ffin_2010_now.append(Ffin_2011)\n",
        "Ffin_2010_now.append(Ffin_2012)\n",
        "Ffin_2010_now.append(Ffin_2013)\n",
        "Ffin_2010_now.append(Ffin_2014)\n",
        "Ffin_2010_now.append(Ffin_2015)\n",
        "Ffin_2010_now.append(Ffin_2016)\n",
        "Ffin_2010_now.append(Ffin_2017)\n",
        "Ffin_2010_now.append(Ffin_2018)\n",
        "Ffin_2010_now.append(Ffin_2019)\n",
        "Ffin_2010_now.append(Ffin_2020)\n",
        "Ffin_2010_now.append(Ffin_2021)\n",
        "\n",
        "print()\n",
        "# исправить столбец дат"
      ],
      "execution_count": 21,
      "outputs": [
        {
          "output_type": "stream",
          "text": [
            "\n"
          ],
          "name": "stdout"
        }
      ]
    },
    {
      "cell_type": "code",
      "metadata": {
        "id": "EhNwoZeGWpXs"
      },
      "source": [
        "mem.append(memory_usage())"
      ],
      "execution_count": 22,
      "outputs": []
    },
    {
      "cell_type": "code",
      "metadata": {
        "colab": {
          "base_uri": "https://localhost:8080/",
          "height": 353
        },
        "id": "-YF8zPpuWsqG",
        "outputId": "51d37688-4e98-48b7-a2b9-029790ecc50a"
      },
      "source": [
        "print(mem)\n",
        "plt.figure(figsize=(15,5))\n",
        "plt.plot(mem)\n",
        "plt.title('RAM Mb')\n",
        "plt.show()"
      ],
      "execution_count": 23,
      "outputs": [
        {
          "output_type": "stream",
          "text": [
            "[[538.08203125], [910.984375], [942.3046875], [975.0859375], [1198.4296875], [1442.9453125], [1449.0], [1457.40625], [1457.66015625]]\n"
          ],
          "name": "stdout"
        },
        {
          "output_type": "display_data",
          "data": {
            "image/png": "[encoded data removed]",
            "text/plain": [
              "<Figure size 1080x360 with 1 Axes>"
            ]
          },
          "metadata": {
            "tags": [],
            "needs_background": "light"
          }
        }
      ]
    }
  ]
}