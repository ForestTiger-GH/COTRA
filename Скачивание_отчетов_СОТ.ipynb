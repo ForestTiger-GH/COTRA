{
  "nbformat": 4,
  "nbformat_minor": 0,
  "metadata": {
    "colab": {
      "name": "Скачивание_отчетов_СОТ",
      "provenance": [],
      "collapsed_sections": [
        "V9Mee4xB7QH7"
      ],
      "toc_visible": true
    },
    "kernelspec": {
      "name": "python3",
      "display_name": "Python 3"
    }
  },
  "cells": [
    {
      "cell_type": "markdown",
      "metadata": {
        "id": "kCUts7IDMe6g"
      },
      "source": [
        "# Загрузка отчетов 'Commitments of Traders'\n",
        "**С начала отсчета до 2021**"
      ]
    },
    {
      "cell_type": "markdown",
      "metadata": {
        "id": "jOW5l5DHMGzS"
      },
      "source": [
        "Отчеты разделены на четыре категории:\n",
        "*   Disaggregated Futures\n",
        "*   Traders in Financial Futures\n",
        "*   Legacy Reports\n",
        "*   Commodity Index Trader Supplement\n",
        "\n",
        "А также на две группы:\n",
        "\n",
        "\n",
        "*   Futures only\n",
        "*   Futures-and-Options Combined\n",
        "\n",
        "Отчеты Legacy загружены с 2000 года.\n"
      ]
    },
    {
      "cell_type": "markdown",
      "metadata": {
        "id": "h-WNlvcI7NRl"
      },
      "source": [
        "# Импорт библиотек"
      ]
    },
    {
      "cell_type": "code",
      "metadata": {
        "id": "TIw69Ynx19cj"
      },
      "source": [
        "import numpy as np\n",
        "import pandas as pd\n",
        "\n",
        "import urllib.request\n",
        "from zipfile import ZipFile\n",
        "from io import BytesIO\n",
        "\n",
        "import matplotlib.pyplot as plt"
      ],
      "execution_count": 8,
      "outputs": []
    },
    {
      "cell_type": "markdown",
      "metadata": {
        "id": "V9Mee4xB7QH7"
      },
      "source": [
        "# Загрузка архивов"
      ]
    },
    {
      "cell_type": "code",
      "metadata": {
        "colab": {
          "base_uri": "https://localhost:8080/"
        },
        "id": "4_j6kgUh88uk",
        "outputId": "8623957b-632f-47f2-9c10-2182dcac121c"
      },
      "source": [
        "# Disaggregated Futures Only Reports:\n",
        "Fdisagg_2006_2016 = pd.read_csv(ZipFile(BytesIO(urllib.request.urlopen('https://www.cftc.gov/files/dea/history/fut_disagg_txt_hist_2006_2016.zip').read())).open('F_Disagg06_16.txt'), sep=',', error_bad_lines=False, decimal='.', encoding='gbk', skiprows=0).rename(columns={'Report_Date_as_MM_DD_YYYY': 'Report_Date_as_YYYY-MM-DD'})\n",
        "Fdisagg_2010 = pd.read_csv(ZipFile(BytesIO(urllib.request.urlopen('https://www.cftc.gov/files/dea/history/fut_disagg_txt_2010.zip').read())).open('f_year.txt'), sep=',', error_bad_lines=False, decimal='.', encoding='gbk', skiprows=0).rename(columns={'Report_Date_as_MM_DD_YYYY': 'Report_Date_as_YYYY-MM-DD'})\n",
        "Fdisagg_2011 = pd.read_csv(ZipFile(BytesIO(urllib.request.urlopen('https://www.cftc.gov/files/dea/history/fut_disagg_txt_2011.zip').read())).open('f_year.txt'), sep=',', error_bad_lines=False, decimal='.', encoding='gbk', skiprows=0).rename(columns={'Report_Date_as_MM_DD_YYYY': 'Report_Date_as_YYYY-MM-DD'})\n",
        "Fdisagg_2012 = pd.read_csv(ZipFile(BytesIO(urllib.request.urlopen('https://www.cftc.gov/files/dea/history/fut_disagg_txt_2012.zip').read())).open('f_year.txt'), sep=',', error_bad_lines=False, decimal='.', encoding='gbk', skiprows=0).rename(columns={'Report_Date_as_MM_DD_YYYY': 'Report_Date_as_YYYY-MM-DD'})\n",
        "Fdisagg_2013 = pd.read_csv(ZipFile(BytesIO(urllib.request.urlopen('https://www.cftc.gov/files/dea/history/fut_disagg_txt_2013.zip').read())).open('f_year.txt'), sep=',', error_bad_lines=False, decimal='.', encoding='gbk', skiprows=0).rename(columns={'Report_Date_as_MM_DD_YYYY': 'Report_Date_as_YYYY-MM-DD'})\n",
        "Fdisagg_2014 = pd.read_csv(ZipFile(BytesIO(urllib.request.urlopen('https://www.cftc.gov/files/dea/history/fut_disagg_txt_2014.zip').read())).open('f_year.txt'), sep=',', error_bad_lines=False, decimal='.', encoding='gbk', skiprows=0).rename(columns={'Report_Date_as_MM_DD_YYYY': 'Report_Date_as_YYYY-MM-DD'})\n",
        "Fdisagg_2015 = pd.read_csv(ZipFile(BytesIO(urllib.request.urlopen('https://www.cftc.gov/files/dea/history/fut_disagg_txt_2015.zip').read())).open('f_year.txt'), sep=',', error_bad_lines=False, decimal='.', encoding='gbk', skiprows=0).rename(columns={'Report_Date_as_MM_DD_YYYY': 'Report_Date_as_YYYY-MM-DD'})\n",
        "Fdisagg_2016 = pd.read_csv(ZipFile(BytesIO(urllib.request.urlopen('https://www.cftc.gov/files/dea/history/fut_disagg_txt_2016.zip').read())).open('f_year.txt'), sep=',', error_bad_lines=False, decimal='.', encoding='gbk', skiprows=0).rename(columns={'Report_Date_as_MM_DD_YYYY': 'Report_Date_as_YYYY-MM-DD'})\n",
        "Fdisagg_2017 = pd.read_csv(ZipFile(BytesIO(urllib.request.urlopen('https://www.cftc.gov/files/dea/history/fut_disagg_txt_2017.zip').read())).open('f_year.txt'), sep=',', error_bad_lines=False, decimal='.', encoding='gbk', skiprows=0).rename(columns={'Report_Date_as_MM_DD_YYYY': 'Report_Date_as_YYYY-MM-DD'})\n",
        "Fdisagg_2018 = pd.read_csv(ZipFile(BytesIO(urllib.request.urlopen('https://www.cftc.gov/files/dea/history/fut_disagg_txt_2018.zip').read())).open('f_year.txt'), sep=',', error_bad_lines=False, decimal='.', encoding='gbk', skiprows=0).rename(columns={'Report_Date_as_MM_DD_YYYY': 'Report_Date_as_YYYY-MM-DD'})\n",
        "Fdisagg_2019 = pd.read_csv(ZipFile(BytesIO(urllib.request.urlopen('https://www.cftc.gov/files/dea/history/fut_disagg_txt_2019.zip').read())).open('f_year.txt'), sep=',', error_bad_lines=False, decimal='.', encoding='gbk', skiprows=0).rename(columns={'Report_Date_as_MM_DD_YYYY': 'Report_Date_as_YYYY-MM-DD'})\n",
        "Fdisagg_2020 = pd.read_csv(ZipFile(BytesIO(urllib.request.urlopen('https://www.cftc.gov/files/dea/history/fut_disagg_txt_2020.zip').read())).open('f_year.txt'), sep=',', error_bad_lines=False, decimal='.', encoding='gbk', skiprows=0).rename(columns={'Report_Date_as_MM_DD_YYYY': 'Report_Date_as_YYYY-MM-DD'})\n",
        "Fdisagg_2021 = pd.read_csv(ZipFile(BytesIO(urllib.request.urlopen('https://www.cftc.gov/files/dea/history/fut_disagg_txt_2021.zip').read())).open('f_year.txt'), sep=',', error_bad_lines=False, decimal='.', encoding='gbk', skiprows=0).rename(columns={'Report_Date_as_MM_DD_YYYY': 'Report_Date_as_YYYY-MM-DD'})"
      ],
      "execution_count": 9,
      "outputs": [
        {
          "output_type": "stream",
          "text": [
            "/usr/local/lib/python3.7/dist-packages/IPython/core/interactiveshell.py:2718: DtypeWarning: Columns (3,120,121,125,133,134,135,145,146,147,148,149,150,151,152,153,154,155,156,157,158,159,160,186) have mixed types.Specify dtype option on import or set low_memory=False.\n",
            "  interactivity=interactivity, compiler=compiler, result=result)\n",
            "/usr/local/lib/python3.7/dist-packages/IPython/core/interactiveshell.py:2718: DtypeWarning: Columns (133,145,146,147,148,149,159,160) have mixed types.Specify dtype option on import or set low_memory=False.\n",
            "  interactivity=interactivity, compiler=compiler, result=result)\n",
            "/usr/local/lib/python3.7/dist-packages/IPython/core/interactiveshell.py:2718: DtypeWarning: Columns (133,147,148,149,150,159,160) have mixed types.Specify dtype option on import or set low_memory=False.\n",
            "  interactivity=interactivity, compiler=compiler, result=result)\n",
            "/usr/local/lib/python3.7/dist-packages/IPython/core/interactiveshell.py:2718: DtypeWarning: Columns (147,148,149,150,159,160) have mixed types.Specify dtype option on import or set low_memory=False.\n",
            "  interactivity=interactivity, compiler=compiler, result=result)\n",
            "/usr/local/lib/python3.7/dist-packages/IPython/core/interactiveshell.py:2718: DtypeWarning: Columns (120,121,134,135,145,146,147,148,149,150,151,152,153,154,155,156,157,158,159,160) have mixed types.Specify dtype option on import or set low_memory=False.\n",
            "  interactivity=interactivity, compiler=compiler, result=result)\n",
            "/usr/local/lib/python3.7/dist-packages/IPython/core/interactiveshell.py:2718: DtypeWarning: Columns (120,133,134,145,146,147,148,149,150,151,152,153,154,155,156,157,158,159,160) have mixed types.Specify dtype option on import or set low_memory=False.\n",
            "  interactivity=interactivity, compiler=compiler, result=result)\n",
            "/usr/local/lib/python3.7/dist-packages/IPython/core/interactiveshell.py:2718: DtypeWarning: Columns (133,145,146,147,148,149,157,159,160) have mixed types.Specify dtype option on import or set low_memory=False.\n",
            "  interactivity=interactivity, compiler=compiler, result=result)\n",
            "/usr/local/lib/python3.7/dist-packages/IPython/core/interactiveshell.py:2718: DtypeWarning: Columns (146,147,148,149,159,160) have mixed types.Specify dtype option on import or set low_memory=False.\n",
            "  interactivity=interactivity, compiler=compiler, result=result)\n",
            "/usr/local/lib/python3.7/dist-packages/IPython/core/interactiveshell.py:2718: DtypeWarning: Columns (133,145,147,159,160) have mixed types.Specify dtype option on import or set low_memory=False.\n",
            "  interactivity=interactivity, compiler=compiler, result=result)\n",
            "/usr/local/lib/python3.7/dist-packages/IPython/core/interactiveshell.py:2718: DtypeWarning: Columns (133,145,147,160) have mixed types.Specify dtype option on import or set low_memory=False.\n",
            "  interactivity=interactivity, compiler=compiler, result=result)\n",
            "/usr/local/lib/python3.7/dist-packages/IPython/core/interactiveshell.py:2718: DtypeWarning: Columns (120,133,146,147,149,159,160) have mixed types.Specify dtype option on import or set low_memory=False.\n",
            "  interactivity=interactivity, compiler=compiler, result=result)\n"
          ],
          "name": "stderr"
        }
      ]
    },
    {
      "cell_type": "code",
      "metadata": {
        "id": "ePeaC663CYVt"
      },
      "source": [
        "# Disaggregated Futures-and-Options Combined Reports:\n",
        "Cdisagg_2006_2016 = pd.read_csv(ZipFile(BytesIO(urllib.request.urlopen('https://www.cftc.gov/files/dea/history/com_disagg_txt_hist_2006_2016.zip').read())).open('C_Disagg06_16.txt'), sep=',', error_bad_lines=False, decimal='.', encoding='gbk', skiprows=0)\n",
        "Cdisagg_2010 = pd.read_csv(ZipFile(BytesIO(urllib.request.urlopen('https://www.cftc.gov/files/dea/history/com_disagg_txt_2010.zip').read())).open('c_year.txt'), sep=',', error_bad_lines=False, decimal='.', encoding='gbk', skiprows=0)\n",
        "Cdisagg_2011 = pd.read_csv(ZipFile(BytesIO(urllib.request.urlopen('https://www.cftc.gov/files/dea/history/com_disagg_txt_2011.zip').read())).open('c_year.txt'), sep=',', error_bad_lines=False, decimal='.', encoding='gbk', skiprows=0)\n",
        "Cdisagg_2012 = pd.read_csv(ZipFile(BytesIO(urllib.request.urlopen('https://www.cftc.gov/files/dea/history/com_disagg_txt_2012.zip').read())).open('c_year.txt'), sep=',', error_bad_lines=False, decimal='.', encoding='gbk', skiprows=0)\n",
        "Cdisagg_2013 = pd.read_csv(ZipFile(BytesIO(urllib.request.urlopen('https://www.cftc.gov/files/dea/history/com_disagg_txt_2013.zip').read())).open('c_year.txt'), sep=',', error_bad_lines=False, decimal='.', encoding='gbk', skiprows=0)\n",
        "Cdisagg_2014 = pd.read_csv(ZipFile(BytesIO(urllib.request.urlopen('https://www.cftc.gov/files/dea/history/com_disagg_txt_2014.zip').read())).open('c_year.txt'), sep=',', error_bad_lines=False, decimal='.', encoding='gbk', skiprows=0)\n",
        "Cdisagg_2015 = pd.read_csv(ZipFile(BytesIO(urllib.request.urlopen('https://www.cftc.gov/files/dea/history/com_disagg_txt_2015.zip').read())).open('c_year.txt'), sep=',', error_bad_lines=False, decimal='.', encoding='gbk', skiprows=0)\n",
        "Cdisagg_2016 = pd.read_csv(ZipFile(BytesIO(urllib.request.urlopen('https://www.cftc.gov/files/dea/history/com_disagg_txt_2016.zip').read())).open('c_year.txt'), sep=',', error_bad_lines=False, decimal='.', encoding='gbk', skiprows=0)\n",
        "Cdisagg_2017 = pd.read_csv(ZipFile(BytesIO(urllib.request.urlopen('https://www.cftc.gov/files/dea/history/com_disagg_txt_2017.zip').read())).open('c_year.txt'), sep=',', error_bad_lines=False, decimal='.', encoding='gbk', skiprows=0)\n",
        "Cdisagg_2018 = pd.read_csv(ZipFile(BytesIO(urllib.request.urlopen('https://www.cftc.gov/files/dea/history/com_disagg_txt_2018.zip').read())).open('c_year.txt'), sep=',', error_bad_lines=False, decimal='.', encoding='gbk', skiprows=0)\n",
        "Cdisagg_2019 = pd.read_csv(ZipFile(BytesIO(urllib.request.urlopen('https://www.cftc.gov/files/dea/history/com_disagg_txt_2019.zip').read())).open('c_year.txt'), sep=',', error_bad_lines=False, decimal='.', encoding='gbk', skiprows=0)\n",
        "Cdisagg_2020 = pd.read_csv(ZipFile(BytesIO(urllib.request.urlopen('https://www.cftc.gov/files/dea/history/com_disagg_txt_2020.zip').read())).open('c_year.txt'), sep=',', error_bad_lines=False, decimal='.', encoding='gbk', skiprows=0)\n",
        "Cdisagg_2021 = pd.read_csv(ZipFile(BytesIO(urllib.request.urlopen('https://www.cftc.gov/files/dea/history/com_disagg_txt_2021.zip').read())).open('c_year.txt'), sep=',', error_bad_lines=False, decimal='.', encoding='gbk', skiprows=0)"
      ],
      "execution_count": null,
      "outputs": []
    },
    {
      "cell_type": "code",
      "metadata": {
        "colab": {
          "base_uri": "https://localhost:8080/"
        },
        "id": "-_DYowEL9jpE",
        "outputId": "ee426555-bb97-4cab-d4a7-867192c0ce2c"
      },
      "source": [
        "# Traders in Financial Futures ; Futures Only Reports:\n",
        "Ffin_2006_2016 = pd.read_csv(ZipFile(BytesIO(urllib.request.urlopen('https://www.cftc.gov/files/dea/history/fin_fut_txt_2006_2016.zip').read())).open('F_TFF_2006_2016.txt'), sep=',', error_bad_lines=False, decimal='.', encoding='gbk', skiprows=0).rename(columns={'Report_Date_as_MM_DD_YYYY': 'Report_Date_as_YYYY-MM-DD'})\n",
        "Ffin_2010 = pd.read_csv(ZipFile(BytesIO(urllib.request.urlopen('https://www.cftc.gov/files/dea/history/fut_fin_txt_2010.zip').read())).open('FinFutYY.txt'), sep=',', error_bad_lines=False, decimal='.', encoding='gbk', skiprows=0).rename(columns={'Report_Date_as_MM_DD_YYYY': 'Report_Date_as_YYYY-MM-DD'})\n",
        "Ffin_2011 = pd.read_csv(ZipFile(BytesIO(urllib.request.urlopen('https://www.cftc.gov/files/dea/history/fut_fin_txt_2011.zip').read())).open('FinFutYY.txt'), sep=',', error_bad_lines=False, decimal='.', encoding='gbk', skiprows=0).rename(columns={'Report_Date_as_MM_DD_YYYY': 'Report_Date_as_YYYY-MM-DD'})\n",
        "Ffin_2012 = pd.read_csv(ZipFile(BytesIO(urllib.request.urlopen('https://www.cftc.gov/files/dea/history/fut_fin_txt_2012.zip').read())).open('FinFutYY.txt'), sep=',', error_bad_lines=False, decimal='.', encoding='gbk', skiprows=0).rename(columns={'Report_Date_as_MM_DD_YYYY': 'Report_Date_as_YYYY-MM-DD'})\n",
        "Ffin_2013 = pd.read_csv(ZipFile(BytesIO(urllib.request.urlopen('https://www.cftc.gov/files/dea/history/fut_fin_txt_2013.zip').read())).open('FinFutYY.txt'), sep=',', error_bad_lines=False, decimal='.', encoding='gbk', skiprows=0).rename(columns={'Report_Date_as_MM_DD_YYYY': 'Report_Date_as_YYYY-MM-DD'})\n",
        "Ffin_2014 = pd.read_csv(ZipFile(BytesIO(urllib.request.urlopen('https://www.cftc.gov/files/dea/history/fut_fin_txt_2014.zip').read())).open('FinFutYY.txt'), sep=',', error_bad_lines=False, decimal='.', encoding='gbk', skiprows=0).rename(columns={'Report_Date_as_MM_DD_YYYY': 'Report_Date_as_YYYY-MM-DD'})\n",
        "Ffin_2015 = pd.read_csv(ZipFile(BytesIO(urllib.request.urlopen('https://www.cftc.gov/files/dea/history/fut_fin_txt_2015.zip').read())).open('FinFutYY.txt'), sep=',', error_bad_lines=False, decimal='.', encoding='gbk', skiprows=0).rename(columns={'Report_Date_as_MM_DD_YYYY': 'Report_Date_as_YYYY-MM-DD'})\n",
        "Ffin_2016 = pd.read_csv(ZipFile(BytesIO(urllib.request.urlopen('https://www.cftc.gov/files/dea/history/fut_fin_txt_2016.zip').read())).open('FinFutYY.txt'), sep=',', error_bad_lines=False, decimal='.', encoding='gbk', skiprows=0).rename(columns={'Report_Date_as_MM_DD_YYYY': 'Report_Date_as_YYYY-MM-DD'})\n",
        "Ffin_2017 = pd.read_csv(ZipFile(BytesIO(urllib.request.urlopen('https://www.cftc.gov/files/dea/history/fut_fin_txt_2017.zip').read())).open('FinFutYY.txt'), sep=',', error_bad_lines=False, decimal='.', encoding='gbk', skiprows=0).rename(columns={'Report_Date_as_MM_DD_YYYY': 'Report_Date_as_YYYY-MM-DD'})\n",
        "Ffin_2018 = pd.read_csv(ZipFile(BytesIO(urllib.request.urlopen('https://www.cftc.gov/files/dea/history/fut_fin_txt_2018.zip').read())).open('FinFutYY.txt'), sep=',', error_bad_lines=False, decimal='.', encoding='gbk', skiprows=0).rename(columns={'Report_Date_as_MM_DD_YYYY': 'Report_Date_as_YYYY-MM-DD'})\n",
        "Ffin_2019 = pd.read_csv(ZipFile(BytesIO(urllib.request.urlopen('https://www.cftc.gov/files/dea/history/fut_fin_txt_2019.zip').read())).open('FinFutYY.txt'), sep=',', error_bad_lines=False, decimal='.', encoding='gbk', skiprows=0).rename(columns={'Report_Date_as_MM_DD_YYYY': 'Report_Date_as_YYYY-MM-DD'})\n",
        "Ffin_2020 = pd.read_csv(ZipFile(BytesIO(urllib.request.urlopen('https://www.cftc.gov/files/dea/history/fut_fin_txt_2020.zip').read())).open('FinFutYY.txt'), sep=',', error_bad_lines=False, decimal='.', encoding='gbk', skiprows=0).rename(columns={'Report_Date_as_MM_DD_YYYY': 'Report_Date_as_YYYY-MM-DD'})\n",
        "Ffin_2021 = pd.read_csv(ZipFile(BytesIO(urllib.request.urlopen('https://www.cftc.gov/files/dea/history/fut_fin_txt_2021.zip').read())).open('FinFutYY.txt'), sep=',', error_bad_lines=False, decimal='.', encoding='gbk', skiprows=0).rename(columns={'Report_Date_as_MM_DD_YYYY': 'Report_Date_as_YYYY-MM-DD'})"
      ],
      "execution_count": 10,
      "outputs": [
        {
          "output_type": "stream",
          "text": [
            "/usr/local/lib/python3.7/dist-packages/IPython/core/interactiveshell.py:2718: DtypeWarning: Columns (3,82) have mixed types.Specify dtype option on import or set low_memory=False.\n",
            "  interactivity=interactivity, compiler=compiler, result=result)\n"
          ],
          "name": "stderr"
        }
      ]
    },
    {
      "cell_type": "code",
      "metadata": {
        "colab": {
          "base_uri": "https://localhost:8080/"
        },
        "id": "A796RwPbCds8",
        "outputId": "839dafa7-9c43-44d0-b6ae-9898f6746623"
      },
      "source": [
        "# Traders in Financial Futures ; Futures-and-Options Combined Reports:\n",
        "Cfin_2006_2016 = pd.read_csv(ZipFile(BytesIO(urllib.request.urlopen('https://www.cftc.gov/files/dea/history/fin_com_txt_2006_2016.zip').read())).open('C_TFF_2006_2016.txt'), sep=',', error_bad_lines=False, decimal='.', encoding='gbk', skiprows=0)\n",
        "Cfin_2010 = pd.read_csv(ZipFile(BytesIO(urllib.request.urlopen('https://www.cftc.gov/files/dea/history/com_fin_txt_2010.zip').read())).open('FinComYY.txt'), sep=',', error_bad_lines=False, decimal='.', encoding='gbk', skiprows=0)\n",
        "Cfin_2011 = pd.read_csv(ZipFile(BytesIO(urllib.request.urlopen('https://www.cftc.gov/files/dea/history/com_fin_txt_2011.zip').read())).open('FinComYY.txt'), sep=',', error_bad_lines=False, decimal='.', encoding='gbk', skiprows=0)\n",
        "Cfin_2012 = pd.read_csv(ZipFile(BytesIO(urllib.request.urlopen('https://www.cftc.gov/files/dea/history/com_fin_txt_2012.zip').read())).open('FinComYY.txt'), sep=',', error_bad_lines=False, decimal='.', encoding='gbk', skiprows=0)\n",
        "Cfin_2013 = pd.read_csv(ZipFile(BytesIO(urllib.request.urlopen('https://www.cftc.gov/files/dea/history/com_fin_txt_2013.zip').read())).open('FinComYY.txt'), sep=',', error_bad_lines=False, decimal='.', encoding='gbk', skiprows=0)\n",
        "Cfin_2014 = pd.read_csv(ZipFile(BytesIO(urllib.request.urlopen('https://www.cftc.gov/files/dea/history/com_fin_txt_2014.zip').read())).open('FinComYY.txt'), sep=',', error_bad_lines=False, decimal='.', encoding='gbk', skiprows=0)\n",
        "Cfin_2015 = pd.read_csv(ZipFile(BytesIO(urllib.request.urlopen('https://www.cftc.gov/files/dea/history/com_fin_txt_2015.zip').read())).open('FinComYY.txt'), sep=',', error_bad_lines=False, decimal='.', encoding='gbk', skiprows=0)\n",
        "Cfin_2016 = pd.read_csv(ZipFile(BytesIO(urllib.request.urlopen('https://www.cftc.gov/files/dea/history/com_fin_txt_2016.zip').read())).open('FinComYY.txt'), sep=',', error_bad_lines=False, decimal='.', encoding='gbk', skiprows=0)\n",
        "Cfin_2017 = pd.read_csv(ZipFile(BytesIO(urllib.request.urlopen('https://www.cftc.gov/files/dea/history/com_fin_txt_2017.zip').read())).open('FinComYY.txt'), sep=',', error_bad_lines=False, decimal='.', encoding='gbk', skiprows=0)\n",
        "Cfin_2018 = pd.read_csv(ZipFile(BytesIO(urllib.request.urlopen('https://www.cftc.gov/files/dea/history/com_fin_txt_2018.zip').read())).open('FinComYY.txt'), sep=',', error_bad_lines=False, decimal='.', encoding='gbk', skiprows=0)\n",
        "Cfin_2019 = pd.read_csv(ZipFile(BytesIO(urllib.request.urlopen('https://www.cftc.gov/files/dea/history/com_fin_txt_2019.zip').read())).open('FinComYY.txt'), sep=',', error_bad_lines=False, decimal='.', encoding='gbk', skiprows=0)\n",
        "Cfin_2020 = pd.read_csv(ZipFile(BytesIO(urllib.request.urlopen('https://www.cftc.gov/files/dea/history/com_fin_txt_2020.zip').read())).open('FinComYY.txt'), sep=',', error_bad_lines=False, decimal='.', encoding='gbk', skiprows=0)\n",
        "Cfin_2021 = pd.read_csv(ZipFile(BytesIO(urllib.request.urlopen('https://www.cftc.gov/files/dea/history/com_fin_txt_2021.zip').read())).open('FinComYY.txt'), sep=',', error_bad_lines=False, decimal='.', encoding='gbk', skiprows=0)"
      ],
      "execution_count": 10,
      "outputs": [
        {
          "output_type": "stream",
          "text": [
            "/usr/local/lib/python3.7/dist-packages/IPython/core/interactiveshell.py:2718: DtypeWarning: Columns (3,82) have mixed types.Specify dtype option on import or set low_memory=False.\n",
            "  interactivity=interactivity, compiler=compiler, result=result)\n"
          ],
          "name": "stderr"
        }
      ]
    },
    {
      "cell_type": "code",
      "metadata": {
        "colab": {
          "base_uri": "https://localhost:8080/"
        },
        "id": "5UD0hQRs-Fa0",
        "outputId": "16b6f391-109c-4932-c737-036ba34af172"
      },
      "source": [
        "# Futures Only Reports:\n",
        "Fdea_2000 = pd.read_csv(ZipFile(BytesIO(urllib.request.urlopen('https://www.cftc.gov/files/dea/history/deacot2000.zip').read())).open('Annual.TXT'), sep=',', error_bad_lines=False, decimal='.', encoding='gbk', skiprows=0)\n",
        "Fdea_2001 = pd.read_csv(ZipFile(BytesIO(urllib.request.urlopen('https://www.cftc.gov/files/dea/history/deacot2001.zip').read())).open('Annual.TXT'), sep=',', error_bad_lines=False, decimal='.', encoding='gbk', skiprows=0)\n",
        "Fdea_2002 = pd.read_csv(ZipFile(BytesIO(urllib.request.urlopen('https://www.cftc.gov/files/dea/history/deacot2002.zip').read())).open('Annual.TXT'), sep=',', error_bad_lines=False, decimal='.', encoding='gbk', skiprows=0)\n",
        "Fdea_2003 = pd.read_csv(ZipFile(BytesIO(urllib.request.urlopen('https://www.cftc.gov/files/dea/history/deacot2003.zip').read())).open('annual.txt'), sep=',', error_bad_lines=False, decimal='.', encoding='gbk', skiprows=0)\n",
        "Fdea_2004 = pd.read_csv(ZipFile(BytesIO(urllib.request.urlopen('https://www.cftc.gov/files/dea/history/deacot2004.zip').read())).open('annual.txt'), sep=',', error_bad_lines=False, decimal='.', encoding='gbk', skiprows=0)\n",
        "Fdea_2005 = pd.read_csv(ZipFile(BytesIO(urllib.request.urlopen('https://www.cftc.gov/files/dea/history/deacot2005.zip').read())).open('annual.txt'), sep=',', error_bad_lines=False, decimal='.', encoding='gbk', skiprows=0)\n",
        "Fdea_2006 = pd.read_csv(ZipFile(BytesIO(urllib.request.urlopen('https://www.cftc.gov/files/dea/history/deacot2006.zip').read())).open('annual.txt'), sep=',', error_bad_lines=False, decimal='.', encoding='gbk', skiprows=0)\n",
        "Fdea_2007 = pd.read_csv(ZipFile(BytesIO(urllib.request.urlopen('https://www.cftc.gov/files/dea/history/deacot2007.zip').read())).open('annual_2007.txt'), sep=',', error_bad_lines=False, decimal='.', encoding='gbk', skiprows=0)\n",
        "Fdea_2008 = pd.read_csv(ZipFile(BytesIO(urllib.request.urlopen('https://www.cftc.gov/files/dea/history/deacot2008.zip').read())).open('annual.txt'), sep=',', error_bad_lines=False, decimal='.', encoding='gbk', skiprows=0)\n",
        "Fdea_2009 = pd.read_csv(ZipFile(BytesIO(urllib.request.urlopen('https://www.cftc.gov/files/dea/history/deacot2009.zip').read())).open('annual.txt'), sep=',', error_bad_lines=False, decimal='.', encoding='gbk', skiprows=0)\n",
        "Fdea_2010 = pd.read_csv(ZipFile(BytesIO(urllib.request.urlopen('https://www.cftc.gov/files/dea/history/deacot2010.zip').read())).open('annual.txt'), sep=',', error_bad_lines=False, decimal='.', encoding='gbk', skiprows=0)\n",
        "Fdea_2011 = pd.read_csv(ZipFile(BytesIO(urllib.request.urlopen('https://www.cftc.gov/files/dea/history/deacot2011.zip').read())).open('annual.txt'), sep=',', error_bad_lines=False, decimal='.', encoding='gbk', skiprows=0)\n",
        "Fdea_2012 = pd.read_csv(ZipFile(BytesIO(urllib.request.urlopen('https://www.cftc.gov/files/dea/history/deacot2012.zip').read())).open('annual.txt'), sep=',', error_bad_lines=False, decimal='.', encoding='gbk', skiprows=0)\n",
        "Fdea_2013 = pd.read_csv(ZipFile(BytesIO(urllib.request.urlopen('https://www.cftc.gov/files/dea/history/deacot2013.zip').read())).open('annual.txt'), sep=',', error_bad_lines=False, decimal='.', encoding='gbk', skiprows=0)\n",
        "Fdea_2014 = pd.read_csv(ZipFile(BytesIO(urllib.request.urlopen('https://www.cftc.gov/files/dea/history/deacot2014.zip').read())).open('annual.txt'), sep=',', error_bad_lines=False, decimal='.', encoding='gbk', skiprows=0)\n",
        "Fdea_2015 = pd.read_csv(ZipFile(BytesIO(urllib.request.urlopen('https://www.cftc.gov/files/dea/history/deacot2015.zip').read())).open('annual.txt'), sep=',', error_bad_lines=False, decimal='.', encoding='gbk', skiprows=0)\n",
        "Fdea_2016 = pd.read_csv(ZipFile(BytesIO(urllib.request.urlopen('https://www.cftc.gov/files/dea/history/deacot2016.zip').read())).open('annual.txt'), sep=',', error_bad_lines=False, decimal='.', encoding='gbk', skiprows=0)\n",
        "Fdea_2017 = pd.read_csv(ZipFile(BytesIO(urllib.request.urlopen('https://www.cftc.gov/files/dea/history/deacot2017.zip').read())).open('annual.txt'), sep=',', error_bad_lines=False, decimal='.', encoding='gbk', skiprows=0)\n",
        "Fdea_2018 = pd.read_csv(ZipFile(BytesIO(urllib.request.urlopen('https://www.cftc.gov/files/dea/history/deacot2018.zip').read())).open('annual.txt'), sep=',', error_bad_lines=False, decimal='.', encoding='gbk', skiprows=0)\n",
        "Fdea_2019 = pd.read_csv(ZipFile(BytesIO(urllib.request.urlopen('https://www.cftc.gov/files/dea/history/deacot2019.zip').read())).open('annual.txt'), sep=',', error_bad_lines=False, decimal='.', encoding='gbk', skiprows=0)\n",
        "Fdea_2020 = pd.read_csv(ZipFile(BytesIO(urllib.request.urlopen('https://www.cftc.gov/files/dea/history/deacot2020.zip').read())).open('annual.txt'), sep=',', error_bad_lines=False, decimal='.', encoding='gbk', skiprows=0)\n",
        "Fdea_2021 = pd.read_csv(ZipFile(BytesIO(urllib.request.urlopen('https://www.cftc.gov/files/dea/history/deacot2021.zip').read())).open('annual.txt'), sep=',', error_bad_lines=False, decimal='.', encoding='gbk', skiprows=0)"
      ],
      "execution_count": 12,
      "outputs": [
        {
          "output_type": "stream",
          "text": [
            "/usr/local/lib/python3.7/dist-packages/IPython/core/interactiveshell.py:2718: DtypeWarning: Columns (3,37,38,39,40,41,42,43,44,45,46,126) have mixed types.Specify dtype option on import or set low_memory=False.\n",
            "  interactivity=interactivity, compiler=compiler, result=result)\n"
          ],
          "name": "stderr"
        }
      ]
    },
    {
      "cell_type": "code",
      "metadata": {
        "id": "s8n6iniRCjSE"
      },
      "source": [
        "# Futures-and-Options Combined Reports:\n",
        "Cdea_2000 = pd.read_csv(ZipFile(BytesIO(urllib.request.urlopen('https://www.cftc.gov/files/dea/history/deahistfo_2000.zip').read())).open('AnnualOF2000.txt'), sep=',', error_bad_lines=False, decimal='.', encoding='gbk', skiprows=0)\n",
        "Cdea_2001 = pd.read_csv(ZipFile(BytesIO(urllib.request.urlopen('https://www.cftc.gov/files/dea/history/deahistfo_2001.zip').read())).open('AnnualOF2001.txt'), sep=',', error_bad_lines=False, decimal='.', encoding='gbk', skiprows=0)\n",
        "Cdea_2002 = pd.read_csv(ZipFile(BytesIO(urllib.request.urlopen('https://www.cftc.gov/files/dea/history/deahistfo_2002.zip').read())).open('annualof_2002.txt'), sep=',', error_bad_lines=False, decimal='.', encoding='gbk', skiprows=0)\n",
        "Cdea_2003 = pd.read_csv(ZipFile(BytesIO(urllib.request.urlopen('https://www.cftc.gov/files/dea/history/deahistfo_2003.zip').read())).open('AnnualOF2003.txt'), sep=',', error_bad_lines=False, decimal='.', encoding='gbk', skiprows=0)\n",
        "Cdea_2004 = pd.read_csv(ZipFile(BytesIO(urllib.request.urlopen('https://www.cftc.gov/files/dea/history/deahistfo2004.zip').read())).open('annualof.txt'), sep=',', error_bad_lines=False, decimal='.', encoding='gbk', skiprows=0)\n",
        "Cdea_2005 = pd.read_csv(ZipFile(BytesIO(urllib.request.urlopen('https://www.cftc.gov/files/dea/history/deahistfo2005.zip').read())).open('annualof.txt'), sep=',', error_bad_lines=False, decimal='.', encoding='gbk', skiprows=0)\n",
        "Cdea_2006 = pd.read_csv(ZipFile(BytesIO(urllib.request.urlopen('https://www.cftc.gov/files/dea/history/deahistfo2006.zip').read())).open('annualof.txt'), sep=',', error_bad_lines=False, decimal='.', encoding='gbk', skiprows=0)\n",
        "Cdea_2007 = pd.read_csv(ZipFile(BytesIO(urllib.request.urlopen('https://www.cftc.gov/files/dea/history/deahistfo2007.zip').read())).open('annualof_2007.txt'), sep=',', error_bad_lines=False, decimal='.', encoding='gbk', skiprows=0)\n",
        "Cdea_2008 = pd.read_csv(ZipFile(BytesIO(urllib.request.urlopen('https://www.cftc.gov/files/dea/history/deahistfo2008.zip').read())).open('annualof.txt'), sep=',', error_bad_lines=False, decimal='.', encoding='gbk', skiprows=0)\n",
        "Cdea_2009 = pd.read_csv(ZipFile(BytesIO(urllib.request.urlopen('https://www.cftc.gov/files/dea/history/deahistfo2009.zip').read())).open('annualof.txt'), sep=',', error_bad_lines=False, decimal='.', encoding='gbk', skiprows=0)\n",
        "Cdea_2010 = pd.read_csv(ZipFile(BytesIO(urllib.request.urlopen('https://www.cftc.gov/files/dea/history/deahistfo2010.zip').read())).open('annualof.txt'), sep=',', error_bad_lines=False, decimal='.', encoding='gbk', skiprows=0)\n",
        "Cdea_2011 = pd.read_csv(ZipFile(BytesIO(urllib.request.urlopen('https://www.cftc.gov/files/dea/history/deahistfo2011.zip').read())).open('annualof.txt'), sep=',', error_bad_lines=False, decimal='.', encoding='gbk', skiprows=0)\n",
        "Cdea_2012 = pd.read_csv(ZipFile(BytesIO(urllib.request.urlopen('https://www.cftc.gov/files/dea/history/deahistfo2012.zip').read())).open('annualof.txt'), sep=',', error_bad_lines=False, decimal='.', encoding='gbk', skiprows=0)\n",
        "Cdea_2013 = pd.read_csv(ZipFile(BytesIO(urllib.request.urlopen('https://www.cftc.gov/files/dea/history/deahistfo2013.zip').read())).open('annualof.txt'), sep=',', error_bad_lines=False, decimal='.', encoding='gbk', skiprows=0)\n",
        "Cdea_2014 = pd.read_csv(ZipFile(BytesIO(urllib.request.urlopen('https://www.cftc.gov/files/dea/history/deahistfo2014.zip').read())).open('annualof.txt'), sep=',', error_bad_lines=False, decimal='.', encoding='gbk', skiprows=0)\n",
        "Cdea_2015 = pd.read_csv(ZipFile(BytesIO(urllib.request.urlopen('https://www.cftc.gov/files/dea/history/deahistfo2015.zip').read())).open('annualof.txt'), sep=',', error_bad_lines=False, decimal='.', encoding='gbk', skiprows=0)\n",
        "Cdea_2016 = pd.read_csv(ZipFile(BytesIO(urllib.request.urlopen('https://www.cftc.gov/files/dea/history/deahistfo2016.zip').read())).open('annualof.txt'), sep=',', error_bad_lines=False, decimal='.', encoding='gbk', skiprows=0)\n",
        "Cdea_2017 = pd.read_csv(ZipFile(BytesIO(urllib.request.urlopen('https://www.cftc.gov/files/dea/history/deahistfo2017.zip').read())).open('annualof.txt'), sep=',', error_bad_lines=False, decimal='.', encoding='gbk', skiprows=0)\n",
        "Cdea_2018 = pd.read_csv(ZipFile(BytesIO(urllib.request.urlopen('https://www.cftc.gov/files/dea/history/deahistfo2018.zip').read())).open('annualof.txt'), sep=',', error_bad_lines=False, decimal='.', encoding='gbk', skiprows=0)\n",
        "Cdea_2019 = pd.read_csv(ZipFile(BytesIO(urllib.request.urlopen('https://www.cftc.gov/files/dea/history/deahistfo2019.zip').read())).open('annualof.txt'), sep=',', error_bad_lines=False, decimal='.', encoding='gbk', skiprows=0)\n",
        "Cdea_2020 = pd.read_csv(ZipFile(BytesIO(urllib.request.urlopen('https://www.cftc.gov/files/dea/history/deahistfo2020.zip').read())).open('annualof.txt'), sep=',', error_bad_lines=False, decimal='.', encoding='gbk', skiprows=0)\n",
        "Cdea_2021 = pd.read_csv(ZipFile(BytesIO(urllib.request.urlopen('https://www.cftc.gov/files/dea/history/deahistfo2021.zip').read())).open('annualof.txt'), sep=',', error_bad_lines=False, decimal='.', encoding='gbk', skiprows=0)"
      ],
      "execution_count": 14,
      "outputs": []
    },
    {
      "cell_type": "code",
      "metadata": {
        "id": "DEUFb-AV-I1J"
      },
      "source": [
        "# Commodity Index Trader Supplement:\n",
        "deacit_2006_2016 = pd.read_csv(ZipFile(BytesIO(urllib.request.urlopen('https://www.cftc.gov/files/dea/history/dea_cit_txt_2006_2016.zip').read())).open('CIT06_16.txt'), sep=',', error_bad_lines=False, decimal='.', encoding='gbk', skiprows=0)\n",
        "deacit_2006 = pd.read_csv(ZipFile(BytesIO(urllib.request.urlopen('https://www.cftc.gov/files/dea/history/dea_cit_txt_2006.zip').read())).open('annualci2006.txt'), sep=',', error_bad_lines=False, decimal='.', encoding='gbk', skiprows=0)\n",
        "deacit_2007 = pd.read_csv(ZipFile(BytesIO(urllib.request.urlopen('https://www.cftc.gov/files/dea/history/dea_cit_txt_2007.zip').read())).open('annualci.txt'), sep=',', error_bad_lines=False, decimal='.', encoding='gbk', skiprows=0)\n",
        "deacit_2008 = pd.read_csv(ZipFile(BytesIO(urllib.request.urlopen('https://www.cftc.gov/files/dea/history/dea_cit_txt_2008.zip').read())).open('annualci.txt'), sep=',', error_bad_lines=False, decimal='.', encoding='gbk', skiprows=0)\n",
        "deacit_2009 = pd.read_csv(ZipFile(BytesIO(urllib.request.urlopen('https://www.cftc.gov/files/dea/history/dea_cit_txt_2009.zip').read())).open('annualci.txt'), sep=',', error_bad_lines=False, decimal='.', encoding='gbk', skiprows=0)\n",
        "deacit_2010 = pd.read_csv(ZipFile(BytesIO(urllib.request.urlopen('https://www.cftc.gov/files/dea/history/dea_cit_txt_2010.zip').read())).open('annualci.txt'), sep=',', error_bad_lines=False, decimal='.', encoding='gbk', skiprows=0)\n",
        "deacit_2011 = pd.read_csv(ZipFile(BytesIO(urllib.request.urlopen('https://www.cftc.gov/files/dea/history/dea_cit_txt_2011.zip').read())).open('annualci.txt'), sep=',', error_bad_lines=False, decimal='.', encoding='gbk', skiprows=0)\n",
        "deacit_2012 = pd.read_csv(ZipFile(BytesIO(urllib.request.urlopen('https://www.cftc.gov/files/dea/history/dea_cit_txt_2012.zip').read())).open('annualci.txt'), sep=',', error_bad_lines=False, decimal='.', encoding='gbk', skiprows=0)\n",
        "deacit_2013 = pd.read_csv(ZipFile(BytesIO(urllib.request.urlopen('https://www.cftc.gov/files/dea/history/dea_cit_txt_2013.zip').read())).open('annualci.txt'), sep=',', error_bad_lines=False, decimal='.', encoding='gbk', skiprows=0)\n",
        "deacit_2014 = pd.read_csv(ZipFile(BytesIO(urllib.request.urlopen('https://www.cftc.gov/files/dea/history/dea_cit_txt_2014.zip').read())).open('annualci.txt'), sep=',', error_bad_lines=False, decimal='.', encoding='gbk', skiprows=0)\n",
        "deacit_2015 = pd.read_csv(ZipFile(BytesIO(urllib.request.urlopen('https://www.cftc.gov/files/dea/history/dea_cit_txt_2015.zip').read())).open('annualci.txt'), sep=',', error_bad_lines=False, decimal='.', encoding='gbk', skiprows=0)\n",
        "deacit_2016 = pd.read_csv(ZipFile(BytesIO(urllib.request.urlopen('https://www.cftc.gov/files/dea/history/dea_cit_txt_2016.zip').read())).open('annualci.txt'), sep=',', error_bad_lines=False, decimal='.', encoding='gbk', skiprows=0)\n",
        "deacit_2017 = pd.read_csv(ZipFile(BytesIO(urllib.request.urlopen('https://www.cftc.gov/files/dea/history/dea_cit_txt_2017.zip').read())).open('annualci.txt'), sep=',', error_bad_lines=False, decimal='.', encoding='gbk', skiprows=0)\n",
        "deacit_2018 = pd.read_csv(ZipFile(BytesIO(urllib.request.urlopen('https://www.cftc.gov/files/dea/history/dea_cit_txt_2018.zip').read())).open('annualci.txt'), sep=',', error_bad_lines=False, decimal='.', encoding='gbk', skiprows=0)\n",
        "deacit_2019 = pd.read_csv(ZipFile(BytesIO(urllib.request.urlopen('https://www.cftc.gov/files/dea/history/dea_cit_txt_2019.zip').read())).open('annualci.txt'), sep=',', error_bad_lines=False, decimal='.', encoding='gbk', skiprows=0)\n",
        "deacit_2020 = pd.read_csv(ZipFile(BytesIO(urllib.request.urlopen('https://www.cftc.gov/files/dea/history/dea_cit_txt_2020.zip').read())).open('annualci.txt'), sep=',', error_bad_lines=False, decimal='.', encoding='gbk', skiprows=0)\n",
        "deacit_2021 = pd.read_csv(ZipFile(BytesIO(urllib.request.urlopen('https://www.cftc.gov/files/dea/history/dea_cit_txt_2021.zip').read())).open('annualci.txt'), sep=',', error_bad_lines=False, decimal='.', encoding='gbk', skiprows=0)"
      ],
      "execution_count": 16,
      "outputs": []
    },
    {
      "cell_type": "markdown",
      "metadata": {
        "id": "EIWYbAR27V6M"
      },
      "source": [
        "# Обработка"
      ]
    },
    {
      "cell_type": "markdown",
      "metadata": {
        "id": "TuF0D_km8iRy"
      },
      "source": [
        "Выводятся значения statistics all. Остальные опускаются."
      ]
    },
    {
      "cell_type": "code",
      "metadata": {
        "id": "qlROT0d24Dr8"
      },
      "source": [
        "# Загрузка словаря для корректировки ошибочных наименований\n",
        "corrections = pd.read_csv('https://raw.githubusercontent.com/ForestTiger-GH/COTRA/main/COTR_Corrections.txt', sep='\\t', error_bad_lines=False, skiprows=0)\n",
        "check = np.array(corrections).tolist()\n",
        "\n",
        "# Файл с датировкой отчетов СОТ\n",
        "dates = pd.read_csv('https://raw.githubusercontent.com/ForestTiger-GH/COTRA/main/COTR_Dates.txt', parse_dates=True)"
      ],
      "execution_count": 11,
      "outputs": []
    },
    {
      "cell_type": "markdown",
      "metadata": {
        "id": "WakCF7rU7wQ6"
      },
      "source": [
        "Disaggregated Futures Only Reports:"
      ]
    },
    {
      "cell_type": "code",
      "metadata": {
        "id": "Q8EYtiYOUI-C"
      },
      "source": [
        "# Объединение в один df\n",
        "Fdisagg_2010_now = []\n",
        "Fdisagg_2010_now = Fdisagg_2010.append(Fdisagg_2011).append(Fdisagg_2012).append(Fdisagg_2013).append(Fdisagg_2014).append(Fdisagg_2015).append(Fdisagg_2016).append(Fdisagg_2017).append(Fdisagg_2018).append(Fdisagg_2019).append(Fdisagg_2020).append(Fdisagg_2021)\n",
        "\n",
        "# Фильтр лишних колонок\n",
        "Fdisagg_2010_now = Fdisagg_2010_now.iloc[:, 0:23].drop(Fdisagg_2010_now.columns[[1, 3, 4, 5, 6]], axis=1)\n",
        "\n",
        "# Замена по списку\n",
        "for i in range(len(check)):\n",
        "    Fdisagg_2010_now['Market_and_Exchange_Names'].replace(to_replace = check[i][0], value = check[i][1], inplace = True)\n",
        "\n",
        "# Переименование столбца дат\n",
        "Fdisagg_2010_now.rename(columns={'Report_Date_as_YYYY-MM-DD' : 'Date'}, inplace=True)\n",
        "\n",
        "# Объединение на основе списка дат\n",
        "Fdisagg_2010_now = dates.merge(Fdisagg_2010_now, on='Date')"
      ],
      "execution_count": 24,
      "outputs": []
    },
    {
      "cell_type": "markdown",
      "metadata": {
        "id": "bNtRjk1d7zLz"
      },
      "source": [
        "Traders in Financial Futures ; Futures Only Reports:"
      ]
    },
    {
      "cell_type": "code",
      "metadata": {
        "id": "vHakBHu4WMR_"
      },
      "source": [
        "# Объединение в один df\n",
        "Ffin_2010_now = []\n",
        "Ffin_2010_now = Ffin_2010.append(Ffin_2011).append(Ffin_2012).append(Ffin_2013).append(Ffin_2014).append(Ffin_2015).append(Ffin_2016).append(Ffin_2017).append(Ffin_2018).append(Ffin_2019).append(Ffin_2020).append(Ffin_2021)\n",
        "\n",
        "# Фильтр лишних колонок\n",
        "Ffin_2010_now = Ffin_2010_now.iloc[:, 0:24].drop(Ffin_2010_now.columns[[1, 3, 4, 5, 6]], axis=1)\n",
        "\n",
        "# Замена по списку\n",
        "for i in range(len(check)):\n",
        "    Ffin_2010_now['Market_and_Exchange_Names'].replace(to_replace = check[i][0], value = check[i][1], inplace = True)\n",
        "\n",
        "# Переименование столбца дат\n",
        "Ffin_2010_now.rename(columns={'Report_Date_as_YYYY-MM-DD' : 'Date'}, inplace=True)\n",
        "\n",
        "# Объединение на основе списка дат\n",
        "Ffin_2010_now = dates.merge(Ffin_2010_now, on='Date')"
      ],
      "execution_count": 26,
      "outputs": []
    },
    {
      "cell_type": "markdown",
      "metadata": {
        "id": "a8G73by48IZT"
      },
      "source": [
        "# Вывод данных"
      ]
    },
    {
      "cell_type": "code",
      "metadata": {
        "colab": {
          "base_uri": "https://localhost:8080/",
          "height": 596
        },
        "id": "fUjGM16k6T6b",
        "outputId": "7357d9e0-74ce-42ea-8306-43371b9d9c31"
      },
      "source": [
        "cot_ticker = 'WHEAT-SRW - CHICAGO BOARD OF TRADE'\n",
        "Fdisagg_2010_now.loc[Fdisagg_2010_now['Market_and_Exchange_Names'] == cot_ticker]"
      ],
      "execution_count": 37,
      "outputs": [
        {
          "output_type": "execute_result",
          "data": {
            "text/html": [
              "<div>\n",
              "<style scoped>\n",
              "    .dataframe tbody tr th:only-of-type {\n",
              "        vertical-align: middle;\n",
              "    }\n",
              "\n",
              "    .dataframe tbody tr th {\n",
              "        vertical-align: top;\n",
              "    }\n",
              "\n",
              "    .dataframe thead th {\n",
              "        text-align: right;\n",
              "    }\n",
              "</style>\n",
              "<table border=\"1\" class=\"dataframe\">\n",
              "  <thead>\n",
              "    <tr style=\"text-align: right;\">\n",
              "      <th></th>\n",
              "      <th>Date</th>\n",
              "      <th>Market_and_Exchange_Names</th>\n",
              "      <th>Open_Interest_All</th>\n",
              "      <th>Prod_Merc_Positions_Long_All</th>\n",
              "      <th>Prod_Merc_Positions_Short_All</th>\n",
              "      <th>Swap_Positions_Long_All</th>\n",
              "      <th>Swap__Positions_Short_All</th>\n",
              "      <th>Swap__Positions_Spread_All</th>\n",
              "      <th>M_Money_Positions_Long_All</th>\n",
              "      <th>M_Money_Positions_Short_All</th>\n",
              "      <th>M_Money_Positions_Spread_All</th>\n",
              "      <th>Other_Rept_Positions_Long_All</th>\n",
              "      <th>Other_Rept_Positions_Short_All</th>\n",
              "      <th>Other_Rept_Positions_Spread_All</th>\n",
              "      <th>Tot_Rept_Positions_Long_All</th>\n",
              "      <th>Tot_Rept_Positions_Short_All</th>\n",
              "      <th>NonRept_Positions_Long_All</th>\n",
              "      <th>NonRept_Positions_Short_All</th>\n",
              "    </tr>\n",
              "  </thead>\n",
              "  <tbody>\n",
              "    <tr>\n",
              "      <th>0</th>\n",
              "      <td>2010-03-23</td>\n",
              "      <td>WHEAT-SRW - CHICAGO BOARD OF TRADE</td>\n",
              "      <td>431145</td>\n",
              "      <td>37516</td>\n",
              "      <td>145323</td>\n",
              "      <td>208607</td>\n",
              "      <td>33031</td>\n",
              "      <td>10249</td>\n",
              "      <td>54782</td>\n",
              "      <td>97899</td>\n",
              "      <td>36749</td>\n",
              "      <td>16915</td>\n",
              "      <td>21922</td>\n",
              "      <td>34345</td>\n",
              "      <td>399163</td>\n",
              "      <td>379518</td>\n",
              "      <td>31982</td>\n",
              "      <td>51627</td>\n",
              "    </tr>\n",
              "    <tr>\n",
              "      <th>101</th>\n",
              "      <td>2010-03-30</td>\n",
              "      <td>WHEAT-SRW - CHICAGO BOARD OF TRADE</td>\n",
              "      <td>443007</td>\n",
              "      <td>43143</td>\n",
              "      <td>142377</td>\n",
              "      <td>209653</td>\n",
              "      <td>34834</td>\n",
              "      <td>12544</td>\n",
              "      <td>54380</td>\n",
              "      <td>105999</td>\n",
              "      <td>33577</td>\n",
              "      <td>17762</td>\n",
              "      <td>22859</td>\n",
              "      <td>39027</td>\n",
              "      <td>410086</td>\n",
              "      <td>391217</td>\n",
              "      <td>32921</td>\n",
              "      <td>51790</td>\n",
              "    </tr>\n",
              "    <tr>\n",
              "      <th>207</th>\n",
              "      <td>2010-04-06</td>\n",
              "      <td>WHEAT-SRW - CHICAGO BOARD OF TRADE</td>\n",
              "      <td>460651</td>\n",
              "      <td>46169</td>\n",
              "      <td>143344</td>\n",
              "      <td>211539</td>\n",
              "      <td>37891</td>\n",
              "      <td>15477</td>\n",
              "      <td>55540</td>\n",
              "      <td>108581</td>\n",
              "      <td>37752</td>\n",
              "      <td>20903</td>\n",
              "      <td>23289</td>\n",
              "      <td>38933</td>\n",
              "      <td>426313</td>\n",
              "      <td>405267</td>\n",
              "      <td>34338</td>\n",
              "      <td>55384</td>\n",
              "    </tr>\n",
              "    <tr>\n",
              "      <th>306</th>\n",
              "      <td>2010-04-13</td>\n",
              "      <td>WHEAT-SRW - CHICAGO BOARD OF TRADE</td>\n",
              "      <td>465580</td>\n",
              "      <td>45988</td>\n",
              "      <td>151174</td>\n",
              "      <td>212830</td>\n",
              "      <td>36834</td>\n",
              "      <td>13428</td>\n",
              "      <td>56076</td>\n",
              "      <td>102056</td>\n",
              "      <td>41154</td>\n",
              "      <td>20648</td>\n",
              "      <td>25323</td>\n",
              "      <td>40238</td>\n",
              "      <td>430362</td>\n",
              "      <td>410207</td>\n",
              "      <td>35218</td>\n",
              "      <td>55373</td>\n",
              "    </tr>\n",
              "    <tr>\n",
              "      <th>406</th>\n",
              "      <td>2010-04-20</td>\n",
              "      <td>WHEAT-SRW - CHICAGO BOARD OF TRADE</td>\n",
              "      <td>453885</td>\n",
              "      <td>44448</td>\n",
              "      <td>157840</td>\n",
              "      <td>214263</td>\n",
              "      <td>35973</td>\n",
              "      <td>13409</td>\n",
              "      <td>59319</td>\n",
              "      <td>90605</td>\n",
              "      <td>38675</td>\n",
              "      <td>15749</td>\n",
              "      <td>28869</td>\n",
              "      <td>36023</td>\n",
              "      <td>421886</td>\n",
              "      <td>401394</td>\n",
              "      <td>31999</td>\n",
              "      <td>52491</td>\n",
              "    </tr>\n",
              "    <tr>\n",
              "      <th>...</th>\n",
              "      <td>...</td>\n",
              "      <td>...</td>\n",
              "      <td>...</td>\n",
              "      <td>...</td>\n",
              "      <td>...</td>\n",
              "      <td>...</td>\n",
              "      <td>...</td>\n",
              "      <td>...</td>\n",
              "      <td>...</td>\n",
              "      <td>...</td>\n",
              "      <td>...</td>\n",
              "      <td>...</td>\n",
              "      <td>...</td>\n",
              "      <td>...</td>\n",
              "      <td>...</td>\n",
              "      <td>...</td>\n",
              "      <td>...</td>\n",
              "      <td>...</td>\n",
              "    </tr>\n",
              "    <tr>\n",
              "      <th>90924</th>\n",
              "      <td>2020-06-02</td>\n",
              "      <td>WHEAT-SRW - CHICAGO BOARD OF TRADE</td>\n",
              "      <td>400202</td>\n",
              "      <td>46067</td>\n",
              "      <td>126093</td>\n",
              "      <td>106137</td>\n",
              "      <td>18093</td>\n",
              "      <td>7275</td>\n",
              "      <td>72419</td>\n",
              "      <td>82231</td>\n",
              "      <td>71510</td>\n",
              "      <td>45078</td>\n",
              "      <td>30709</td>\n",
              "      <td>23127</td>\n",
              "      <td>371613</td>\n",
              "      <td>359038</td>\n",
              "      <td>28589</td>\n",
              "      <td>41164</td>\n",
              "    </tr>\n",
              "    <tr>\n",
              "      <th>91132</th>\n",
              "      <td>2020-06-09</td>\n",
              "      <td>WHEAT-SRW - CHICAGO BOARD OF TRADE</td>\n",
              "      <td>380528</td>\n",
              "      <td>34124</td>\n",
              "      <td>111755</td>\n",
              "      <td>104035</td>\n",
              "      <td>15367</td>\n",
              "      <td>6000</td>\n",
              "      <td>66494</td>\n",
              "      <td>88622</td>\n",
              "      <td>63861</td>\n",
              "      <td>53485</td>\n",
              "      <td>30196</td>\n",
              "      <td>24364</td>\n",
              "      <td>352363</td>\n",
              "      <td>340165</td>\n",
              "      <td>28165</td>\n",
              "      <td>40363</td>\n",
              "    </tr>\n",
              "    <tr>\n",
              "      <th>91331</th>\n",
              "      <td>2020-06-16</td>\n",
              "      <td>WHEAT-SRW - CHICAGO BOARD OF TRADE</td>\n",
              "      <td>413421</td>\n",
              "      <td>47478</td>\n",
              "      <td>119350</td>\n",
              "      <td>101051</td>\n",
              "      <td>14918</td>\n",
              "      <td>7051</td>\n",
              "      <td>62987</td>\n",
              "      <td>89650</td>\n",
              "      <td>75419</td>\n",
              "      <td>59562</td>\n",
              "      <td>30923</td>\n",
              "      <td>34871</td>\n",
              "      <td>388419</td>\n",
              "      <td>372182</td>\n",
              "      <td>25002</td>\n",
              "      <td>41239</td>\n",
              "    </tr>\n",
              "    <tr>\n",
              "      <th>91535</th>\n",
              "      <td>2020-06-23</td>\n",
              "      <td>WHEAT-SRW - CHICAGO BOARD OF TRADE</td>\n",
              "      <td>432871</td>\n",
              "      <td>56801</td>\n",
              "      <td>116372</td>\n",
              "      <td>103638</td>\n",
              "      <td>15994</td>\n",
              "      <td>7478</td>\n",
              "      <td>58874</td>\n",
              "      <td>104050</td>\n",
              "      <td>78770</td>\n",
              "      <td>63653</td>\n",
              "      <td>33120</td>\n",
              "      <td>36505</td>\n",
              "      <td>405719</td>\n",
              "      <td>392289</td>\n",
              "      <td>27152</td>\n",
              "      <td>40582</td>\n",
              "    </tr>\n",
              "    <tr>\n",
              "      <th>91738</th>\n",
              "      <td>2020-06-30</td>\n",
              "      <td>WHEAT-SRW - CHICAGO BOARD OF TRADE</td>\n",
              "      <td>403108</td>\n",
              "      <td>55098</td>\n",
              "      <td>115093</td>\n",
              "      <td>99871</td>\n",
              "      <td>11515</td>\n",
              "      <td>8567</td>\n",
              "      <td>61360</td>\n",
              "      <td>98971</td>\n",
              "      <td>77359</td>\n",
              "      <td>52172</td>\n",
              "      <td>29185</td>\n",
              "      <td>24155</td>\n",
              "      <td>378582</td>\n",
              "      <td>364845</td>\n",
              "      <td>24526</td>\n",
              "      <td>38263</td>\n",
              "    </tr>\n",
              "  </tbody>\n",
              "</table>\n",
              "<p>536 rows × 18 columns</p>\n",
              "</div>"
            ],
            "text/plain": [
              "             Date  ... NonRept_Positions_Short_All\n",
              "0      2010-03-23  ...                       51627\n",
              "101    2010-03-30  ...                       51790\n",
              "207    2010-04-06  ...                       55384\n",
              "306    2010-04-13  ...                       55373\n",
              "406    2010-04-20  ...                       52491\n",
              "...           ...  ...                         ...\n",
              "90924  2020-06-02  ...                       41164\n",
              "91132  2020-06-09  ...                       40363\n",
              "91331  2020-06-16  ...                       41239\n",
              "91535  2020-06-23  ...                       40582\n",
              "91738  2020-06-30  ...                       38263\n",
              "\n",
              "[536 rows x 18 columns]"
            ]
          },
          "metadata": {
            "tags": []
          },
          "execution_count": 37
        }
      ]
    }
  ]
}