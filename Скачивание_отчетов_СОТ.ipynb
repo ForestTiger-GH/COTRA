{
  "nbformat": 4,
  "nbformat_minor": 0,
  "metadata": {
    "colab": {
      "name": "Скачивание_отчетов_СОТ",
      "provenance": [],
      "collapsed_sections": []
    },
    "kernelspec": {
      "name": "python3",
      "display_name": "Python 3"
    }
  },
  "cells": [
    {
      "cell_type": "markdown",
      "metadata": {
        "id": "kCUts7IDMe6g"
      },
      "source": [
        "# Выгрузка полного набора отчетов 'Commitments of Traders'\n",
        "**from start to 2021**"
      ]
    },
    {
      "cell_type": "markdown",
      "metadata": {
        "id": "jOW5l5DHMGzS"
      },
      "source": [
        "Отчеты разделены на четыре категории:\n",
        "*   Disaggregated Futures\n",
        "*   Traders in Financial Futures\n",
        "*   Legacy Reports\n",
        "*   Commodity Index Trader Supplement\n",
        "\n",
        "А также на две группы:\n",
        "\n",
        "\n",
        "*   Futures only\n",
        "*   Futures-and-Options Combined\n",
        "\n",
        "Отчеты Legacy загружены с 2000 года.\n"
      ]
    },
    {
      "cell_type": "code",
      "metadata": {
        "colab": {
          "base_uri": "https://localhost:8080/"
        },
        "id": "Jo108D-cK83T",
        "outputId": "ed6f8ca3-fd10-4ae3-df9b-c441db80f8c2"
      },
      "source": [
        "!pip install memory_profiler"
      ],
      "execution_count": 1,
      "outputs": [
        {
          "output_type": "stream",
          "text": [
            "Collecting memory_profiler\n",
            "  Downloading https://files.pythonhosted.org/packages/8f/fd/d92b3295657f8837e0177e7b48b32d6651436f0293af42b76d134c3bb489/memory_profiler-0.58.0.tar.gz\n",
            "Requirement already satisfied: psutil in /usr/local/lib/python3.7/dist-packages (from memory_profiler) (5.4.8)\n",
            "Building wheels for collected packages: memory-profiler\n",
            "  Building wheel for memory-profiler (setup.py) ... \u001b[?25l\u001b[?25hdone\n",
            "  Created wheel for memory-profiler: filename=memory_profiler-0.58.0-cp37-none-any.whl size=30180 sha256=a79e0f71f3d9e50b30dc2e8ba6a6e51b659ef610d15cdc8e04022a4151788ac8\n",
            "  Stored in directory: /root/.cache/pip/wheels/02/e4/0b/aaab481fc5dd2a4ea59e78bc7231bb6aae7635ca7ee79f8ae5\n",
            "Successfully built memory-profiler\n",
            "Installing collected packages: memory-profiler\n",
            "Successfully installed memory-profiler-0.58.0\n"
          ],
          "name": "stdout"
        }
      ]
    },
    {
      "cell_type": "code",
      "metadata": {
        "id": "TIw69Ynx19cj"
      },
      "source": [
        "import numpy as np\n",
        "import pandas as pd\n",
        "\n",
        "import urllib.request\n",
        "from zipfile import ZipFile\n",
        "from io import BytesIO\n",
        "\n",
        "from memory_profiler import memory_usage\n",
        "\n",
        "import matplotlib.pyplot as plt"
      ],
      "execution_count": 2,
      "outputs": []
    },
    {
      "cell_type": "code",
      "metadata": {
        "id": "wOEjwxsfJMIN"
      },
      "source": [
        "mem = []"
      ],
      "execution_count": 3,
      "outputs": []
    },
    {
      "cell_type": "code",
      "metadata": {
        "colab": {
          "base_uri": "https://localhost:8080/"
        },
        "id": "4_j6kgUh88uk",
        "outputId": "5067bc66-9e00-443d-8567-9311c70384ba"
      },
      "source": [
        "# Disaggregated Futures Only Reports:\n",
        "Fdisagg_2006_2016 = pd.read_csv(ZipFile(BytesIO(urllib.request.urlopen('https://www.cftc.gov/files/dea/history/fut_disagg_txt_hist_2006_2016.zip').read())).open('F_Disagg06_16.txt'), sep=',', error_bad_lines=False, decimal='.', encoding='gbk', skiprows=0).rename(columns={'Report_Date_as_MM_DD_YYYY': 'Report_Date_as_YYYY-MM-DD'})\n",
        "Fdisagg_2010 = pd.read_csv(ZipFile(BytesIO(urllib.request.urlopen('https://www.cftc.gov/files/dea/history/fut_disagg_txt_2010.zip').read())).open('f_year.txt'), sep=',', error_bad_lines=False, decimal='.', encoding='gbk', skiprows=0).rename(columns={'Report_Date_as_MM_DD_YYYY': 'Report_Date_as_YYYY-MM-DD'})\n",
        "Fdisagg_2011 = pd.read_csv(ZipFile(BytesIO(urllib.request.urlopen('https://www.cftc.gov/files/dea/history/fut_disagg_txt_2011.zip').read())).open('f_year.txt'), sep=',', error_bad_lines=False, decimal='.', encoding='gbk', skiprows=0).rename(columns={'Report_Date_as_MM_DD_YYYY': 'Report_Date_as_YYYY-MM-DD'})\n",
        "Fdisagg_2012 = pd.read_csv(ZipFile(BytesIO(urllib.request.urlopen('https://www.cftc.gov/files/dea/history/fut_disagg_txt_2012.zip').read())).open('f_year.txt'), sep=',', error_bad_lines=False, decimal='.', encoding='gbk', skiprows=0).rename(columns={'Report_Date_as_MM_DD_YYYY': 'Report_Date_as_YYYY-MM-DD'})\n",
        "Fdisagg_2013 = pd.read_csv(ZipFile(BytesIO(urllib.request.urlopen('https://www.cftc.gov/files/dea/history/fut_disagg_txt_2013.zip').read())).open('f_year.txt'), sep=',', error_bad_lines=False, decimal='.', encoding='gbk', skiprows=0).rename(columns={'Report_Date_as_MM_DD_YYYY': 'Report_Date_as_YYYY-MM-DD'})\n",
        "Fdisagg_2014 = pd.read_csv(ZipFile(BytesIO(urllib.request.urlopen('https://www.cftc.gov/files/dea/history/fut_disagg_txt_2014.zip').read())).open('f_year.txt'), sep=',', error_bad_lines=False, decimal='.', encoding='gbk', skiprows=0).rename(columns={'Report_Date_as_MM_DD_YYYY': 'Report_Date_as_YYYY-MM-DD'})\n",
        "Fdisagg_2015 = pd.read_csv(ZipFile(BytesIO(urllib.request.urlopen('https://www.cftc.gov/files/dea/history/fut_disagg_txt_2015.zip').read())).open('f_year.txt'), sep=',', error_bad_lines=False, decimal='.', encoding='gbk', skiprows=0).rename(columns={'Report_Date_as_MM_DD_YYYY': 'Report_Date_as_YYYY-MM-DD'})\n",
        "Fdisagg_2016 = pd.read_csv(ZipFile(BytesIO(urllib.request.urlopen('https://www.cftc.gov/files/dea/history/fut_disagg_txt_2016.zip').read())).open('f_year.txt'), sep=',', error_bad_lines=False, decimal='.', encoding='gbk', skiprows=0).rename(columns={'Report_Date_as_MM_DD_YYYY': 'Report_Date_as_YYYY-MM-DD'})\n",
        "Fdisagg_2017 = pd.read_csv(ZipFile(BytesIO(urllib.request.urlopen('https://www.cftc.gov/files/dea/history/fut_disagg_txt_2017.zip').read())).open('f_year.txt'), sep=',', error_bad_lines=False, decimal='.', encoding='gbk', skiprows=0).rename(columns={'Report_Date_as_MM_DD_YYYY': 'Report_Date_as_YYYY-MM-DD'})\n",
        "Fdisagg_2018 = pd.read_csv(ZipFile(BytesIO(urllib.request.urlopen('https://www.cftc.gov/files/dea/history/fut_disagg_txt_2018.zip').read())).open('f_year.txt'), sep=',', error_bad_lines=False, decimal='.', encoding='gbk', skiprows=0).rename(columns={'Report_Date_as_MM_DD_YYYY': 'Report_Date_as_YYYY-MM-DD'})\n",
        "Fdisagg_2019 = pd.read_csv(ZipFile(BytesIO(urllib.request.urlopen('https://www.cftc.gov/files/dea/history/fut_disagg_txt_2019.zip').read())).open('f_year.txt'), sep=',', error_bad_lines=False, decimal='.', encoding='gbk', skiprows=0).rename(columns={'Report_Date_as_MM_DD_YYYY': 'Report_Date_as_YYYY-MM-DD'})\n",
        "Fdisagg_2020 = pd.read_csv(ZipFile(BytesIO(urllib.request.urlopen('https://www.cftc.gov/files/dea/history/fut_disagg_txt_2020.zip').read())).open('f_year.txt'), sep=',', error_bad_lines=False, decimal='.', encoding='gbk', skiprows=0).rename(columns={'Report_Date_as_MM_DD_YYYY': 'Report_Date_as_YYYY-MM-DD'})\n",
        "Fdisagg_2021 = pd.read_csv(ZipFile(BytesIO(urllib.request.urlopen('https://www.cftc.gov/files/dea/history/fut_disagg_txt_2021.zip').read())).open('f_year.txt'), sep=',', error_bad_lines=False, decimal='.', encoding='gbk', skiprows=0).rename(columns={'Report_Date_as_MM_DD_YYYY': 'Report_Date_as_YYYY-MM-DD'})"
      ],
      "execution_count": 4,
      "outputs": [
        {
          "output_type": "stream",
          "text": [
            "/usr/local/lib/python3.7/dist-packages/IPython/core/interactiveshell.py:2718: DtypeWarning: Columns (3,120,121,125,133,134,135,145,146,147,148,149,150,151,152,153,154,155,156,157,158,159,160,186) have mixed types.Specify dtype option on import or set low_memory=False.\n",
            "  interactivity=interactivity, compiler=compiler, result=result)\n",
            "/usr/local/lib/python3.7/dist-packages/IPython/core/interactiveshell.py:2718: DtypeWarning: Columns (133,145,146,147,148,149,159,160) have mixed types.Specify dtype option on import or set low_memory=False.\n",
            "  interactivity=interactivity, compiler=compiler, result=result)\n",
            "/usr/local/lib/python3.7/dist-packages/IPython/core/interactiveshell.py:2718: DtypeWarning: Columns (133,147,148,149,150,159,160) have mixed types.Specify dtype option on import or set low_memory=False.\n",
            "  interactivity=interactivity, compiler=compiler, result=result)\n",
            "/usr/local/lib/python3.7/dist-packages/IPython/core/interactiveshell.py:2718: DtypeWarning: Columns (147,148,149,150,159,160) have mixed types.Specify dtype option on import or set low_memory=False.\n",
            "  interactivity=interactivity, compiler=compiler, result=result)\n",
            "/usr/local/lib/python3.7/dist-packages/IPython/core/interactiveshell.py:2718: DtypeWarning: Columns (120,121,134,135,145,146,147,148,149,150,151,152,153,154,155,156,157,158,159,160) have mixed types.Specify dtype option on import or set low_memory=False.\n",
            "  interactivity=interactivity, compiler=compiler, result=result)\n",
            "/usr/local/lib/python3.7/dist-packages/IPython/core/interactiveshell.py:2718: DtypeWarning: Columns (120,133,134,145,146,147,148,149,150,151,152,153,154,155,156,157,158,159,160) have mixed types.Specify dtype option on import or set low_memory=False.\n",
            "  interactivity=interactivity, compiler=compiler, result=result)\n",
            "/usr/local/lib/python3.7/dist-packages/IPython/core/interactiveshell.py:2718: DtypeWarning: Columns (133,145,146,147,148,149,157,159,160) have mixed types.Specify dtype option on import or set low_memory=False.\n",
            "  interactivity=interactivity, compiler=compiler, result=result)\n",
            "/usr/local/lib/python3.7/dist-packages/IPython/core/interactiveshell.py:2718: DtypeWarning: Columns (146,147,148,149,159,160) have mixed types.Specify dtype option on import or set low_memory=False.\n",
            "  interactivity=interactivity, compiler=compiler, result=result)\n",
            "/usr/local/lib/python3.7/dist-packages/IPython/core/interactiveshell.py:2718: DtypeWarning: Columns (133,145,147,159,160) have mixed types.Specify dtype option on import or set low_memory=False.\n",
            "  interactivity=interactivity, compiler=compiler, result=result)\n",
            "/usr/local/lib/python3.7/dist-packages/IPython/core/interactiveshell.py:2718: DtypeWarning: Columns (133,145,147,160) have mixed types.Specify dtype option on import or set low_memory=False.\n",
            "  interactivity=interactivity, compiler=compiler, result=result)\n",
            "/usr/local/lib/python3.7/dist-packages/IPython/core/interactiveshell.py:2718: DtypeWarning: Columns (120,133,146,147,149,159,160) have mixed types.Specify dtype option on import or set low_memory=False.\n",
            "  interactivity=interactivity, compiler=compiler, result=result)\n"
          ],
          "name": "stderr"
        }
      ]
    },
    {
      "cell_type": "code",
      "metadata": {
        "id": "ePeaC663CYVt"
      },
      "source": [
        "# Disaggregated Futures-and-Options Combined Reports:\n",
        "Cdisagg_2006_2016 = pd.read_csv(ZipFile(BytesIO(urllib.request.urlopen('https://www.cftc.gov/files/dea/history/com_disagg_txt_hist_2006_2016.zip').read())).open('C_Disagg06_16.txt'), sep=',', error_bad_lines=False, decimal='.', encoding='gbk', skiprows=0)\n",
        "Cdisagg_2010 = pd.read_csv(ZipFile(BytesIO(urllib.request.urlopen('https://www.cftc.gov/files/dea/history/com_disagg_txt_2010.zip').read())).open('c_year.txt'), sep=',', error_bad_lines=False, decimal='.', encoding='gbk', skiprows=0)\n",
        "Cdisagg_2011 = pd.read_csv(ZipFile(BytesIO(urllib.request.urlopen('https://www.cftc.gov/files/dea/history/com_disagg_txt_2011.zip').read())).open('c_year.txt'), sep=',', error_bad_lines=False, decimal='.', encoding='gbk', skiprows=0)\n",
        "Cdisagg_2012 = pd.read_csv(ZipFile(BytesIO(urllib.request.urlopen('https://www.cftc.gov/files/dea/history/com_disagg_txt_2012.zip').read())).open('c_year.txt'), sep=',', error_bad_lines=False, decimal='.', encoding='gbk', skiprows=0)\n",
        "Cdisagg_2013 = pd.read_csv(ZipFile(BytesIO(urllib.request.urlopen('https://www.cftc.gov/files/dea/history/com_disagg_txt_2013.zip').read())).open('c_year.txt'), sep=',', error_bad_lines=False, decimal='.', encoding='gbk', skiprows=0)\n",
        "Cdisagg_2014 = pd.read_csv(ZipFile(BytesIO(urllib.request.urlopen('https://www.cftc.gov/files/dea/history/com_disagg_txt_2014.zip').read())).open('c_year.txt'), sep=',', error_bad_lines=False, decimal='.', encoding='gbk', skiprows=0)\n",
        "Cdisagg_2015 = pd.read_csv(ZipFile(BytesIO(urllib.request.urlopen('https://www.cftc.gov/files/dea/history/com_disagg_txt_2015.zip').read())).open('c_year.txt'), sep=',', error_bad_lines=False, decimal='.', encoding='gbk', skiprows=0)\n",
        "Cdisagg_2016 = pd.read_csv(ZipFile(BytesIO(urllib.request.urlopen('https://www.cftc.gov/files/dea/history/com_disagg_txt_2016.zip').read())).open('c_year.txt'), sep=',', error_bad_lines=False, decimal='.', encoding='gbk', skiprows=0)\n",
        "Cdisagg_2017 = pd.read_csv(ZipFile(BytesIO(urllib.request.urlopen('https://www.cftc.gov/files/dea/history/com_disagg_txt_2017.zip').read())).open('c_year.txt'), sep=',', error_bad_lines=False, decimal='.', encoding='gbk', skiprows=0)\n",
        "Cdisagg_2018 = pd.read_csv(ZipFile(BytesIO(urllib.request.urlopen('https://www.cftc.gov/files/dea/history/com_disagg_txt_2018.zip').read())).open('c_year.txt'), sep=',', error_bad_lines=False, decimal='.', encoding='gbk', skiprows=0)\n",
        "Cdisagg_2019 = pd.read_csv(ZipFile(BytesIO(urllib.request.urlopen('https://www.cftc.gov/files/dea/history/com_disagg_txt_2019.zip').read())).open('c_year.txt'), sep=',', error_bad_lines=False, decimal='.', encoding='gbk', skiprows=0)\n",
        "Cdisagg_2020 = pd.read_csv(ZipFile(BytesIO(urllib.request.urlopen('https://www.cftc.gov/files/dea/history/com_disagg_txt_2020.zip').read())).open('c_year.txt'), sep=',', error_bad_lines=False, decimal='.', encoding='gbk', skiprows=0)\n",
        "Cdisagg_2021 = pd.read_csv(ZipFile(BytesIO(urllib.request.urlopen('https://www.cftc.gov/files/dea/history/com_disagg_txt_2021.zip').read())).open('c_year.txt'), sep=',', error_bad_lines=False, decimal='.', encoding='gbk', skiprows=0)"
      ],
      "execution_count": null,
      "outputs": []
    },
    {
      "cell_type": "code",
      "metadata": {
        "colab": {
          "base_uri": "https://localhost:8080/"
        },
        "id": "-_DYowEL9jpE",
        "outputId": "31013dc0-b2b6-4192-92d4-136eebf33f00"
      },
      "source": [
        "# Traders in Financial Futures ; Futures Only Reports:\n",
        "Ffin_2006_2016 = pd.read_csv(ZipFile(BytesIO(urllib.request.urlopen('https://www.cftc.gov/files/dea/history/fin_fut_txt_2006_2016.zip').read())).open('F_TFF_2006_2016.txt'), sep=',', error_bad_lines=False, decimal='.', encoding='gbk', skiprows=0).rename(columns={'Report_Date_as_MM_DD_YYYY': 'Report_Date_as_YYYY-MM-DD'})\n",
        "Ffin_2010 = pd.read_csv(ZipFile(BytesIO(urllib.request.urlopen('https://www.cftc.gov/files/dea/history/fut_fin_txt_2010.zip').read())).open('FinFutYY.txt'), sep=',', error_bad_lines=False, decimal='.', encoding='gbk', skiprows=0).rename(columns={'Report_Date_as_MM_DD_YYYY': 'Report_Date_as_YYYY-MM-DD'})\n",
        "Ffin_2011 = pd.read_csv(ZipFile(BytesIO(urllib.request.urlopen('https://www.cftc.gov/files/dea/history/fut_fin_txt_2011.zip').read())).open('FinFutYY.txt'), sep=',', error_bad_lines=False, decimal='.', encoding='gbk', skiprows=0).rename(columns={'Report_Date_as_MM_DD_YYYY': 'Report_Date_as_YYYY-MM-DD'})\n",
        "Ffin_2012 = pd.read_csv(ZipFile(BytesIO(urllib.request.urlopen('https://www.cftc.gov/files/dea/history/fut_fin_txt_2012.zip').read())).open('FinFutYY.txt'), sep=',', error_bad_lines=False, decimal='.', encoding='gbk', skiprows=0).rename(columns={'Report_Date_as_MM_DD_YYYY': 'Report_Date_as_YYYY-MM-DD'})\n",
        "Ffin_2013 = pd.read_csv(ZipFile(BytesIO(urllib.request.urlopen('https://www.cftc.gov/files/dea/history/fut_fin_txt_2013.zip').read())).open('FinFutYY.txt'), sep=',', error_bad_lines=False, decimal='.', encoding='gbk', skiprows=0).rename(columns={'Report_Date_as_MM_DD_YYYY': 'Report_Date_as_YYYY-MM-DD'})\n",
        "Ffin_2014 = pd.read_csv(ZipFile(BytesIO(urllib.request.urlopen('https://www.cftc.gov/files/dea/history/fut_fin_txt_2014.zip').read())).open('FinFutYY.txt'), sep=',', error_bad_lines=False, decimal='.', encoding='gbk', skiprows=0).rename(columns={'Report_Date_as_MM_DD_YYYY': 'Report_Date_as_YYYY-MM-DD'})\n",
        "Ffin_2015 = pd.read_csv(ZipFile(BytesIO(urllib.request.urlopen('https://www.cftc.gov/files/dea/history/fut_fin_txt_2015.zip').read())).open('FinFutYY.txt'), sep=',', error_bad_lines=False, decimal='.', encoding='gbk', skiprows=0).rename(columns={'Report_Date_as_MM_DD_YYYY': 'Report_Date_as_YYYY-MM-DD'})\n",
        "Ffin_2016 = pd.read_csv(ZipFile(BytesIO(urllib.request.urlopen('https://www.cftc.gov/files/dea/history/fut_fin_txt_2016.zip').read())).open('FinFutYY.txt'), sep=',', error_bad_lines=False, decimal='.', encoding='gbk', skiprows=0).rename(columns={'Report_Date_as_MM_DD_YYYY': 'Report_Date_as_YYYY-MM-DD'})\n",
        "Ffin_2017 = pd.read_csv(ZipFile(BytesIO(urllib.request.urlopen('https://www.cftc.gov/files/dea/history/fut_fin_txt_2017.zip').read())).open('FinFutYY.txt'), sep=',', error_bad_lines=False, decimal='.', encoding='gbk', skiprows=0).rename(columns={'Report_Date_as_MM_DD_YYYY': 'Report_Date_as_YYYY-MM-DD'})\n",
        "Ffin_2018 = pd.read_csv(ZipFile(BytesIO(urllib.request.urlopen('https://www.cftc.gov/files/dea/history/fut_fin_txt_2018.zip').read())).open('FinFutYY.txt'), sep=',', error_bad_lines=False, decimal='.', encoding='gbk', skiprows=0).rename(columns={'Report_Date_as_MM_DD_YYYY': 'Report_Date_as_YYYY-MM-DD'})\n",
        "Ffin_2019 = pd.read_csv(ZipFile(BytesIO(urllib.request.urlopen('https://www.cftc.gov/files/dea/history/fut_fin_txt_2019.zip').read())).open('FinFutYY.txt'), sep=',', error_bad_lines=False, decimal='.', encoding='gbk', skiprows=0).rename(columns={'Report_Date_as_MM_DD_YYYY': 'Report_Date_as_YYYY-MM-DD'})\n",
        "Ffin_2020 = pd.read_csv(ZipFile(BytesIO(urllib.request.urlopen('https://www.cftc.gov/files/dea/history/fut_fin_txt_2020.zip').read())).open('FinFutYY.txt'), sep=',', error_bad_lines=False, decimal='.', encoding='gbk', skiprows=0).rename(columns={'Report_Date_as_MM_DD_YYYY': 'Report_Date_as_YYYY-MM-DD'})\n",
        "Ffin_2021 = pd.read_csv(ZipFile(BytesIO(urllib.request.urlopen('https://www.cftc.gov/files/dea/history/fut_fin_txt_2021.zip').read())).open('FinFutYY.txt'), sep=',', error_bad_lines=False, decimal='.', encoding='gbk', skiprows=0).rename(columns={'Report_Date_as_MM_DD_YYYY': 'Report_Date_as_YYYY-MM-DD'})"
      ],
      "execution_count": 5,
      "outputs": [
        {
          "output_type": "stream",
          "text": [
            "/usr/local/lib/python3.7/dist-packages/IPython/core/interactiveshell.py:2718: DtypeWarning: Columns (3,82) have mixed types.Specify dtype option on import or set low_memory=False.\n",
            "  interactivity=interactivity, compiler=compiler, result=result)\n"
          ],
          "name": "stderr"
        }
      ]
    },
    {
      "cell_type": "code",
      "metadata": {
        "colab": {
          "base_uri": "https://localhost:8080/"
        },
        "id": "A796RwPbCds8",
        "outputId": "839dafa7-9c43-44d0-b6ae-9898f6746623"
      },
      "source": [
        "# Traders in Financial Futures ; Futures-and-Options Combined Reports:\n",
        "Cfin_2006_2016 = pd.read_csv(ZipFile(BytesIO(urllib.request.urlopen('https://www.cftc.gov/files/dea/history/fin_com_txt_2006_2016.zip').read())).open('C_TFF_2006_2016.txt'), sep=',', error_bad_lines=False, decimal='.', encoding='gbk', skiprows=0)\n",
        "Cfin_2010 = pd.read_csv(ZipFile(BytesIO(urllib.request.urlopen('https://www.cftc.gov/files/dea/history/com_fin_txt_2010.zip').read())).open('FinComYY.txt'), sep=',', error_bad_lines=False, decimal='.', encoding='gbk', skiprows=0)\n",
        "Cfin_2011 = pd.read_csv(ZipFile(BytesIO(urllib.request.urlopen('https://www.cftc.gov/files/dea/history/com_fin_txt_2011.zip').read())).open('FinComYY.txt'), sep=',', error_bad_lines=False, decimal='.', encoding='gbk', skiprows=0)\n",
        "Cfin_2012 = pd.read_csv(ZipFile(BytesIO(urllib.request.urlopen('https://www.cftc.gov/files/dea/history/com_fin_txt_2012.zip').read())).open('FinComYY.txt'), sep=',', error_bad_lines=False, decimal='.', encoding='gbk', skiprows=0)\n",
        "Cfin_2013 = pd.read_csv(ZipFile(BytesIO(urllib.request.urlopen('https://www.cftc.gov/files/dea/history/com_fin_txt_2013.zip').read())).open('FinComYY.txt'), sep=',', error_bad_lines=False, decimal='.', encoding='gbk', skiprows=0)\n",
        "Cfin_2014 = pd.read_csv(ZipFile(BytesIO(urllib.request.urlopen('https://www.cftc.gov/files/dea/history/com_fin_txt_2014.zip').read())).open('FinComYY.txt'), sep=',', error_bad_lines=False, decimal='.', encoding='gbk', skiprows=0)\n",
        "Cfin_2015 = pd.read_csv(ZipFile(BytesIO(urllib.request.urlopen('https://www.cftc.gov/files/dea/history/com_fin_txt_2015.zip').read())).open('FinComYY.txt'), sep=',', error_bad_lines=False, decimal='.', encoding='gbk', skiprows=0)\n",
        "Cfin_2016 = pd.read_csv(ZipFile(BytesIO(urllib.request.urlopen('https://www.cftc.gov/files/dea/history/com_fin_txt_2016.zip').read())).open('FinComYY.txt'), sep=',', error_bad_lines=False, decimal='.', encoding='gbk', skiprows=0)\n",
        "Cfin_2017 = pd.read_csv(ZipFile(BytesIO(urllib.request.urlopen('https://www.cftc.gov/files/dea/history/com_fin_txt_2017.zip').read())).open('FinComYY.txt'), sep=',', error_bad_lines=False, decimal='.', encoding='gbk', skiprows=0)\n",
        "Cfin_2018 = pd.read_csv(ZipFile(BytesIO(urllib.request.urlopen('https://www.cftc.gov/files/dea/history/com_fin_txt_2018.zip').read())).open('FinComYY.txt'), sep=',', error_bad_lines=False, decimal='.', encoding='gbk', skiprows=0)\n",
        "Cfin_2019 = pd.read_csv(ZipFile(BytesIO(urllib.request.urlopen('https://www.cftc.gov/files/dea/history/com_fin_txt_2019.zip').read())).open('FinComYY.txt'), sep=',', error_bad_lines=False, decimal='.', encoding='gbk', skiprows=0)\n",
        "Cfin_2020 = pd.read_csv(ZipFile(BytesIO(urllib.request.urlopen('https://www.cftc.gov/files/dea/history/com_fin_txt_2020.zip').read())).open('FinComYY.txt'), sep=',', error_bad_lines=False, decimal='.', encoding='gbk', skiprows=0)\n",
        "Cfin_2021 = pd.read_csv(ZipFile(BytesIO(urllib.request.urlopen('https://www.cftc.gov/files/dea/history/com_fin_txt_2021.zip').read())).open('FinComYY.txt'), sep=',', error_bad_lines=False, decimal='.', encoding='gbk', skiprows=0)"
      ],
      "execution_count": 10,
      "outputs": [
        {
          "output_type": "stream",
          "text": [
            "/usr/local/lib/python3.7/dist-packages/IPython/core/interactiveshell.py:2718: DtypeWarning: Columns (3,82) have mixed types.Specify dtype option on import or set low_memory=False.\n",
            "  interactivity=interactivity, compiler=compiler, result=result)\n"
          ],
          "name": "stderr"
        }
      ]
    },
    {
      "cell_type": "code",
      "metadata": {
        "colab": {
          "base_uri": "https://localhost:8080/"
        },
        "id": "5UD0hQRs-Fa0",
        "outputId": "16b6f391-109c-4932-c737-036ba34af172"
      },
      "source": [
        "# Futures Only Reports:\n",
        "Fdea_2000 = pd.read_csv(ZipFile(BytesIO(urllib.request.urlopen('https://www.cftc.gov/files/dea/history/deacot2000.zip').read())).open('Annual.TXT'), sep=',', error_bad_lines=False, decimal='.', encoding='gbk', skiprows=0)\n",
        "Fdea_2001 = pd.read_csv(ZipFile(BytesIO(urllib.request.urlopen('https://www.cftc.gov/files/dea/history/deacot2001.zip').read())).open('Annual.TXT'), sep=',', error_bad_lines=False, decimal='.', encoding='gbk', skiprows=0)\n",
        "Fdea_2002 = pd.read_csv(ZipFile(BytesIO(urllib.request.urlopen('https://www.cftc.gov/files/dea/history/deacot2002.zip').read())).open('Annual.TXT'), sep=',', error_bad_lines=False, decimal='.', encoding='gbk', skiprows=0)\n",
        "Fdea_2003 = pd.read_csv(ZipFile(BytesIO(urllib.request.urlopen('https://www.cftc.gov/files/dea/history/deacot2003.zip').read())).open('annual.txt'), sep=',', error_bad_lines=False, decimal='.', encoding='gbk', skiprows=0)\n",
        "Fdea_2004 = pd.read_csv(ZipFile(BytesIO(urllib.request.urlopen('https://www.cftc.gov/files/dea/history/deacot2004.zip').read())).open('annual.txt'), sep=',', error_bad_lines=False, decimal='.', encoding='gbk', skiprows=0)\n",
        "Fdea_2005 = pd.read_csv(ZipFile(BytesIO(urllib.request.urlopen('https://www.cftc.gov/files/dea/history/deacot2005.zip').read())).open('annual.txt'), sep=',', error_bad_lines=False, decimal='.', encoding='gbk', skiprows=0)\n",
        "Fdea_2006 = pd.read_csv(ZipFile(BytesIO(urllib.request.urlopen('https://www.cftc.gov/files/dea/history/deacot2006.zip').read())).open('annual.txt'), sep=',', error_bad_lines=False, decimal='.', encoding='gbk', skiprows=0)\n",
        "Fdea_2007 = pd.read_csv(ZipFile(BytesIO(urllib.request.urlopen('https://www.cftc.gov/files/dea/history/deacot2007.zip').read())).open('annual_2007.txt'), sep=',', error_bad_lines=False, decimal='.', encoding='gbk', skiprows=0)\n",
        "Fdea_2008 = pd.read_csv(ZipFile(BytesIO(urllib.request.urlopen('https://www.cftc.gov/files/dea/history/deacot2008.zip').read())).open('annual.txt'), sep=',', error_bad_lines=False, decimal='.', encoding='gbk', skiprows=0)\n",
        "Fdea_2009 = pd.read_csv(ZipFile(BytesIO(urllib.request.urlopen('https://www.cftc.gov/files/dea/history/deacot2009.zip').read())).open('annual.txt'), sep=',', error_bad_lines=False, decimal='.', encoding='gbk', skiprows=0)\n",
        "Fdea_2010 = pd.read_csv(ZipFile(BytesIO(urllib.request.urlopen('https://www.cftc.gov/files/dea/history/deacot2010.zip').read())).open('annual.txt'), sep=',', error_bad_lines=False, decimal='.', encoding='gbk', skiprows=0)\n",
        "Fdea_2011 = pd.read_csv(ZipFile(BytesIO(urllib.request.urlopen('https://www.cftc.gov/files/dea/history/deacot2011.zip').read())).open('annual.txt'), sep=',', error_bad_lines=False, decimal='.', encoding='gbk', skiprows=0)\n",
        "Fdea_2012 = pd.read_csv(ZipFile(BytesIO(urllib.request.urlopen('https://www.cftc.gov/files/dea/history/deacot2012.zip').read())).open('annual.txt'), sep=',', error_bad_lines=False, decimal='.', encoding='gbk', skiprows=0)\n",
        "Fdea_2013 = pd.read_csv(ZipFile(BytesIO(urllib.request.urlopen('https://www.cftc.gov/files/dea/history/deacot2013.zip').read())).open('annual.txt'), sep=',', error_bad_lines=False, decimal='.', encoding='gbk', skiprows=0)\n",
        "Fdea_2014 = pd.read_csv(ZipFile(BytesIO(urllib.request.urlopen('https://www.cftc.gov/files/dea/history/deacot2014.zip').read())).open('annual.txt'), sep=',', error_bad_lines=False, decimal='.', encoding='gbk', skiprows=0)\n",
        "Fdea_2015 = pd.read_csv(ZipFile(BytesIO(urllib.request.urlopen('https://www.cftc.gov/files/dea/history/deacot2015.zip').read())).open('annual.txt'), sep=',', error_bad_lines=False, decimal='.', encoding='gbk', skiprows=0)\n",
        "Fdea_2016 = pd.read_csv(ZipFile(BytesIO(urllib.request.urlopen('https://www.cftc.gov/files/dea/history/deacot2016.zip').read())).open('annual.txt'), sep=',', error_bad_lines=False, decimal='.', encoding='gbk', skiprows=0)\n",
        "Fdea_2017 = pd.read_csv(ZipFile(BytesIO(urllib.request.urlopen('https://www.cftc.gov/files/dea/history/deacot2017.zip').read())).open('annual.txt'), sep=',', error_bad_lines=False, decimal='.', encoding='gbk', skiprows=0)\n",
        "Fdea_2018 = pd.read_csv(ZipFile(BytesIO(urllib.request.urlopen('https://www.cftc.gov/files/dea/history/deacot2018.zip').read())).open('annual.txt'), sep=',', error_bad_lines=False, decimal='.', encoding='gbk', skiprows=0)\n",
        "Fdea_2019 = pd.read_csv(ZipFile(BytesIO(urllib.request.urlopen('https://www.cftc.gov/files/dea/history/deacot2019.zip').read())).open('annual.txt'), sep=',', error_bad_lines=False, decimal='.', encoding='gbk', skiprows=0)\n",
        "Fdea_2020 = pd.read_csv(ZipFile(BytesIO(urllib.request.urlopen('https://www.cftc.gov/files/dea/history/deacot2020.zip').read())).open('annual.txt'), sep=',', error_bad_lines=False, decimal='.', encoding='gbk', skiprows=0)\n",
        "Fdea_2021 = pd.read_csv(ZipFile(BytesIO(urllib.request.urlopen('https://www.cftc.gov/files/dea/history/deacot2021.zip').read())).open('annual.txt'), sep=',', error_bad_lines=False, decimal='.', encoding='gbk', skiprows=0)"
      ],
      "execution_count": 12,
      "outputs": [
        {
          "output_type": "stream",
          "text": [
            "/usr/local/lib/python3.7/dist-packages/IPython/core/interactiveshell.py:2718: DtypeWarning: Columns (3,37,38,39,40,41,42,43,44,45,46,126) have mixed types.Specify dtype option on import or set low_memory=False.\n",
            "  interactivity=interactivity, compiler=compiler, result=result)\n"
          ],
          "name": "stderr"
        }
      ]
    },
    {
      "cell_type": "code",
      "metadata": {
        "id": "s8n6iniRCjSE"
      },
      "source": [
        "# Futures-and-Options Combined Reports:\n",
        "Cdea_2000 = pd.read_csv(ZipFile(BytesIO(urllib.request.urlopen('https://www.cftc.gov/files/dea/history/deahistfo_2000.zip').read())).open('AnnualOF2000.txt'), sep=',', error_bad_lines=False, decimal='.', encoding='gbk', skiprows=0)\n",
        "Cdea_2001 = pd.read_csv(ZipFile(BytesIO(urllib.request.urlopen('https://www.cftc.gov/files/dea/history/deahistfo_2001.zip').read())).open('AnnualOF2001.txt'), sep=',', error_bad_lines=False, decimal='.', encoding='gbk', skiprows=0)\n",
        "Cdea_2002 = pd.read_csv(ZipFile(BytesIO(urllib.request.urlopen('https://www.cftc.gov/files/dea/history/deahistfo_2002.zip').read())).open('annualof_2002.txt'), sep=',', error_bad_lines=False, decimal='.', encoding='gbk', skiprows=0)\n",
        "Cdea_2003 = pd.read_csv(ZipFile(BytesIO(urllib.request.urlopen('https://www.cftc.gov/files/dea/history/deahistfo_2003.zip').read())).open('AnnualOF2003.txt'), sep=',', error_bad_lines=False, decimal='.', encoding='gbk', skiprows=0)\n",
        "Cdea_2004 = pd.read_csv(ZipFile(BytesIO(urllib.request.urlopen('https://www.cftc.gov/files/dea/history/deahistfo2004.zip').read())).open('annualof.txt'), sep=',', error_bad_lines=False, decimal='.', encoding='gbk', skiprows=0)\n",
        "Cdea_2005 = pd.read_csv(ZipFile(BytesIO(urllib.request.urlopen('https://www.cftc.gov/files/dea/history/deahistfo2005.zip').read())).open('annualof.txt'), sep=',', error_bad_lines=False, decimal='.', encoding='gbk', skiprows=0)\n",
        "Cdea_2006 = pd.read_csv(ZipFile(BytesIO(urllib.request.urlopen('https://www.cftc.gov/files/dea/history/deahistfo2006.zip').read())).open('annualof.txt'), sep=',', error_bad_lines=False, decimal='.', encoding='gbk', skiprows=0)\n",
        "Cdea_2007 = pd.read_csv(ZipFile(BytesIO(urllib.request.urlopen('https://www.cftc.gov/files/dea/history/deahistfo2007.zip').read())).open('annualof_2007.txt'), sep=',', error_bad_lines=False, decimal='.', encoding='gbk', skiprows=0)\n",
        "Cdea_2008 = pd.read_csv(ZipFile(BytesIO(urllib.request.urlopen('https://www.cftc.gov/files/dea/history/deahistfo2008.zip').read())).open('annualof.txt'), sep=',', error_bad_lines=False, decimal='.', encoding='gbk', skiprows=0)\n",
        "Cdea_2009 = pd.read_csv(ZipFile(BytesIO(urllib.request.urlopen('https://www.cftc.gov/files/dea/history/deahistfo2009.zip').read())).open('annualof.txt'), sep=',', error_bad_lines=False, decimal='.', encoding='gbk', skiprows=0)\n",
        "Cdea_2010 = pd.read_csv(ZipFile(BytesIO(urllib.request.urlopen('https://www.cftc.gov/files/dea/history/deahistfo2010.zip').read())).open('annualof.txt'), sep=',', error_bad_lines=False, decimal='.', encoding='gbk', skiprows=0)\n",
        "Cdea_2011 = pd.read_csv(ZipFile(BytesIO(urllib.request.urlopen('https://www.cftc.gov/files/dea/history/deahistfo2011.zip').read())).open('annualof.txt'), sep=',', error_bad_lines=False, decimal='.', encoding='gbk', skiprows=0)\n",
        "Cdea_2012 = pd.read_csv(ZipFile(BytesIO(urllib.request.urlopen('https://www.cftc.gov/files/dea/history/deahistfo2012.zip').read())).open('annualof.txt'), sep=',', error_bad_lines=False, decimal='.', encoding='gbk', skiprows=0)\n",
        "Cdea_2013 = pd.read_csv(ZipFile(BytesIO(urllib.request.urlopen('https://www.cftc.gov/files/dea/history/deahistfo2013.zip').read())).open('annualof.txt'), sep=',', error_bad_lines=False, decimal='.', encoding='gbk', skiprows=0)\n",
        "Cdea_2014 = pd.read_csv(ZipFile(BytesIO(urllib.request.urlopen('https://www.cftc.gov/files/dea/history/deahistfo2014.zip').read())).open('annualof.txt'), sep=',', error_bad_lines=False, decimal='.', encoding='gbk', skiprows=0)\n",
        "Cdea_2015 = pd.read_csv(ZipFile(BytesIO(urllib.request.urlopen('https://www.cftc.gov/files/dea/history/deahistfo2015.zip').read())).open('annualof.txt'), sep=',', error_bad_lines=False, decimal='.', encoding='gbk', skiprows=0)\n",
        "Cdea_2016 = pd.read_csv(ZipFile(BytesIO(urllib.request.urlopen('https://www.cftc.gov/files/dea/history/deahistfo2016.zip').read())).open('annualof.txt'), sep=',', error_bad_lines=False, decimal='.', encoding='gbk', skiprows=0)\n",
        "Cdea_2017 = pd.read_csv(ZipFile(BytesIO(urllib.request.urlopen('https://www.cftc.gov/files/dea/history/deahistfo2017.zip').read())).open('annualof.txt'), sep=',', error_bad_lines=False, decimal='.', encoding='gbk', skiprows=0)\n",
        "Cdea_2018 = pd.read_csv(ZipFile(BytesIO(urllib.request.urlopen('https://www.cftc.gov/files/dea/history/deahistfo2018.zip').read())).open('annualof.txt'), sep=',', error_bad_lines=False, decimal='.', encoding='gbk', skiprows=0)\n",
        "Cdea_2019 = pd.read_csv(ZipFile(BytesIO(urllib.request.urlopen('https://www.cftc.gov/files/dea/history/deahistfo2019.zip').read())).open('annualof.txt'), sep=',', error_bad_lines=False, decimal='.', encoding='gbk', skiprows=0)\n",
        "Cdea_2020 = pd.read_csv(ZipFile(BytesIO(urllib.request.urlopen('https://www.cftc.gov/files/dea/history/deahistfo2020.zip').read())).open('annualof.txt'), sep=',', error_bad_lines=False, decimal='.', encoding='gbk', skiprows=0)\n",
        "Cdea_2021 = pd.read_csv(ZipFile(BytesIO(urllib.request.urlopen('https://www.cftc.gov/files/dea/history/deahistfo2021.zip').read())).open('annualof.txt'), sep=',', error_bad_lines=False, decimal='.', encoding='gbk', skiprows=0)"
      ],
      "execution_count": 14,
      "outputs": []
    },
    {
      "cell_type": "code",
      "metadata": {
        "id": "DEUFb-AV-I1J"
      },
      "source": [
        "# Commodity Index Trader Supplement:\n",
        "deacit_2006_2016 = pd.read_csv(ZipFile(BytesIO(urllib.request.urlopen('https://www.cftc.gov/files/dea/history/dea_cit_txt_2006_2016.zip').read())).open('CIT06_16.txt'), sep=',', error_bad_lines=False, decimal='.', encoding='gbk', skiprows=0)\n",
        "deacit_2006 = pd.read_csv(ZipFile(BytesIO(urllib.request.urlopen('https://www.cftc.gov/files/dea/history/dea_cit_txt_2006.zip').read())).open('annualci2006.txt'), sep=',', error_bad_lines=False, decimal='.', encoding='gbk', skiprows=0)\n",
        "deacit_2007 = pd.read_csv(ZipFile(BytesIO(urllib.request.urlopen('https://www.cftc.gov/files/dea/history/dea_cit_txt_2007.zip').read())).open('annualci.txt'), sep=',', error_bad_lines=False, decimal='.', encoding='gbk', skiprows=0)\n",
        "deacit_2008 = pd.read_csv(ZipFile(BytesIO(urllib.request.urlopen('https://www.cftc.gov/files/dea/history/dea_cit_txt_2008.zip').read())).open('annualci.txt'), sep=',', error_bad_lines=False, decimal='.', encoding='gbk', skiprows=0)\n",
        "deacit_2009 = pd.read_csv(ZipFile(BytesIO(urllib.request.urlopen('https://www.cftc.gov/files/dea/history/dea_cit_txt_2009.zip').read())).open('annualci.txt'), sep=',', error_bad_lines=False, decimal='.', encoding='gbk', skiprows=0)\n",
        "deacit_2010 = pd.read_csv(ZipFile(BytesIO(urllib.request.urlopen('https://www.cftc.gov/files/dea/history/dea_cit_txt_2010.zip').read())).open('annualci.txt'), sep=',', error_bad_lines=False, decimal='.', encoding='gbk', skiprows=0)\n",
        "deacit_2011 = pd.read_csv(ZipFile(BytesIO(urllib.request.urlopen('https://www.cftc.gov/files/dea/history/dea_cit_txt_2011.zip').read())).open('annualci.txt'), sep=',', error_bad_lines=False, decimal='.', encoding='gbk', skiprows=0)\n",
        "deacit_2012 = pd.read_csv(ZipFile(BytesIO(urllib.request.urlopen('https://www.cftc.gov/files/dea/history/dea_cit_txt_2012.zip').read())).open('annualci.txt'), sep=',', error_bad_lines=False, decimal='.', encoding='gbk', skiprows=0)\n",
        "deacit_2013 = pd.read_csv(ZipFile(BytesIO(urllib.request.urlopen('https://www.cftc.gov/files/dea/history/dea_cit_txt_2013.zip').read())).open('annualci.txt'), sep=',', error_bad_lines=False, decimal='.', encoding='gbk', skiprows=0)\n",
        "deacit_2014 = pd.read_csv(ZipFile(BytesIO(urllib.request.urlopen('https://www.cftc.gov/files/dea/history/dea_cit_txt_2014.zip').read())).open('annualci.txt'), sep=',', error_bad_lines=False, decimal='.', encoding='gbk', skiprows=0)\n",
        "deacit_2015 = pd.read_csv(ZipFile(BytesIO(urllib.request.urlopen('https://www.cftc.gov/files/dea/history/dea_cit_txt_2015.zip').read())).open('annualci.txt'), sep=',', error_bad_lines=False, decimal='.', encoding='gbk', skiprows=0)\n",
        "deacit_2016 = pd.read_csv(ZipFile(BytesIO(urllib.request.urlopen('https://www.cftc.gov/files/dea/history/dea_cit_txt_2016.zip').read())).open('annualci.txt'), sep=',', error_bad_lines=False, decimal='.', encoding='gbk', skiprows=0)\n",
        "deacit_2017 = pd.read_csv(ZipFile(BytesIO(urllib.request.urlopen('https://www.cftc.gov/files/dea/history/dea_cit_txt_2017.zip').read())).open('annualci.txt'), sep=',', error_bad_lines=False, decimal='.', encoding='gbk', skiprows=0)\n",
        "deacit_2018 = pd.read_csv(ZipFile(BytesIO(urllib.request.urlopen('https://www.cftc.gov/files/dea/history/dea_cit_txt_2018.zip').read())).open('annualci.txt'), sep=',', error_bad_lines=False, decimal='.', encoding='gbk', skiprows=0)\n",
        "deacit_2019 = pd.read_csv(ZipFile(BytesIO(urllib.request.urlopen('https://www.cftc.gov/files/dea/history/dea_cit_txt_2019.zip').read())).open('annualci.txt'), sep=',', error_bad_lines=False, decimal='.', encoding='gbk', skiprows=0)\n",
        "deacit_2020 = pd.read_csv(ZipFile(BytesIO(urllib.request.urlopen('https://www.cftc.gov/files/dea/history/dea_cit_txt_2020.zip').read())).open('annualci.txt'), sep=',', error_bad_lines=False, decimal='.', encoding='gbk', skiprows=0)\n",
        "deacit_2021 = pd.read_csv(ZipFile(BytesIO(urllib.request.urlopen('https://www.cftc.gov/files/dea/history/dea_cit_txt_2021.zip').read())).open('annualci.txt'), sep=',', error_bad_lines=False, decimal='.', encoding='gbk', skiprows=0)"
      ],
      "execution_count": 16,
      "outputs": []
    },
    {
      "cell_type": "code",
      "metadata": {
        "id": "qlROT0d24Dr8"
      },
      "source": [
        "corrections = pd.read_csv('https://raw.githubusercontent.com/ForestTiger-GH/COTRA/main/COTR_Corrections.txt', sep='\\t', error_bad_lines=False, skiprows=0)\n",
        "check = np.array(corrections).tolist()"
      ],
      "execution_count": 6,
      "outputs": []
    },
    {
      "cell_type": "code",
      "metadata": {
        "id": "Q8EYtiYOUI-C"
      },
      "source": [
        "# Объединение в один df\n",
        "Fdisagg_2010_now = []\n",
        "Fdisagg_2010_now = Fdisagg_2010.append(Fdisagg_2011).append(Fdisagg_2012).append(Fdisagg_2013).append(Fdisagg_2014).append(Fdisagg_2015).append(Fdisagg_2016).append(Fdisagg_2017).append(Fdisagg_2018).append(Fdisagg_2019).append(Fdisagg_2020).append(Fdisagg_2021)\n",
        "\n",
        "# Фильтр лишних колонок\n",
        "Fdisagg_2010_now.iloc[:, 0:23].drop(Fdisagg_2010_now.columns[[1, 3, 4, 5, 6]], axis=1)\n",
        "\n",
        "# Замена по списку\n",
        "for i in range(len(check)):\n",
        "    Fdisagg_2010_now['Market_and_Exchange_Names'].replace(({check[i][0]: check[i][1]}))"
      ],
      "execution_count": 7,
      "outputs": []
    },
    {
      "cell_type": "code",
      "metadata": {
        "colab": {
          "base_uri": "https://localhost:8080/"
        },
        "id": "vHakBHu4WMR_",
        "outputId": "c4609e68-506e-4ec9-b353-4413af23ff86"
      },
      "source": [
        "# Объединение в один df\n",
        "Ffin_2010_now = []\n",
        "Ffin_2010_now = Ffin_2010.append(Ffin_2011).append(Ffin_2012).append(Ffin_2013).append(Ffin_2014).append(Ffin_2015).append(Ffin_2016).append(Ffin_2017).append(Ffin_2018).append(Ffin_2019).append(Ffin_2020).append(Ffin_2021)\n",
        "\n",
        "# Фильтр лишних колонок\n",
        "Ffin_2010_now.iloc[:, 0:24].drop(Ffin_2010_now.columns[[1, 3, 4, 5, 6]], axis=1)\n",
        "\n",
        "# # Замена по списку\n",
        "# for i in range(len(check)):\n",
        "#     Ffin_2010_now['Market_and_Exchange_Names'].replace(({check[i][0]: check[i][1]}))\n",
        "\n",
        "print()"
      ],
      "execution_count": 8,
      "outputs": [
        {
          "output_type": "stream",
          "text": [
            "\n"
          ],
          "name": "stdout"
        }
      ]
    },
    {
      "cell_type": "code",
      "metadata": {
        "colab": {
          "base_uri": "https://localhost:8080/",
          "height": 476
        },
        "id": "hQv0ncSy89SU",
        "outputId": "3db77e7c-3e77-49f2-c28f-582481812388"
      },
      "source": [
        "# Замена по списку\n",
        "for i in range(len(check)):\n",
        "    Ffin_2010_now['Market_and_Exchange_Names'].loc[Ffin_2010_now['Market_and_Exchange_Names'] == check[i][0], Ffin_2010_now['Market_and_Exchange_Names']] = check[i][1]\n",
        "\n",
        "    # .where(Ffin_2010_now['Market_and_Exchange_Names'] == str(check[i][0]), Ffin_2010_now['Market_and_Exchange_Names'] == str(check[i][1]))\n",
        "    # (str(check[i][0]), str(check[i][1]))\n",
        "    # (({check[i][0]: check[i][1]}))\n",
        "    # (to_replace = check[i][0], value =check[i][1])"
      ],
      "execution_count": 21,
      "outputs": [
        {
          "output_type": "error",
          "ename": "KeyError",
          "evalue": "ignored",
          "traceback": [
            "\u001b[0;31m---------------------------------------------------------------------------\u001b[0m",
            "\u001b[0;31mKeyError\u001b[0m                                  Traceback (most recent call last)",
            "\u001b[0;32m<ipython-input-21-e99f38a1cecc>\u001b[0m in \u001b[0;36m<module>\u001b[0;34m()\u001b[0m\n\u001b[1;32m      1\u001b[0m \u001b[0;31m# Замена по списку\u001b[0m\u001b[0;34m\u001b[0m\u001b[0;34m\u001b[0m\u001b[0;34m\u001b[0m\u001b[0m\n\u001b[1;32m      2\u001b[0m \u001b[0;32mfor\u001b[0m \u001b[0mi\u001b[0m \u001b[0;32min\u001b[0m \u001b[0mrange\u001b[0m\u001b[0;34m(\u001b[0m\u001b[0mlen\u001b[0m\u001b[0;34m(\u001b[0m\u001b[0mcheck\u001b[0m\u001b[0;34m)\u001b[0m\u001b[0;34m)\u001b[0m\u001b[0;34m:\u001b[0m\u001b[0;34m\u001b[0m\u001b[0;34m\u001b[0m\u001b[0m\n\u001b[0;32m----> 3\u001b[0;31m     \u001b[0mFfin_2010_now\u001b[0m\u001b[0;34m[\u001b[0m\u001b[0;34m'Market_and_Exchange_Names'\u001b[0m\u001b[0;34m]\u001b[0m\u001b[0;34m.\u001b[0m\u001b[0mloc\u001b[0m\u001b[0;34m[\u001b[0m\u001b[0mFfin_2010_now\u001b[0m\u001b[0;34m[\u001b[0m\u001b[0;34m'Market_and_Exchange_Names'\u001b[0m\u001b[0;34m]\u001b[0m \u001b[0;34m==\u001b[0m \u001b[0mcheck\u001b[0m\u001b[0;34m[\u001b[0m\u001b[0mi\u001b[0m\u001b[0;34m]\u001b[0m\u001b[0;34m[\u001b[0m\u001b[0;36m0\u001b[0m\u001b[0;34m]\u001b[0m\u001b[0;34m,\u001b[0m \u001b[0mFfin_2010_now\u001b[0m\u001b[0;34m[\u001b[0m\u001b[0;34m'Market_and_Exchange_Names'\u001b[0m\u001b[0;34m]\u001b[0m\u001b[0;34m]\u001b[0m \u001b[0;34m=\u001b[0m \u001b[0mcheck\u001b[0m\u001b[0;34m[\u001b[0m\u001b[0mi\u001b[0m\u001b[0;34m]\u001b[0m\u001b[0;34m[\u001b[0m\u001b[0;36m1\u001b[0m\u001b[0;34m]\u001b[0m\u001b[0;34m\u001b[0m\u001b[0;34m\u001b[0m\u001b[0m\n\u001b[0m\u001b[1;32m      4\u001b[0m \u001b[0;34m\u001b[0m\u001b[0m\n\u001b[1;32m      5\u001b[0m     \u001b[0;31m# .where(Ffin_2010_now['Market_and_Exchange_Names'] == str(check[i][0]), Ffin_2010_now['Market_and_Exchange_Names'] == str(check[i][1]))\u001b[0m\u001b[0;34m\u001b[0m\u001b[0;34m\u001b[0m\u001b[0;34m\u001b[0m\u001b[0m\n",
            "\u001b[0;32m/usr/local/lib/python3.7/dist-packages/pandas/core/indexing.py\u001b[0m in \u001b[0;36m__setitem__\u001b[0;34m(self, key, value)\u001b[0m\n\u001b[1;32m    664\u001b[0m         \u001b[0;32melse\u001b[0m\u001b[0;34m:\u001b[0m\u001b[0;34m\u001b[0m\u001b[0;34m\u001b[0m\u001b[0m\n\u001b[1;32m    665\u001b[0m             \u001b[0mkey\u001b[0m \u001b[0;34m=\u001b[0m \u001b[0mcom\u001b[0m\u001b[0;34m.\u001b[0m\u001b[0mapply_if_callable\u001b[0m\u001b[0;34m(\u001b[0m\u001b[0mkey\u001b[0m\u001b[0;34m,\u001b[0m \u001b[0mself\u001b[0m\u001b[0;34m.\u001b[0m\u001b[0mobj\u001b[0m\u001b[0;34m)\u001b[0m\u001b[0;34m\u001b[0m\u001b[0;34m\u001b[0m\u001b[0m\n\u001b[0;32m--> 666\u001b[0;31m         \u001b[0mindexer\u001b[0m \u001b[0;34m=\u001b[0m \u001b[0mself\u001b[0m\u001b[0;34m.\u001b[0m\u001b[0m_get_setitem_indexer\u001b[0m\u001b[0;34m(\u001b[0m\u001b[0mkey\u001b[0m\u001b[0;34m)\u001b[0m\u001b[0;34m\u001b[0m\u001b[0;34m\u001b[0m\u001b[0m\n\u001b[0m\u001b[1;32m    667\u001b[0m         \u001b[0mself\u001b[0m\u001b[0;34m.\u001b[0m\u001b[0m_has_valid_setitem_indexer\u001b[0m\u001b[0;34m(\u001b[0m\u001b[0mkey\u001b[0m\u001b[0;34m)\u001b[0m\u001b[0;34m\u001b[0m\u001b[0;34m\u001b[0m\u001b[0m\n\u001b[1;32m    668\u001b[0m \u001b[0;34m\u001b[0m\u001b[0m\n",
            "\u001b[0;32m/usr/local/lib/python3.7/dist-packages/pandas/core/indexing.py\u001b[0m in \u001b[0;36m_get_setitem_indexer\u001b[0;34m(self, key)\u001b[0m\n\u001b[1;32m    615\u001b[0m \u001b[0;34m\u001b[0m\u001b[0m\n\u001b[1;32m    616\u001b[0m         \u001b[0;32mtry\u001b[0m\u001b[0;34m:\u001b[0m\u001b[0;34m\u001b[0m\u001b[0;34m\u001b[0m\u001b[0m\n\u001b[0;32m--> 617\u001b[0;31m             \u001b[0;32mreturn\u001b[0m \u001b[0mself\u001b[0m\u001b[0;34m.\u001b[0m\u001b[0m_convert_to_indexer\u001b[0m\u001b[0;34m(\u001b[0m\u001b[0mkey\u001b[0m\u001b[0;34m,\u001b[0m \u001b[0maxis\u001b[0m\u001b[0;34m=\u001b[0m\u001b[0;36m0\u001b[0m\u001b[0;34m,\u001b[0m \u001b[0mis_setter\u001b[0m\u001b[0;34m=\u001b[0m\u001b[0;32mTrue\u001b[0m\u001b[0;34m)\u001b[0m\u001b[0;34m\u001b[0m\u001b[0;34m\u001b[0m\u001b[0m\n\u001b[0m\u001b[1;32m    618\u001b[0m         \u001b[0;32mexcept\u001b[0m \u001b[0mTypeError\u001b[0m \u001b[0;32mas\u001b[0m \u001b[0me\u001b[0m\u001b[0;34m:\u001b[0m\u001b[0;34m\u001b[0m\u001b[0;34m\u001b[0m\u001b[0m\n\u001b[1;32m    619\u001b[0m \u001b[0;34m\u001b[0m\u001b[0m\n",
            "\u001b[0;32m/usr/local/lib/python3.7/dist-packages/pandas/core/indexing.py\u001b[0m in \u001b[0;36m_convert_to_indexer\u001b[0;34m(self, key, axis, is_setter)\u001b[0m\n\u001b[1;32m   1196\u001b[0m             \u001b[0;32melse\u001b[0m\u001b[0;34m:\u001b[0m\u001b[0;34m\u001b[0m\u001b[0;34m\u001b[0m\u001b[0m\n\u001b[1;32m   1197\u001b[0m                 \u001b[0;31m# When setting, missing keys are not allowed, even with .loc:\u001b[0m\u001b[0;34m\u001b[0m\u001b[0;34m\u001b[0m\u001b[0;34m\u001b[0m\u001b[0m\n\u001b[0;32m-> 1198\u001b[0;31m                 \u001b[0;32mreturn\u001b[0m \u001b[0mself\u001b[0m\u001b[0;34m.\u001b[0m\u001b[0m_get_listlike_indexer\u001b[0m\u001b[0;34m(\u001b[0m\u001b[0mkey\u001b[0m\u001b[0;34m,\u001b[0m \u001b[0maxis\u001b[0m\u001b[0;34m,\u001b[0m \u001b[0mraise_missing\u001b[0m\u001b[0;34m=\u001b[0m\u001b[0;32mTrue\u001b[0m\u001b[0;34m)\u001b[0m\u001b[0;34m[\u001b[0m\u001b[0;36m1\u001b[0m\u001b[0;34m]\u001b[0m\u001b[0;34m\u001b[0m\u001b[0;34m\u001b[0m\u001b[0m\n\u001b[0m\u001b[1;32m   1199\u001b[0m         \u001b[0;32melse\u001b[0m\u001b[0;34m:\u001b[0m\u001b[0;34m\u001b[0m\u001b[0;34m\u001b[0m\u001b[0m\n\u001b[1;32m   1200\u001b[0m             \u001b[0;32mtry\u001b[0m\u001b[0;34m:\u001b[0m\u001b[0;34m\u001b[0m\u001b[0;34m\u001b[0m\u001b[0m\n",
            "\u001b[0;32m/usr/local/lib/python3.7/dist-packages/pandas/core/indexing.py\u001b[0m in \u001b[0;36m_get_listlike_indexer\u001b[0;34m(self, key, axis, raise_missing)\u001b[0m\n\u001b[1;32m   1252\u001b[0m             \u001b[0mkeyarr\u001b[0m\u001b[0;34m,\u001b[0m \u001b[0mindexer\u001b[0m\u001b[0;34m,\u001b[0m \u001b[0mnew_indexer\u001b[0m \u001b[0;34m=\u001b[0m \u001b[0max\u001b[0m\u001b[0;34m.\u001b[0m\u001b[0m_reindex_non_unique\u001b[0m\u001b[0;34m(\u001b[0m\u001b[0mkeyarr\u001b[0m\u001b[0;34m)\u001b[0m\u001b[0;34m\u001b[0m\u001b[0;34m\u001b[0m\u001b[0m\n\u001b[1;32m   1253\u001b[0m \u001b[0;34m\u001b[0m\u001b[0m\n\u001b[0;32m-> 1254\u001b[0;31m         \u001b[0mself\u001b[0m\u001b[0;34m.\u001b[0m\u001b[0m_validate_read_indexer\u001b[0m\u001b[0;34m(\u001b[0m\u001b[0mkeyarr\u001b[0m\u001b[0;34m,\u001b[0m \u001b[0mindexer\u001b[0m\u001b[0;34m,\u001b[0m \u001b[0maxis\u001b[0m\u001b[0;34m,\u001b[0m \u001b[0mraise_missing\u001b[0m\u001b[0;34m=\u001b[0m\u001b[0mraise_missing\u001b[0m\u001b[0;34m)\u001b[0m\u001b[0;34m\u001b[0m\u001b[0;34m\u001b[0m\u001b[0m\n\u001b[0m\u001b[1;32m   1255\u001b[0m         \u001b[0;32mreturn\u001b[0m \u001b[0mkeyarr\u001b[0m\u001b[0;34m,\u001b[0m \u001b[0mindexer\u001b[0m\u001b[0;34m\u001b[0m\u001b[0;34m\u001b[0m\u001b[0m\n\u001b[1;32m   1256\u001b[0m \u001b[0;34m\u001b[0m\u001b[0m\n",
            "\u001b[0;32m/usr/local/lib/python3.7/dist-packages/pandas/core/indexing.py\u001b[0m in \u001b[0;36m_validate_read_indexer\u001b[0;34m(self, key, indexer, axis, raise_missing)\u001b[0m\n\u001b[1;32m   1296\u001b[0m             \u001b[0;32mif\u001b[0m \u001b[0mmissing\u001b[0m \u001b[0;34m==\u001b[0m \u001b[0mlen\u001b[0m\u001b[0;34m(\u001b[0m\u001b[0mindexer\u001b[0m\u001b[0;34m)\u001b[0m\u001b[0;34m:\u001b[0m\u001b[0;34m\u001b[0m\u001b[0;34m\u001b[0m\u001b[0m\n\u001b[1;32m   1297\u001b[0m                 \u001b[0maxis_name\u001b[0m \u001b[0;34m=\u001b[0m \u001b[0mself\u001b[0m\u001b[0;34m.\u001b[0m\u001b[0mobj\u001b[0m\u001b[0;34m.\u001b[0m\u001b[0m_get_axis_name\u001b[0m\u001b[0;34m(\u001b[0m\u001b[0maxis\u001b[0m\u001b[0;34m)\u001b[0m\u001b[0;34m\u001b[0m\u001b[0;34m\u001b[0m\u001b[0m\n\u001b[0;32m-> 1298\u001b[0;31m                 \u001b[0;32mraise\u001b[0m \u001b[0mKeyError\u001b[0m\u001b[0;34m(\u001b[0m\u001b[0;34mf\"None of [{key}] are in the [{axis_name}]\"\u001b[0m\u001b[0;34m)\u001b[0m\u001b[0;34m\u001b[0m\u001b[0;34m\u001b[0m\u001b[0m\n\u001b[0m\u001b[1;32m   1299\u001b[0m \u001b[0;34m\u001b[0m\u001b[0m\n\u001b[1;32m   1300\u001b[0m             \u001b[0;31m# We (temporarily) allow for some missing keys with .loc, except in\u001b[0m\u001b[0;34m\u001b[0m\u001b[0;34m\u001b[0m\u001b[0;34m\u001b[0m\u001b[0m\n",
            "\u001b[0;31mKeyError\u001b[0m: \"None of [Index([(False, False, False, False, False, False, False, False, False, False, False, False, False, False, False, False, False, False, False, False, False, False, False, False, False, False, False, False, False, False, False, False, False, False, False, False, False, False, False, False, False, False, False, False, False, False, False, False, False, False, False, False, False, False, False, False, False, False, False, False, False, False, False, False, False, False, False, False, False, False, False, False, False, False, False, False, False, False, False, False, False, False, False, False, False, False, False, False, False, False, False, False, False, False, False, False, False, False, False, False, ...), ('CANADIAN DOLLAR - CHICAGO MERCANTILE EXCHANGE ', 'CANADIAN DOLLAR - CHICAGO MERCANTILE EXCHANGE ', 'CANADIAN DOLLAR - CHICAGO MERCANTILE EXCHANGE ', 'CANADIAN DOLLAR - CHICAGO MERCANTILE EXCHANGE ', 'CANADIAN DOLLAR - CHICAGO MERCANTILE EXCHANGE ', 'CANADIAN DOLLAR - CHICAGO MERCANTILE EXCHANGE ', 'CANADIAN DOLLAR - CHICAGO MERCANTILE EXCHANGE ', 'CANADIAN DOLLAR - CHICAGO MERCANTILE EXCHANGE ', 'CANADIAN DOLLAR - CHICAGO MERCANTILE EXCHANGE ', 'CANADIAN DOLLAR - CHICAGO MERCANTILE EXCHANGE ', 'CANADIAN DOLLAR - CHICAGO MERCANTILE EXCHANGE ', 'CANADIAN DOLLAR - CHICAGO MERCANTILE EXCHANGE ', 'CANADIAN DOLLAR - CHICAGO MERCANTILE EXCHANGE ', 'CANADIAN DOLLAR - CHICAGO MERCANTILE EXCHANGE ', 'CANADIAN DOLLAR - CHICAGO MERCANTILE EXCHANGE ', '..."
          ]
        }
      ]
    },
    {
      "cell_type": "code",
      "metadata": {
        "colab": {
          "base_uri": "https://localhost:8080/",
          "height": 35
        },
        "id": "kLQfbqzd-inq",
        "outputId": "bf776747-b0bc-4f18-c7b4-7bde13fc2b39"
      },
      "source": [
        "str(check[8][0])"
      ],
      "execution_count": 10,
      "outputs": [
        {
          "output_type": "execute_result",
          "data": {
            "application/vnd.google.colaboratory.intrinsic+json": {
              "type": "string"
            },
            "text/plain": [
              "'CANADIAN DOLLAR - CHICAGO MERCANTILE EXCHANGE '"
            ]
          },
          "metadata": {
            "tags": []
          },
          "execution_count": 10
        }
      ]
    },
    {
      "cell_type": "code",
      "metadata": {
        "colab": {
          "base_uri": "https://localhost:8080/",
          "height": 35
        },
        "id": "mKhmAVZr-shR",
        "outputId": "dfed270a-a74f-47f2-b674-b0ebb2dd3fd9"
      },
      "source": [
        "check[8][1]"
      ],
      "execution_count": 11,
      "outputs": [
        {
          "output_type": "execute_result",
          "data": {
            "application/vnd.google.colaboratory.intrinsic+json": {
              "type": "string"
            },
            "text/plain": [
              "'CANADIAN DOLLAR - CHICAGO MERCANTILE EXCHANGE'"
            ]
          },
          "metadata": {
            "tags": []
          },
          "execution_count": 11
        }
      ]
    },
    {
      "cell_type": "code",
      "metadata": {
        "colab": {
          "base_uri": "https://localhost:8080/"
        },
        "id": "b12GUfUy9u65",
        "outputId": "e10537d1-796e-47dc-d908-048be37d5792"
      },
      "source": [
        "np.array(Ffin_2010_now.iloc[0:3, 0:1])"
      ],
      "execution_count": 18,
      "outputs": [
        {
          "output_type": "execute_result",
          "data": {
            "text/plain": [
              "array([['CANADIAN DOLLAR - CHICAGO MERCANTILE EXCHANGE '],\n",
              "       ['CANADIAN DOLLAR - CHICAGO MERCANTILE EXCHANGE '],\n",
              "       ['CANADIAN DOLLAR - CHICAGO MERCANTILE EXCHANGE ']], dtype=object)"
            ]
          },
          "metadata": {
            "tags": []
          },
          "execution_count": 18
        }
      ]
    },
    {
      "cell_type": "code",
      "metadata": {
        "colab": {
          "base_uri": "https://localhost:8080/",
          "height": 103
        },
        "id": "zFXJuoQJYt1M",
        "outputId": "67ee014d-2269-4812-c641-66213e175a1f"
      },
      "source": [
        "aaa = Ffin_2010_now.iloc[:, 0:24].drop(Ffin_2010_now.columns[[1, 3, 4, 5, 6]], axis=1).iloc[:, 0:2].astype(str)\n",
        "\n",
        "aaa['Report_Date_as_YYYY-MM-DD'] = aaa['Report_Date_as_YYYY-MM-DD'].str[:4]\n",
        "aaa.drop_duplicates(subset=['Market_and_Exchange_Names', 'Report_Date_as_YYYY-MM-DD']).to_csv(index=False)\n",
        "\n",
        "# .to_csv(index=False)\n",
        "\n",
        "# .drop_duplicates(subset=['Market_and_Exchange_Names', 'Report_Date_as_YYYY-MM-DD'], keep=False)\n",
        "\n",
        "# Fdisagg_2010_now\n",
        "# Ffin_2010_now"
      ],
      "execution_count": 13,
      "outputs": [
        {
          "output_type": "execute_result",
          "data": {
            "application/vnd.google.colaboratory.intrinsic+json": {
              "type": "string"
            },
            "text/plain": [
              "'Market_and_Exchange_Names,Report_Date_as_YYYY-MM-DD\\nCANADIAN DOLLAR - CHICAGO MERCANTILE EXCHANGE ,2010\\nSWISS FRANC - CHICAGO MERCANTILE EXCHANGE ,2010\\nBRITISH POUND STERLING - CHICAGO MERCANTILE EXCHANGE ,2010\\nJAPANESE YEN - CHICAGO MERCANTILE EXCHANGE ,2010\\nEURO FX - CHICAGO MERCANTILE EXCHANGE ,2010\\nAUSTRALIAN DOLLAR - CHICAGO MERCANTILE EXCHANGE ,2010\\nRUSSIAN RUBLE - CHICAGO MERCANTILE EXCHANGE ,2010\\nMEXICAN PESO - CHICAGO MERCANTILE EXCHANGE ,2010\\nNEW ZEALAND DOLLAR - CHICAGO MERCANTILE EXCHANGE ,2010\\nDJIA Consolidated - CHICAGO BOARD OF TRADE ,2010\\nDOW JONES INDUSTRIAL AVERAGE - CHICAGO BOARD OF TRADE ,2010\\nDOW JONES INDUSTRIAL AVG- x $5 - CHICAGO BOARD OF TRADE ,2010\\nS&P 500 Consolidated - CHICAGO MERCANTILE EXCHANGE ,2010\\nS&P 500 STOCK INDEX - CHICAGO MERCANTILE EXCHANGE ,2010\\nE-MINI S&P 500 STOCK INDEX - CHICAGO MERCANTILE EXCHANGE ,2010\\nE-MINI S&P 400 STOCK INDEX - CHICAGO MERCANTILE EXCHANGE ,2010\\nNASDAQ-100 Consolidated - CHICAGO MERCANTILE EXCHANGE ,2010\\nNASDAQ-100 STOCK INDEX - CHICAGO MERCANTILE EXCHANGE ,2010\\nNASDAQ-100 STOCK INDEX (MINI) - CHICAGO MERCANTILE EXCHANGE ,2010\\nRUSSELL 2000 MINI INDEX FUTURE - ICE FUTURES U.S. ,2010\\nNIKKEI STOCK AVERAGE - CHICAGO MERCANTILE EXCHANGE ,2010\\nNIKKEI STOCK AVERAGE YEN DENOM - CHICAGO MERCANTILE EXCHANGE ,2010\\nE-MINI MSCI EAFE - CHICAGO MERCANTILE EXCHANGE ,2010\\nE-MINI MSCI EMERGING MARKETS - CHICAGO MERCANTILE EXCHANGE ,2010\\nU.S. TREASURY BONDS - CHICAGO BOARD OF TRADE ,2010\\nLONG-TERM U.S. TREASURY BONDS - CHICAGO BOARD OF TRADE ,2010\\n2-YEAR U.S. TREASURY NOTES - CHICAGO BOARD OF TRADE ,2010\\n10-YEAR U.S. TREASURY NOTES - CHICAGO BOARD OF TRADE ,2010\\n5-YEAR U.S. TREASURY NOTES - CHICAGO BOARD OF TRADE ,2010\\n30-DAY FEDERAL FUNDS - CHICAGO BOARD OF TRADE ,2010\\n3-MONTH EURODOLLARS - CHICAGO MERCANTILE EXCHANGE ,2010\\nINTEREST RATE SWAPS 10YR - CHICAGO BOARD OF TRADE ,2010\\nINTEREST RATE SWAPS 5YR - CHICAGO BOARD OF TRADE ,2010\\nU.S. DOLLAR INDEX - ICE FUTURES U.S. ,2010\\nVIX FUTURES - CBOE FUTURES EXCHANGE ,2010\\nDOW JONES UBS EXCESS RETURN - CHICAGO BOARD OF TRADE ,2010\\nS&P GSCI COMMODITY INDEX - CHICAGO MERCANTILE EXCHANGE ,2010\\nCANADIAN DOLLAR - CHICAGO MERCANTILE EXCHANGE ,2011\\nSWISS FRANC - CHICAGO MERCANTILE EXCHANGE ,2011\\nBRITISH POUND STERLING - CHICAGO MERCANTILE EXCHANGE ,2011\\nJAPANESE YEN - CHICAGO MERCANTILE EXCHANGE ,2011\\nEURO FX - CHICAGO MERCANTILE EXCHANGE ,2011\\nAUSTRALIAN DOLLAR - CHICAGO MERCANTILE EXCHANGE ,2011\\nRUSSIAN RUBLE - CHICAGO MERCANTILE EXCHANGE ,2011\\nMEXICAN PESO - CHICAGO MERCANTILE EXCHANGE ,2011\\nBRAZILIAN REAL - CHICAGO MERCANTILE EXCHANGE ,2011\\nNEW ZEALAND DOLLAR - CHICAGO MERCANTILE EXCHANGE ,2011\\nDJIA Consolidated - CHICAGO BOARD OF TRADE ,2011\\nDOW JONES INDUSTRIAL AVERAGE - CHICAGO BOARD OF TRADE ,2011\\nDOW JONES INDUSTRIAL AVG- x $5 - CHICAGO BOARD OF TRADE ,2011\\nS&P 500 Consolidated - CHICAGO MERCANTILE EXCHANGE ,2011\\nS&P 500 STOCK INDEX - CHICAGO MERCANTILE EXCHANGE ,2011\\nE-MINI S&P 500 STOCK INDEX - CHICAGO MERCANTILE EXCHANGE ,2011\\nE-MINI S&P 400 STOCK INDEX - CHICAGO MERCANTILE EXCHANGE ,2011\\nNASDAQ-100 Consolidated - CHICAGO MERCANTILE EXCHANGE ,2011\\nNASDAQ-100 STOCK INDEX - CHICAGO MERCANTILE EXCHANGE ,2011\\nNASDAQ-100 STOCK INDEX (MINI) - CHICAGO MERCANTILE EXCHANGE ,2011\\nRUSSELL 2000 MINI INDEX FUTURE - ICE FUTURES U.S. ,2011\\nNIKKEI STOCK AVERAGE - CHICAGO MERCANTILE EXCHANGE ,2011\\nNIKKEI STOCK AVERAGE YEN DENOM - CHICAGO MERCANTILE EXCHANGE ,2011\\nMSCI EAFE MINI INDEX - NYSE LIFFE ,2011\\nMSCI EMERGING MKTS MINI INDEX - NYSE LIFFE ,2011\\nE-MINI MSCI EAFE - CHICAGO MERCANTILE EXCHANGE ,2011\\nE-MINI MSCI EMERGING MARKETS - CHICAGO MERCANTILE EXCHANGE ,2011\\nU.S. TREASURY BONDS - CHICAGO BOARD OF TRADE ,2011\\nLONG-TERM U.S. TREASURY BONDS - CHICAGO BOARD OF TRADE ,2011\\n2-YEAR U.S. TREASURY NOTES - CHICAGO BOARD OF TRADE ,2011\\n10-YEAR U.S. TREASURY NOTES - CHICAGO BOARD OF TRADE ,2011\\n5-YEAR U.S. TREASURY NOTES - CHICAGO BOARD OF TRADE ,2011\\n30-DAY FEDERAL FUNDS - CHICAGO BOARD OF TRADE ,2011\\n3-MONTH EURODOLLARS - CHICAGO MERCANTILE EXCHANGE ,2011\\nINTEREST RATE SWAPS 10YR - CHICAGO BOARD OF TRADE ,2011\\nINTEREST RATE SWAPS 5YR - CHICAGO BOARD OF TRADE ,2011\\nU.S. DOLLAR INDEX - ICE FUTURES U.S. ,2011\\nVIX FUTURES - CBOE FUTURES EXCHANGE ,2011\\nDOW JONES UBS EXCESS RETURN - CHICAGO BOARD OF TRADE ,2011\\nS&P GSCI COMMODITY INDEX - CHICAGO MERCANTILE EXCHANGE ,2011\\nCANADIAN DOLLAR - CHICAGO MERCANTILE EXCHANGE ,2012\\nSWISS FRANC - CHICAGO MERCANTILE EXCHANGE ,2012\\nBRITISH POUND STERLING - CHICAGO MERCANTILE EXCHANGE ,2012\\nJAPANESE YEN - CHICAGO MERCANTILE EXCHANGE ,2012\\nEURO FX - CHICAGO MERCANTILE EXCHANGE ,2012\\nAUSTRALIAN DOLLAR - CHICAGO MERCANTILE EXCHANGE ,2012\\nRUSSIAN RUBLE - CHICAGO MERCANTILE EXCHANGE ,2012\\nMEXICAN PESO - CHICAGO MERCANTILE EXCHANGE ,2012\\nBRAZILIAN REAL - CHICAGO MERCANTILE EXCHANGE ,2012\\nNEW ZEALAND DOLLAR - CHICAGO MERCANTILE EXCHANGE ,2012\\nDJIA Consolidated - CHICAGO BOARD OF TRADE ,2012\\nDOW JONES INDUSTRIAL AVERAGE - CHICAGO BOARD OF TRADE ,2012\\nDOW JONES INDUSTRIAL AVG- x $5 - CHICAGO BOARD OF TRADE ,2012\\nS&P 500 Consolidated - CHICAGO MERCANTILE EXCHANGE ,2012\\nS&P 500 STOCK INDEX - CHICAGO MERCANTILE EXCHANGE ,2012\\nE-MINI S&P 500 STOCK INDEX - CHICAGO MERCANTILE EXCHANGE ,2012\\nE-MINI S&P 400 STOCK INDEX - CHICAGO MERCANTILE EXCHANGE ,2012\\nNASDAQ-100 Consolidated - CHICAGO MERCANTILE EXCHANGE ,2012\\nNASDAQ-100 STOCK INDEX - CHICAGO MERCANTILE EXCHANGE ,2012\\nNASDAQ-100 STOCK INDEX (MINI) - CHICAGO MERCANTILE EXCHANGE ,2012\\nRUSSELL 2000 MINI INDEX FUTURE - ICE FUTURES U.S. ,2012\\nNIKKEI STOCK AVERAGE - CHICAGO MERCANTILE EXCHANGE ,2012\\nNIKKEI STOCK AVERAGE YEN DENOM - CHICAGO MERCANTILE EXCHANGE ,2012\\nMSCI EAFE MINI INDEX - NYSE LIFFE ,2012\\nMSCI EMERGING MKTS MINI INDEX - NYSE LIFFE ,2012\\nU.S. TREASURY BONDS - CHICAGO BOARD OF TRADE ,2012\\nLONG-TERM U.S. TREASURY BONDS - CHICAGO BOARD OF TRADE ,2012\\n2-YEAR U.S. TREASURY NOTES - CHICAGO BOARD OF TRADE ,2012\\nDTCC Repo-US Treasury <30 YR - NYSE LIFFE - NYPC ,2012\\n10-YEAR U.S. TREASURY NOTES - CHICAGO BOARD OF TRADE ,2012\\n5-YEAR U.S. TREASURY NOTES - CHICAGO BOARD OF TRADE ,2012\\n30-DAY FEDERAL FUNDS - CHICAGO BOARD OF TRADE ,2012\\n3-MONTH EURODOLLARS - CHICAGO MERCANTILE EXCHANGE ,2012\\nINTEREST RATE SWAPS 10YR - CHICAGO BOARD OF TRADE ,2012\\nINTEREST RATE SWAPS 5YR - CHICAGO BOARD OF TRADE ,2012\\nU.S. DOLLAR INDEX - ICE FUTURES U.S. ,2012\\nVIX FUTURES - CBOE FUTURES EXCHANGE ,2012\\nDOW JONES UBS EXCESS RETURN - CHICAGO BOARD OF TRADE ,2012\\nS&P GSCI COMMODITY INDEX - CHICAGO MERCANTILE EXCHANGE ,2012\\nCANADIAN DOLLAR - CHICAGO MERCANTILE EXCHANGE ,2013\\nSWISS FRANC - CHICAGO MERCANTILE EXCHANGE ,2013\\nBRITISH POUND STERLING - CHICAGO MERCANTILE EXCHANGE ,2013\\nJAPANESE YEN - CHICAGO MERCANTILE EXCHANGE ,2013\\nEURO FX - CHICAGO MERCANTILE EXCHANGE ,2013\\nAUSTRALIAN DOLLAR - CHICAGO MERCANTILE EXCHANGE ,2013\\nRUSSIAN RUBLE - CHICAGO MERCANTILE EXCHANGE ,2013\\nMEXICAN PESO - CHICAGO MERCANTILE EXCHANGE ,2013\\nBRAZILIAN REAL - CHICAGO MERCANTILE EXCHANGE ,2013\\nNEW ZEALAND DOLLAR - CHICAGO MERCANTILE EXCHANGE ,2013\\nDJIA Consolidated - CHICAGO BOARD OF TRADE ,2013\\nDOW JONES INDUSTRIAL AVERAGE - CHICAGO BOARD OF TRADE ,2013\\nDOW JONES INDUSTRIAL AVG- x $5 - CHICAGO BOARD OF TRADE ,2013\\nS&P 500 Consolidated - CHICAGO MERCANTILE EXCHANGE ,2013\\nS&P 500 STOCK INDEX - CHICAGO MERCANTILE EXCHANGE ,2013\\nE-MINI S&P 500 STOCK INDEX - CHICAGO MERCANTILE EXCHANGE ,2013\\nE-MINI S&P 400 STOCK INDEX - CHICAGO MERCANTILE EXCHANGE ,2013\\nNASDAQ-100 Consolidated - CHICAGO MERCANTILE EXCHANGE ,2013\\nNASDAQ-100 STOCK INDEX - CHICAGO MERCANTILE EXCHANGE ,2013\\nNASDAQ-100 STOCK INDEX (MINI) - CHICAGO MERCANTILE EXCHANGE ,2013\\nRUSSELL 2000 MINI INDEX FUTURE - ICE FUTURES U.S. ,2013\\nNIKKEI STOCK AVERAGE - CHICAGO MERCANTILE EXCHANGE ,2013\\nNIKKEI STOCK AVERAGE YEN DENOM - CHICAGO MERCANTILE EXCHANGE ,2013\\nMSCI EAFE MINI INDEX - NYSE LIFFE ,2013\\nMSCI EMERGING MKTS MINI INDEX - NYSE LIFFE ,2013\\nU.S. TREASURY BONDS - CHICAGO BOARD OF TRADE ,2013\\nLONG-TERM U.S. TREASURY BONDS - CHICAGO BOARD OF TRADE ,2013\\n2-YEAR U.S. TREASURY NOTES - CHICAGO BOARD OF TRADE ,2013\\nDTCC Repo-US Treasury <30 YR - NYSE LIFFE - NYPC ,2013\\n10-YEAR U.S. TREASURY NOTES - CHICAGO BOARD OF TRADE ,2013\\n5-YEAR U.S. TREASURY NOTES - CHICAGO BOARD OF TRADE ,2013\\n30-DAY FEDERAL FUNDS - CHICAGO BOARD OF TRADE ,2013\\n3-MONTH EURODOLLARS - CHICAGO MERCANTILE EXCHANGE ,2013\\nINTEREST RATE SWAPS 10YR - CHICAGO BOARD OF TRADE ,2013\\n10 YEAR DELIVERABLE IR SWAP - CHICAGO BOARD OF TRADE ,2013\\n5 YEAR DELIVERABLE IR SWAP - CHICAGO BOARD OF TRADE ,2013\\nINTEREST RATE SWAPS 5YR - CHICAGO BOARD OF TRADE ,2013\\nU.S. DOLLAR INDEX - ICE FUTURES U.S. ,2013\\nVIX FUTURES - CBOE FUTURES EXCHANGE ,2013\\nDOW JONES UBS EXCESS RETURN - CHICAGO BOARD OF TRADE ,2013\\nS&P GSCI COMMODITY INDEX - CHICAGO MERCANTILE EXCHANGE ,2013\\nCANADIAN DOLLAR - CHICAGO MERCANTILE EXCHANGE ,2014\\nSWISS FRANC - CHICAGO MERCANTILE EXCHANGE ,2014\\nBRITISH POUND STERLING - CHICAGO MERCANTILE EXCHANGE ,2014\\nJAPANESE YEN - CHICAGO MERCANTILE EXCHANGE ,2014\\nEURO FX - CHICAGO MERCANTILE EXCHANGE ,2014\\nEURO FX/BRITISH POUND XRATE - CHICAGO MERCANTILE EXCHANGE ,2014\\nAUSTRALIAN DOLLAR - CHICAGO MERCANTILE EXCHANGE ,2014\\nRUSSIAN RUBLE - CHICAGO MERCANTILE EXCHANGE ,2014\\nMEXICAN PESO - CHICAGO MERCANTILE EXCHANGE ,2014\\nBRAZILIAN REAL - CHICAGO MERCANTILE EXCHANGE ,2014\\nNEW ZEALAND DOLLAR - CHICAGO MERCANTILE EXCHANGE ,2014\\nSOUTH AFRICAN RAND - CHICAGO MERCANTILE EXCHANGE ,2014\\nDJIA Consolidated - CHICAGO BOARD OF TRADE ,2014\\nDOW JONES INDUSTRIAL AVERAGE - CHICAGO BOARD OF TRADE ,2014\\nDOW JONES INDUSTRIAL AVG- x $5 - CHICAGO BOARD OF TRADE ,2014\\nS&P 500 Consolidated - CHICAGO MERCANTILE EXCHANGE ,2014\\nS&P 500 STOCK INDEX - CHICAGO MERCANTILE EXCHANGE ,2014\\nE-MINI S&P 500 STOCK INDEX - CHICAGO MERCANTILE EXCHANGE ,2014\\nE-MINI S&P 400 STOCK INDEX - CHICAGO MERCANTILE EXCHANGE ,2014\\nNASDAQ-100 Consolidated - CHICAGO MERCANTILE EXCHANGE ,2014\\nNASDAQ-100 STOCK INDEX - CHICAGO MERCANTILE EXCHANGE ,2014\\nNASDAQ-100 STOCK INDEX (MINI) - CHICAGO MERCANTILE EXCHANGE ,2014\\nRUSSELL 2000 MINI INDEX FUTURE - ICE FUTURES U.S. ,2014\\nNIKKEI STOCK AVERAGE - CHICAGO MERCANTILE EXCHANGE ,2014\\nNIKKEI STOCK AVERAGE YEN DENOM - CHICAGO MERCANTILE EXCHANGE ,2014\\nMSCI EAFE MINI INDEX - ICE FUTURES U.S. ,2014\\nMSCI EAFE MINI INDEX - NYSE LIFFE ,2014\\nMSCI EMERGING MKTS MINI INDEX - ICE FUTURES U.S. ,2014\\nMSCI EMERGING MKTS MINI INDEX - NYSE LIFFE ,2014\\nU.S. TREASURY BONDS - CHICAGO BOARD OF TRADE ,2014\\nLONG-TERM U.S. TREASURY BONDS - CHICAGO BOARD OF TRADE ,2014\\n2-YEAR U.S. TREASURY NOTES - CHICAGO BOARD OF TRADE ,2014\\nDTCC Repo-US Treasury <30 YR - NYSE LIFFE - NYPC ,2014\\n10-YEAR U.S. TREASURY NOTES - CHICAGO BOARD OF TRADE ,2014\\n5-YEAR U.S. TREASURY NOTES - CHICAGO BOARD OF TRADE ,2014\\n30-DAY FEDERAL FUNDS - CHICAGO BOARD OF TRADE ,2014\\n3-MONTH EURODOLLARS - CHICAGO MERCANTILE EXCHANGE ,2014\\n10 YEAR DELIVERABLE IR SWAP - CHICAGO BOARD OF TRADE ,2014\\n5 YEAR DELIVERABLE IR SWAP - CHICAGO BOARD OF TRADE ,2014\\nU.S. DOLLAR INDEX - ICE FUTURES U.S. ,2014\\nVIX FUTURES - CBOE FUTURES EXCHANGE ,2014\\nDOW JONES UBS EXCESS RETURN - CHICAGO BOARD OF TRADE ,2014\\nS&P GSCI COMMODITY INDEX - CHICAGO MERCANTILE EXCHANGE ,2014\\nCANADIAN DOLLAR - CHICAGO MERCANTILE EXCHANGE,2015\\nSWISS FRANC - CHICAGO MERCANTILE EXCHANGE,2015\\nBRITISH POUND STERLING - CHICAGO MERCANTILE EXCHANGE,2015\\nJAPANESE YEN - CHICAGO MERCANTILE EXCHANGE,2015\\nEURO FX - CHICAGO MERCANTILE EXCHANGE,2015\\nAUSTRALIAN DOLLAR - CHICAGO MERCANTILE EXCHANGE,2015\\nRUSSIAN RUBLE - CHICAGO MERCANTILE EXCHANGE,2015\\nMEXICAN PESO - CHICAGO MERCANTILE EXCHANGE,2015\\nBRAZILIAN REAL - CHICAGO MERCANTILE EXCHANGE,2015\\nNEW ZEALAND DOLLAR - CHICAGO MERCANTILE EXCHANGE,2015\\nSOUTH AFRICAN RAND - CHICAGO MERCANTILE EXCHANGE,2015\\nDJIA Consolidated - CHICAGO BOARD OF TRADE,2015\\nDOW JONES INDUSTRIAL AVG- x $5 - CHICAGO BOARD OF TRADE,2015\\nS&P 500 Consolidated - CHICAGO MERCANTILE EXCHANGE,2015\\nS&P 500 STOCK INDEX - CHICAGO MERCANTILE EXCHANGE,2015\\nE-MINI S&P 500 STOCK INDEX - CHICAGO MERCANTILE EXCHANGE,2015\\nNASDAQ-100 Consolidated - CHICAGO MERCANTILE EXCHANGE,2015\\nNASDAQ-100 STOCK INDEX - CHICAGO MERCANTILE EXCHANGE,2015\\nNASDAQ-100 STOCK INDEX (MINI) - CHICAGO MERCANTILE EXCHANGE,2015\\nRUSSELL 2000 MINI INDEX FUTURE - ICE FUTURES U.S.,2015\\nNIKKEI STOCK AVERAGE - CHICAGO MERCANTILE EXCHANGE,2015\\nNIKKEI STOCK AVERAGE YEN DENOM - CHICAGO MERCANTILE EXCHANGE,2015\\nMSCI EAFE MINI INDEX - ICE FUTURES U.S.,2015\\nMSCI EMERGING MKTS MINI INDEX - ICE FUTURES U.S.,2015\\nE-MINI S&P 400 STOCK INDEX - CHICAGO MERCANTILE EXCHANGE,2015\\nU.S. TREASURY BONDS - CHICAGO BOARD OF TRADE,2015\\nLONG-TERM U.S. TREASURY BONDS - CHICAGO BOARD OF TRADE,2015\\n2-YEAR U.S. TREASURY NOTES - CHICAGO BOARD OF TRADE,2015\\n10-YEAR U.S. TREASURY NOTES - CHICAGO BOARD OF TRADE,2015\\n5-YEAR U.S. TREASURY NOTES - CHICAGO BOARD OF TRADE,2015\\n30-DAY FEDERAL FUNDS - CHICAGO BOARD OF TRADE,2015\\n3-MONTH EURODOLLARS - CHICAGO MERCANTILE EXCHANGE,2015\\n10 YEAR DELIVERABLE IR SWAP - CHICAGO BOARD OF TRADE,2015\\n5 YEAR DELIVERABLE IR SWAP - CHICAGO BOARD OF TRADE,2015\\nU.S. DOLLAR INDEX - ICE FUTURES U.S.,2015\\nVIX FUTURES - CBOE FUTURES EXCHANGE,2015\\nDOW JONES UBS EXCESS RETURN - CHICAGO BOARD OF TRADE,2015\\nS&P GSCI COMMODITY INDEX - CHICAGO MERCANTILE EXCHANGE,2015\\nCANADIAN DOLLAR - CHICAGO MERCANTILE EXCHANGE,2016\\nSWISS FRANC - CHICAGO MERCANTILE EXCHANGE,2016\\nBRITISH POUND STERLING - CHICAGO MERCANTILE EXCHANGE,2016\\nJAPANESE YEN - CHICAGO MERCANTILE EXCHANGE,2016\\nEURO FX - CHICAGO MERCANTILE EXCHANGE,2016\\nAUSTRALIAN DOLLAR - CHICAGO MERCANTILE EXCHANGE,2016\\nEURO FX/BRITISH POUND XRATE - CHICAGO MERCANTILE EXCHANGE,2016\\nRUSSIAN RUBLE - CHICAGO MERCANTILE EXCHANGE,2016\\nMEXICAN PESO - CHICAGO MERCANTILE EXCHANGE,2016\\nBRAZILIAN REAL - CHICAGO MERCANTILE EXCHANGE,2016\\nNEW ZEALAND DOLLAR - CHICAGO MERCANTILE EXCHANGE,2016\\nSOUTH AFRICAN RAND - CHICAGO MERCANTILE EXCHANGE,2016\\nDJIA Consolidated - CHICAGO BOARD OF TRADE,2016\\nDOW JONES INDUSTRIAL AVG- x $5 - CHICAGO BOARD OF TRADE,2016\\nS&P 500 Consolidated - CHICAGO MERCANTILE EXCHANGE,2016\\nS&P 500 STOCK INDEX - CHICAGO MERCANTILE EXCHANGE,2016\\nE-MINI S&P 500 STOCK INDEX - CHICAGO MERCANTILE EXCHANGE,2016\\nNASDAQ-100 Consolidated - CHICAGO MERCANTILE EXCHANGE,2016\\nNASDAQ-100 STOCK INDEX (MINI) - CHICAGO MERCANTILE EXCHANGE,2016\\nRUSSELL 2000 MINI INDEX FUTURE - ICE FUTURES U.S.,2016\\nRUSSELL 1000 VALUE INDEX MINI - ICE FUTURES U.S.,2016\\nNIKKEI STOCK AVERAGE - CHICAGO MERCANTILE EXCHANGE,2016\\nNIKKEI STOCK AVERAGE YEN DENOM - CHICAGO MERCANTILE EXCHANGE,2016\\nMSCI EAFE MINI INDEX - ICE FUTURES U.S.,2016\\nMSCI EMERGING MKTS MINI INDEX - ICE FUTURES U.S.,2016\\nE-MINI S&P 400 STOCK INDEX - CHICAGO MERCANTILE EXCHANGE,2016\\nU.S. TREASURY BONDS - CHICAGO BOARD OF TRADE,2016\\nULTRA U.S. TREASURY BONDS - CHICAGO BOARD OF TRADE,2016\\nLONG-TERM U.S. TREASURY BONDS - CHICAGO BOARD OF TRADE,2016\\n2-YEAR U.S. TREASURY NOTES - CHICAGO BOARD OF TRADE,2016\\n10-YEAR U.S. TREASURY NOTES - CHICAGO BOARD OF TRADE,2016\\nULTRA 10-YEAR U.S. T-NOTES - CHICAGO BOARD OF TRADE,2016\\n5-YEAR U.S. TREASURY NOTES - CHICAGO BOARD OF TRADE,2016\\n30-DAY FEDERAL FUNDS - CHICAGO BOARD OF TRADE,2016\\n3-MONTH EURODOLLARS - CHICAGO MERCANTILE EXCHANGE,2016\\n10 YEAR DELIVERABLE IR SWAP - CHICAGO BOARD OF TRADE,2016\\n5 YEAR DELIVERABLE IR SWAP - CHICAGO BOARD OF TRADE,2016\\nU.S. DOLLAR INDEX - ICE FUTURES U.S.,2016\\nVIX FUTURES - CBOE FUTURES EXCHANGE,2016\\nBLOOMBERG COMMODITY INDEX - CHICAGO BOARD OF TRADE,2016\\nDOW JONES UBS EXCESS RETURN - CHICAGO BOARD OF TRADE,2016\\nS&P GSCI COMMODITY INDEX - CHICAGO MERCANTILE EXCHANGE,2016\\nCANADIAN DOLLAR - CHICAGO MERCANTILE EXCHANGE,2017\\nSWISS FRANC - CHICAGO MERCANTILE EXCHANGE,2017\\nBRITISH POUND STERLING - CHICAGO MERCANTILE EXCHANGE,2017\\nJAPANESE YEN - CHICAGO MERCANTILE EXCHANGE,2017\\nEURO FX - CHICAGO MERCANTILE EXCHANGE,2017\\nAUSTRALIAN DOLLAR - CHICAGO MERCANTILE EXCHANGE,2017\\nEURO FX/BRITISH POUND XRATE - CHICAGO MERCANTILE EXCHANGE,2017\\nEURO FX/JAPANESE YEN XRATE - CHICAGO MERCANTILE EXCHANGE,2017\\nRUSSIAN RUBLE - CHICAGO MERCANTILE EXCHANGE,2017\\nMEXICAN PESO - CHICAGO MERCANTILE EXCHANGE,2017\\nBRAZILIAN REAL - CHICAGO MERCANTILE EXCHANGE,2017\\nNEW ZEALAND DOLLAR - CHICAGO MERCANTILE EXCHANGE,2017\\nSOUTH AFRICAN RAND - CHICAGO MERCANTILE EXCHANGE,2017\\nDJIA Consolidated - CHICAGO BOARD OF TRADE,2017\\nDOW JONES INDUSTRIAL AVG- x $5 - CHICAGO BOARD OF TRADE,2017\\nS&P 500 Consolidated - CHICAGO MERCANTILE EXCHANGE,2017\\nS&P 500 STOCK INDEX - CHICAGO MERCANTILE EXCHANGE,2017\\nE-MINI S&P CONSU STAPLES INDEX - CHICAGO MERCANTILE EXCHANGE,2017\\nE-MINI S&P ENERGY INDEX - CHICAGO MERCANTILE EXCHANGE,2017\\nE-MINI S&P 500 STOCK INDEX - CHICAGO MERCANTILE EXCHANGE,2017\\nE-MINI S&P FINANCIAL INDEX - CHICAGO MERCANTILE EXCHANGE,2017\\nE-MINI S&P HEALTH CARE INDEX - CHICAGO MERCANTILE EXCHANGE,2017\\nE-MINI S&P TECHNOLOGY INDEX - CHICAGO MERCANTILE EXCHANGE,2017\\nE-MINI S&P UTILITIES INDEX - CHICAGO MERCANTILE EXCHANGE,2017\\nNASDAQ-100 Consolidated - CHICAGO MERCANTILE EXCHANGE,2017\\nNASDAQ-100 STOCK INDEX (MINI) - CHICAGO MERCANTILE EXCHANGE,2017\\nE-MINI RUSSELL 2000 INDEX - CHICAGO MERCANTILE EXCHANGE,2017\\nRUSSELL 2000 MINI INDEX FUTURE - ICE FUTURES U.S.,2017\\nRUSSELL 1000 VALUE INDEX MINI - ICE FUTURES U.S.,2017\\nNIKKEI STOCK AVERAGE - CHICAGO MERCANTILE EXCHANGE,2017\\nNIKKEI STOCK AVERAGE YEN DENOM - CHICAGO MERCANTILE EXCHANGE,2017\\nMSCI EAFE MINI INDEX - ICE FUTURES U.S.,2017\\nMSCI EMERGING MKTS MINI INDEX - ICE FUTURES U.S.,2017\\nE-MINI S&P 400 STOCK INDEX - CHICAGO MERCANTILE EXCHANGE,2017\\nS&P 500 ANNUAL DIVIDEND INDEX - CHICAGO MERCANTILE EXCHANGE,2017\\nU.S. TREASURY BONDS - CHICAGO BOARD OF TRADE,2017\\nULTRA U.S. TREASURY BONDS - CHICAGO BOARD OF TRADE,2017\\n2-YEAR U.S. TREASURY NOTES - CHICAGO BOARD OF TRADE,2017\\n10-YEAR U.S. TREASURY NOTES - CHICAGO BOARD OF TRADE,2017\\nULTRA 10-YEAR U.S. T-NOTES - CHICAGO BOARD OF TRADE,2017\\n5-YEAR U.S. TREASURY NOTES - CHICAGO BOARD OF TRADE,2017\\n30-DAY FEDERAL FUNDS - CHICAGO BOARD OF TRADE,2017\\n3-MONTH EURODOLLARS - CHICAGO MERCANTILE EXCHANGE,2017\\n10 YEAR DELIVERABLE IR SWAP - CHICAGO BOARD OF TRADE,2017\\n5 YEAR DELIVERABLE IR SWAP - CHICAGO BOARD OF TRADE,2017\\nBITCOIN-USD - CBOE FUTURES EXCHANGE,2017\\nU.S. DOLLAR INDEX - ICE FUTURES U.S.,2017\\nVIX FUTURES - CBOE FUTURES EXCHANGE,2017\\nBLOOMBERG COMMODITY INDEX - CHICAGO BOARD OF TRADE,2017\\nS&P GSCI COMMODITY INDEX - CHICAGO MERCANTILE EXCHANGE,2017\\nCANADIAN DOLLAR - CHICAGO MERCANTILE EXCHANGE,2018\\nSWISS FRANC - CHICAGO MERCANTILE EXCHANGE,2018\\nBRITISH POUND STERLING - CHICAGO MERCANTILE EXCHANGE,2018\\nJAPANESE YEN - CHICAGO MERCANTILE EXCHANGE,2018\\nEURO FX - CHICAGO MERCANTILE EXCHANGE,2018\\nAUSTRALIAN DOLLAR - CHICAGO MERCANTILE EXCHANGE,2018\\nEURO FX/BRITISH POUND XRATE - CHICAGO MERCANTILE EXCHANGE,2018\\nEURO FX/JAPANESE YEN XRATE - CHICAGO MERCANTILE EXCHANGE,2018\\nRUSSIAN RUBLE - CHICAGO MERCANTILE EXCHANGE,2018\\nMEXICAN PESO - CHICAGO MERCANTILE EXCHANGE,2018\\nBRAZILIAN REAL - CHICAGO MERCANTILE EXCHANGE,2018\\nNEW ZEALAND DOLLAR - CHICAGO MERCANTILE EXCHANGE,2018\\nSOUTH AFRICAN RAND - CHICAGO MERCANTILE EXCHANGE,2018\\nDJIA Consolidated - CHICAGO BOARD OF TRADE,2018\\nDOW JONES INDUSTRIAL AVG- x $5 - CHICAGO BOARD OF TRADE,2018\\nDOW JONES U.S. REAL ESTATE IDX - CHICAGO BOARD OF TRADE,2018\\nS&P 500 Consolidated - CHICAGO MERCANTILE EXCHANGE,2018\\nS&P 500 STOCK INDEX - CHICAGO MERCANTILE EXCHANGE,2018\\nE-MINI S&P CONSUMER DISC INDEX - CHICAGO MERCANTILE EXCHANGE,2018\\nE-MINI S&P CONSU STAPLES INDEX - CHICAGO MERCANTILE EXCHANGE,2018\\nE-MINI S&P ENERGY INDEX - CHICAGO MERCANTILE EXCHANGE,2018\\nE-MINI S&P 500 STOCK INDEX - CHICAGO MERCANTILE EXCHANGE,2018\\nE-MINI S&P FINANCIAL INDEX - CHICAGO MERCANTILE EXCHANGE,2018\\nE-MINI S&P HEALTH CARE INDEX - CHICAGO MERCANTILE EXCHANGE,2018\\nE-MINI S&P INDUSTRIAL INDEX - CHICAGO MERCANTILE EXCHANGE,2018\\nE-MINI S&P MATERIALS INDEX - CHICAGO MERCANTILE EXCHANGE,2018\\nE-MINI S&P TECHNOLOGY INDEX - CHICAGO MERCANTILE EXCHANGE,2018\\nE-MINI S&P UTILITIES INDEX - CHICAGO MERCANTILE EXCHANGE,2018\\nS&P 500 TOTAL RETURN INDEX - CHICAGO MERCANTILE EXCHANGE,2018\\nNASDAQ-100 Consolidated - CHICAGO MERCANTILE EXCHANGE,2018\\nNASDAQ-100 STOCK INDEX (MINI) - CHICAGO MERCANTILE EXCHANGE,2018\\nE-MINI RUSSELL 2000 INDEX - CHICAGO MERCANTILE EXCHANGE,2018\\nEMINI RUSSELL 1000 VALUE INDEX - CHICAGO MERCANTILE EXCHANGE,2018\\nRUSSELL 2000 MINI INDEX FUTURE - ICE FUTURES U.S.,2018\\nNIKKEI STOCK AVERAGE - CHICAGO MERCANTILE EXCHANGE,2018\\nNIKKEI STOCK AVERAGE YEN DENOM - CHICAGO MERCANTILE EXCHANGE,2018\\nMSCI EAFE MINI INDEX - ICE FUTURES U.S.,2018\\nMSCI EMERGING MKTS MINI INDEX - ICE FUTURES U.S.,2018\\nE-MINI S&P 400 STOCK INDEX - CHICAGO MERCANTILE EXCHANGE,2018\\nS&P 500 ANNUAL DIVIDEND INDEX - CHICAGO MERCANTILE EXCHANGE,2018\\nU.S. TREASURY BONDS - CHICAGO BOARD OF TRADE,2018\\nULTRA U.S. TREASURY BONDS - CHICAGO BOARD OF TRADE,2018\\n2-YEAR U.S. TREASURY NOTES - CHICAGO BOARD OF TRADE,2018\\n10-YEAR U.S. TREASURY NOTES - CHICAGO BOARD OF TRADE,2018\\nULTRA 10-YEAR U.S. T-NOTES - CHICAGO BOARD OF TRADE,2018\\n5-YEAR U.S. TREASURY NOTES - CHICAGO BOARD OF TRADE,2018\\n30-DAY FEDERAL FUNDS - CHICAGO BOARD OF TRADE,2018\\n3-MONTH EURODOLLARS - CHICAGO MERCANTILE EXCHANGE,2018\\n3-MONTH SOFR - CHICAGO MERCANTILE EXCHANGE,2018\\n1-MONTH SOFR - CHICAGO MERCANTILE EXCHANGE,2018\\n10 YEAR DELIVERABLE IR - CHICAGO BOARD OF TRADE,2018\\n10 YEAR DELIVERABLE IR SWAP - CHICAGO BOARD OF TRADE,2018\\n5 YEAR DELIVERABLE IR - CHICAGO BOARD OF TRADE,2018\\n5 YEAR DELIVERABLE IR SWAP - CHICAGO BOARD OF TRADE,2018\\n5-Year Eris Standard- Initial - ERIS FUTURES EXCHANGE,2018\\nBITCOIN-USD - CBOE FUTURES EXCHANGE,2018\\nBITCOIN - CHICAGO MERCANTILE EXCHANGE,2018\\nU.S. DOLLAR INDEX - ICE FUTURES U.S.,2018\\nVIX FUTURES - CBOE FUTURES EXCHANGE,2018\\nBLOOMBERG COMMODITY INDEX - CHICAGO BOARD OF TRADE,2018\\nCANADIAN DOLLAR - CHICAGO MERCANTILE EXCHANGE,2019\\nSWISS FRANC - CHICAGO MERCANTILE EXCHANGE,2019\\nBRITISH POUND STERLING - CHICAGO MERCANTILE EXCHANGE,2019\\nJAPANESE YEN - CHICAGO MERCANTILE EXCHANGE,2019\\nEURO FX - CHICAGO MERCANTILE EXCHANGE,2019\\nAUSTRALIAN DOLLAR - CHICAGO MERCANTILE EXCHANGE,2019\\nEURO FX/BRITISH POUND XRATE - CHICAGO MERCANTILE EXCHANGE,2019\\nEURO FX/JAPANESE YEN XRATE - CHICAGO MERCANTILE EXCHANGE,2019\\nRUSSIAN RUBLE - CHICAGO MERCANTILE EXCHANGE,2019\\nMEXICAN PESO - CHICAGO MERCANTILE EXCHANGE,2019\\nBRAZILIAN REAL - CHICAGO MERCANTILE EXCHANGE,2019\\nNEW ZEALAND DOLLAR - CHICAGO MERCANTILE EXCHANGE,2019\\nSOUTH AFRICAN RAND - CHICAGO MERCANTILE EXCHANGE,2019\\nDJIA Consolidated - CHICAGO BOARD OF TRADE,2019\\nDOW JONES INDUSTRIAL AVG- x $5 - CHICAGO BOARD OF TRADE,2019\\nDOW JONES U.S. REAL ESTATE IDX - CHICAGO BOARD OF TRADE,2019\\nS&P 500 Consolidated - CHICAGO MERCANTILE EXCHANGE,2019\\nS&P 500 STOCK INDEX - CHICAGO MERCANTILE EXCHANGE,2019\\nE-MINI S&P CONSU STAPLES INDEX - CHICAGO MERCANTILE EXCHANGE,2019\\nE-MINI S&P ENERGY INDEX - CHICAGO MERCANTILE EXCHANGE,2019\\nE-MINI S&P 500 STOCK INDEX - CHICAGO MERCANTILE EXCHANGE,2019\\nE-MINI S&P FINANCIAL INDEX - CHICAGO MERCANTILE EXCHANGE,2019\\nE-MINI S&P HEALTH CARE INDEX - CHICAGO MERCANTILE EXCHANGE,2019\\nE-MINI S&P INDUSTRIAL INDEX - CHICAGO MERCANTILE EXCHANGE,2019\\nE-MINI S&P MATERIALS INDEX - CHICAGO MERCANTILE EXCHANGE,2019\\nE-MINI S&P TECHNOLOGY INDEX - CHICAGO MERCANTILE EXCHANGE,2019\\nE-MINI S&P UTILITIES INDEX - CHICAGO MERCANTILE EXCHANGE,2019\\nS&P 500 TOTAL RETURN INDEX - CHICAGO MERCANTILE EXCHANGE,2019\\nNASDAQ-100 Consolidated - CHICAGO MERCANTILE EXCHANGE,2019\\nNASDAQ-100 STOCK INDEX (MINI) - CHICAGO MERCANTILE EXCHANGE,2019\\nE-MINI RUSSELL 2000 INDEX - CHICAGO MERCANTILE EXCHANGE,2019\\nNIKKEI STOCK AVERAGE - CHICAGO MERCANTILE EXCHANGE,2019\\nNIKKEI STOCK AVERAGE YEN DENOM - CHICAGO MERCANTILE EXCHANGE,2019\\nMSCI EAFE MINI INDEX - ICE FUTURES U.S.,2019\\nMSCI EMERGING MKTS MINI INDEX - ICE FUTURES U.S.,2019\\nE-MINI S&P 400 STOCK INDEX - CHICAGO MERCANTILE EXCHANGE,2019\\nS&P 500 ANNUAL DIVIDEND INDEX - CHICAGO MERCANTILE EXCHANGE,2019\\nU.S. TREASURY BONDS - CHICAGO BOARD OF TRADE,2019\\nULTRA U.S. TREASURY BONDS - CHICAGO BOARD OF TRADE,2019\\n2-YEAR U.S. TREASURY NOTES - CHICAGO BOARD OF TRADE,2019\\n10-YEAR U.S. TREASURY NOTES - CHICAGO BOARD OF TRADE,2019\\nULTRA 10-YEAR U.S. T-NOTES - CHICAGO BOARD OF TRADE,2019\\n5-YEAR U.S. TREASURY NOTES - CHICAGO BOARD OF TRADE,2019\\n30-DAY FEDERAL FUNDS - CHICAGO BOARD OF TRADE,2019\\n3-MONTH EURODOLLARS - CHICAGO MERCANTILE EXCHANGE,2019\\n3-MONTH SOFR - CHICAGO MERCANTILE EXCHANGE,2019\\n1-MONTH SOFR - CHICAGO MERCANTILE EXCHANGE,2019\\n10 YEAR DELIVERABLE IR - CHICAGO BOARD OF TRADE,2019\\n5 YEAR DELIVERABLE IR - CHICAGO BOARD OF TRADE,2019\\n10 YEAR ERIS SWAP  - CHICAGO BOARD OF TRADE,2019\\n5 YEAR ERIS SWAP - CHICAGO BOARD OF TRADE,2019\\nBITCOIN-USD - CBOE FUTURES EXCHANGE,2019\\nBITCOIN - CHICAGO MERCANTILE EXCHANGE,2019\\nU.S. DOLLAR INDEX - ICE FUTURES U.S.,2019\\nVIX FUTURES - CBOE FUTURES EXCHANGE,2019\\nBLOOMBERG COMMODITY INDEX - CHICAGO BOARD OF TRADE,2019\\nCANADIAN DOLLAR - CHICAGO MERCANTILE EXCHANGE,2020\\nSWISS FRANC - CHICAGO MERCANTILE EXCHANGE,2020\\nBRITISH POUND STERLING - CHICAGO MERCANTILE EXCHANGE,2020\\nJAPANESE YEN - CHICAGO MERCANTILE EXCHANGE,2020\\nEURO FX - CHICAGO MERCANTILE EXCHANGE,2020\\nAUSTRALIAN DOLLAR - CHICAGO MERCANTILE EXCHANGE,2020\\nEURO FX/BRITISH POUND XRATE - CHICAGO MERCANTILE EXCHANGE,2020\\nEURO FX/JAPANESE YEN XRATE - CHICAGO MERCANTILE EXCHANGE,2020\\nRUSSIAN RUBLE - CHICAGO MERCANTILE EXCHANGE,2020\\nMEXICAN PESO - CHICAGO MERCANTILE EXCHANGE,2020\\nBRAZILIAN REAL - CHICAGO MERCANTILE EXCHANGE,2020\\nNEW ZEALAND DOLLAR - CHICAGO MERCANTILE EXCHANGE,2020\\nSOUTH AFRICAN RAND - CHICAGO MERCANTILE EXCHANGE,2020\\nDJIA Consolidated - CHICAGO BOARD OF TRADE,2020\\nDOW JONES INDUSTRIAL AVG- x $5 - CHICAGO BOARD OF TRADE,2020\\nDOW JONES U.S. REAL ESTATE IDX - CHICAGO BOARD OF TRADE,2020\\nS&P 500 Consolidated - CHICAGO MERCANTILE EXCHANGE,2020\\nS&P 500 STOCK INDEX - CHICAGO MERCANTILE EXCHANGE,2020\\nE-MINI S&P CONSU STAPLES INDEX - CHICAGO MERCANTILE EXCHANGE,2020\\nE-MINI S&P ENERGY INDEX - CHICAGO MERCANTILE EXCHANGE,2020\\nE-MINI S&P 500 STOCK INDEX - CHICAGO MERCANTILE EXCHANGE,2020\\nE-MINI S&P FINANCIAL INDEX - CHICAGO MERCANTILE EXCHANGE,2020\\nE-MINI S&P HEALTH CARE INDEX - CHICAGO MERCANTILE EXCHANGE,2020\\nE-MINI S&P INDUSTRIAL INDEX - CHICAGO MERCANTILE EXCHANGE,2020\\nE-MINI S&P TECHNOLOGY INDEX - CHICAGO MERCANTILE EXCHANGE,2020\\nE-MINI S&P UTILITIES INDEX - CHICAGO MERCANTILE EXCHANGE,2020\\nS&P 500 TOTAL RETURN INDEX - CHICAGO MERCANTILE EXCHANGE,2020\\nMICRO E-MINI S&P 500 INDEX - CHICAGO MERCANTILE EXCHANGE,2020\\nNASDAQ-100 Consolidated - CHICAGO MERCANTILE EXCHANGE,2020\\nNASDAQ-100 STOCK INDEX (MINI) - CHICAGO MERCANTILE EXCHANGE,2020\\nMICRO E-MINI NASDAQ-100 INDEX - CHICAGO MERCANTILE EXCHANGE,2020\\nE-MINI RUSSELL 2000 INDEX - CHICAGO MERCANTILE EXCHANGE,2020\\nEMINI RUSSELL 1000 VALUE INDEX - CHICAGO MERCANTILE EXCHANGE,2020\\nNIKKEI STOCK AVERAGE - CHICAGO MERCANTILE EXCHANGE,2020\\nNIKKEI STOCK AVERAGE YEN DENOM - CHICAGO MERCANTILE EXCHANGE,2020\\nMSCI EAFE MINI INDEX - ICE FUTURES U.S.,2020\\nMSCI EMERGING MKTS INDEX - ICE FUTURES U.S.,2020\\nMSCI EMERGING MKTS MINI INDEX - ICE FUTURES U.S.,2020\\nE-MINI S&P 400 STOCK INDEX - CHICAGO MERCANTILE EXCHANGE,2020\\nS&P 500 ANNUAL DIVIDEND INDEX - CHICAGO MERCANTILE EXCHANGE,2020\\nU.S. TREASURY BONDS - CHICAGO BOARD OF TRADE,2020\\nULTRA U.S. TREASURY BONDS - CHICAGO BOARD OF TRADE,2020\\n2-YEAR U.S. TREASURY NOTES - CHICAGO BOARD OF TRADE,2020\\n10-YEAR U.S. TREASURY NOTES - CHICAGO BOARD OF TRADE,2020\\nULTRA 10-YEAR U.S. T-NOTES - CHICAGO BOARD OF TRADE,2020\\n5-YEAR U.S. TREASURY NOTES - CHICAGO BOARD OF TRADE,2020\\n30-DAY FEDERAL FUNDS - CHICAGO BOARD OF TRADE,2020\\n3-MONTH EURODOLLARS - CHICAGO MERCANTILE EXCHANGE,2020\\n3-MONTH SOFR - CHICAGO MERCANTILE EXCHANGE,2020\\n1-MONTH SOFR - CHICAGO MERCANTILE EXCHANGE,2020\\n10 YEAR DELIVERABLE IR - CHICAGO BOARD OF TRADE,2020\\n5 YEAR DELIVERABLE IR - CHICAGO BOARD OF TRADE,2020\\n5 YEAR ERIS SWAP - CHICAGO BOARD OF TRADE,2020\\nBITCOIN - CHICAGO MERCANTILE EXCHANGE,2020\\nU.S. DOLLAR INDEX - ICE FUTURES U.S.,2020\\nVIX FUTURES - CBOE FUTURES EXCHANGE,2020\\nBLOOMBERG COMMODITY INDEX - CHICAGO BOARD OF TRADE,2020\\nCANADIAN DOLLAR - CHICAGO MERCANTILE EXCHANGE,2021\\nSWISS FRANC - CHICAGO MERCANTILE EXCHANGE,2021\\nBRITISH POUND STERLING - CHICAGO MERCANTILE EXCHANGE,2021\\nJAPANESE YEN - CHICAGO MERCANTILE EXCHANGE,2021\\nEURO FX - CHICAGO MERCANTILE EXCHANGE,2021\\nAUSTRALIAN DOLLAR - CHICAGO MERCANTILE EXCHANGE,2021\\nEURO FX/BRITISH POUND XRATE - CHICAGO MERCANTILE EXCHANGE,2021\\nEURO FX/JAPANESE YEN XRATE - CHICAGO MERCANTILE EXCHANGE,2021\\nRUSSIAN RUBLE - CHICAGO MERCANTILE EXCHANGE,2021\\nMEXICAN PESO - CHICAGO MERCANTILE EXCHANGE,2021\\nBRAZILIAN REAL - CHICAGO MERCANTILE EXCHANGE,2021\\nNEW ZEALAND DOLLAR - CHICAGO MERCANTILE EXCHANGE,2021\\nSOUTH AFRICAN RAND - CHICAGO MERCANTILE EXCHANGE,2021\\nDJIA Consolidated - CHICAGO BOARD OF TRADE,2021\\nDOW JONES INDUSTRIAL AVG- x $5 - CHICAGO BOARD OF TRADE,2021\\nDOW JONES U.S. REAL ESTATE IDX - CHICAGO BOARD OF TRADE,2021\\nS&P 500 Consolidated - CHICAGO MERCANTILE EXCHANGE,2021\\nS&P 500 STOCK INDEX - CHICAGO MERCANTILE EXCHANGE,2021\\nE-MINI S&P CONSU STAPLES INDEX - CHICAGO MERCANTILE EXCHANGE,2021\\nE-MINI S&P ENERGY INDEX - CHICAGO MERCANTILE EXCHANGE,2021\\nE-MINI S&P 500 STOCK INDEX - CHICAGO MERCANTILE EXCHANGE,2021\\nE-MINI S&P FINANCIAL INDEX - CHICAGO MERCANTILE EXCHANGE,2021\\nE-MINI S&P INDUSTRIAL INDEX - CHICAGO MERCANTILE EXCHANGE,2021\\nE-MINI S&P MATERIALS INDEX - CHICAGO MERCANTILE EXCHANGE,2021\\nE-MINI S&P UTILITIES INDEX - CHICAGO MERCANTILE EXCHANGE,2021\\nS&P 500 TOTAL RETURN INDEX - CHICAGO MERCANTILE EXCHANGE,2021\\nMICRO E-MINI S&P 500 INDEX - CHICAGO MERCANTILE EXCHANGE,2021\\nNASDAQ-100 Consolidated - CHICAGO MERCANTILE EXCHANGE,2021\\nNASDAQ-100 STOCK INDEX (MINI) - CHICAGO MERCANTILE EXCHANGE,2021\\nMICRO E-MINI NASDAQ-100 INDEX - CHICAGO MERCANTILE EXCHANGE,2021\\nE-MINI RUSSELL 2000 INDEX - CHICAGO MERCANTILE EXCHANGE,2021\\nEMINI RUSSELL 1000 VALUE INDEX - CHICAGO MERCANTILE EXCHANGE,2021\\nNIKKEI STOCK AVERAGE - CHICAGO MERCANTILE EXCHANGE,2021\\nNIKKEI STOCK AVERAGE YEN DENOM - CHICAGO MERCANTILE EXCHANGE,2021\\nMSCI EAFE MINI INDEX - ICE FUTURES U.S.,2021\\nMSCI EMERGING MKTS INDEX - ICE FUTURES U.S.,2021\\nE-MINI S&P 400 STOCK INDEX - CHICAGO MERCANTILE EXCHANGE,2021\\nS&P 500 ANNUAL DIVIDEND INDEX - CHICAGO MERCANTILE EXCHANGE,2021\\nU.S. TREASURY BONDS - CHICAGO BOARD OF TRADE,2021\\nULTRA U.S. TREASURY BONDS - CHICAGO BOARD OF TRADE,2021\\n2-YEAR U.S. TREASURY NOTES - CHICAGO BOARD OF TRADE,2021\\n10-YEAR U.S. TREASURY NOTES - CHICAGO BOARD OF TRADE,2021\\nULTRA 10-YEAR U.S. T-NOTES - CHICAGO BOARD OF TRADE,2021\\n5-YEAR U.S. TREASURY NOTES - CHICAGO BOARD OF TRADE,2021\\n30-DAY FEDERAL FUNDS - CHICAGO BOARD OF TRADE,2021\\n3-MONTH EURODOLLARS - CHICAGO MERCANTILE EXCHANGE,2021\\n3-MONTH SOFR - CHICAGO MERCANTILE EXCHANGE,2021\\n1-MONTH SOFR - CHICAGO MERCANTILE EXCHANGE,2021\\n10 YEAR DELIVERABLE IR - CHICAGO BOARD OF TRADE,2021\\nBITCOIN - CHICAGO MERCANTILE EXCHANGE,2021\\nU.S. DOLLAR INDEX - ICE FUTURES U.S.,2021\\nVIX FUTURES - CBOE FUTURES EXCHANGE,2021\\nBLOOMBERG COMMODITY INDEX - CHICAGO BOARD OF TRADE,2021\\n'"
            ]
          },
          "metadata": {
            "tags": []
          },
          "execution_count": 13
        }
      ]
    }
  ]
}