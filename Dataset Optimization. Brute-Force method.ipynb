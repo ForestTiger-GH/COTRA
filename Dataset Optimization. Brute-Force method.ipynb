{
  "nbformat": 4,
  "nbformat_minor": 0,
  "metadata": {
    "colab": {
      "name": "Dataset Optimization. Brute-force method",
      "provenance": [],
      "collapsed_sections": [
        "u5d_fyv5bbzf"
      ]
    },
    "kernelspec": {
      "display_name": "Python 3",
      "name": "python3"
    }
  },
  "cells": [
    {
      "cell_type": "markdown",
      "metadata": {
        "id": "iEFQbRT7xjT8"
      },
      "source": [
        "# Обнуление маловажной статистики\r\n",
        "**На основе изменения множественной регрессии** (единственный Y)\r\n",
        "\r\n",
        "Полный перебор всевозможных вариантов"
      ]
    },
    {
      "cell_type": "markdown",
      "metadata": {
        "id": "u5d_fyv5bbzf"
      },
      "source": [
        "# Импорт библиотек"
      ]
    },
    {
      "cell_type": "code",
      "metadata": {
        "id": "JecyZaiYTKVw"
      },
      "source": [
        "import numpy as np\r\n",
        "import pandas as pd\r\n",
        "\r\n",
        "import pylab as plb\r\n",
        "import matplotlib.pyplot as plt\r\n",
        "\r\n",
        "import sys\r\n",
        "\r\n",
        "from scipy.stats import linregress\r\n",
        "\r\n",
        "import statsmodels.api as sm\r\n",
        "\r\n",
        "import copy\r\n",
        "import time"
      ],
      "execution_count": 484,
      "outputs": []
    },
    {
      "cell_type": "markdown",
      "metadata": {
        "id": "_xUtaj2eyK-p"
      },
      "source": [
        "# Загрузка и обработка статистики"
      ]
    },
    {
      "cell_type": "code",
      "metadata": {
        "id": "KW_jB0fL3qPX"
      },
      "source": [
        "# ------------ Источник ------------ #\r\n",
        "\r\n",
        "url = \"https://raw.githubusercontent.com/ForestTiger-GH/COTRA/main/Stat_wheat/Test_trend20/Wheat_trend20.x5.y1_157%232011-2013_nonfilter.txt\"\r\n",
        "\r\n",
        "downloaded_url = pd.read_csv(url,\r\n",
        "               sep='\\t', \r\n",
        "               error_bad_lines=False,\r\n",
        "               decimal=',',\r\n",
        "               encoding='gbk', \r\n",
        "               skiprows=1)"
      ],
      "execution_count": 485,
      "outputs": []
    },
    {
      "cell_type": "code",
      "metadata": {
        "id": "7ToKySjFvZGw"
      },
      "source": [
        "#downloaded_url.to_numpy()\r\n",
        "\r\n",
        "a = np.asarray(downloaded_url)\r\n",
        "columns_all = np.array(a).T\r\n",
        "\r\n",
        "column_dates = columns_all[0].tolist()\r\n",
        "width_all = len(a[0])                                                            # Количество всех столбцов\r\n",
        "width_y = 1                                                                      # Количество Y (всегда 1)\r\n",
        "width_x = width_all - 1 - width_y                                                # Количество Х\r\n",
        "\r\n",
        "column_dates = columns_all[0]                                                    # Столбец дат\r\n",
        "np.array(column_dates)\r\n",
        "column_y = columns_all[width_all-1]                                              # Столбец Y\r\n",
        "np.array(column_y)\r\n",
        "\r\n",
        "lenght_all = len(column_dates)                                                   # Количество строк (на основе дат)"
      ],
      "execution_count": 486,
      "outputs": []
    },
    {
      "cell_type": "code",
      "metadata": {
        "id": "-103rAcheaaE"
      },
      "source": [
        "columns_x_all = np.array(columns_all[1:(len(columns_all)-1)]).tolist()           # Группа столбцов X\n",
        "np.array(columns_x_all).tolist()\n",
        "\n",
        "lol = lambda lst, sz: [lst[i:i+sz] for i in range(0, len(lst), sz)]\n",
        "columns_x_all = lol(columns_x_all, width_x)\n",
        "columns_x_all = columns_x_all[0]\n",
        "\n",
        "columns_x_all_old = copy.deepcopy(columns_x_all)                                 # Глубокая копия для сравнения регрессий в конце"
      ],
      "execution_count": 487,
      "outputs": []
    },
    {
      "cell_type": "markdown",
      "metadata": {
        "id": "qdTQScjr8EcZ"
      },
      "source": [
        "# Уровень check rate"
      ]
    },
    {
      "cell_type": "code",
      "metadata": {
        "id": "7GVs5GJ2dQ31"
      },
      "source": [
        "check_rate = 0.1                                                                 # Точность проверки (0.1 или 0.01)\r\n",
        "check_rate_amount = round(1/check_rate)                                             # то есть 10 вариаций или 100 \r\n",
        "check_rate_list = (np.arange(0, 1, check_rate)).tolist()                         # Список уровней (проверка будет на каждом)\r\n",
        "check_rate_count = (np.arange(0, check_rate_amount, 1)).tolist()"
      ],
      "execution_count": 488,
      "outputs": []
    },
    {
      "cell_type": "markdown",
      "metadata": {
        "id": "H7instjdaNTQ"
      },
      "source": [
        "# Обработка данных"
      ]
    },
    {
      "cell_type": "code",
      "metadata": {
        "id": "FiipZUM5VETh"
      },
      "source": [
        "# ------------ Функции ------------ #\r\n",
        "def reg_m(yyy, xxx):\r\n",
        "    ones = np.ones(len(xxx[0]))\r\n",
        "    X = sm.add_constant(np.column_stack((xxx[0], ones)))\r\n",
        "    for ele in xxx[1:]:\r\n",
        "        X = sm.add_constant(np.column_stack((ele, X)))\r\n",
        "    results = sm.OLS(yyy, X).fit()\r\n",
        "    return results\r\n",
        "\r\n",
        "def demark(enter_border_x1, enter_x1_step_value):\r\n",
        "    for i in range(check_rate_amount):\r\n",
        "        enter_border_x1.append(check_rate_list[i]*enter_x1_step_value*check_rate_amount)\r\n",
        "    return enter_border_x1\r\n",
        "\r\n",
        "# def total_nullify(set_column_x1, set_column_x1_old, set_border_x1):\r\n",
        "#     for a in range(check_rate_amount):\r\n",
        "#         set_column_x1 = []\r\n",
        "#         set_column_x1 = copy.deepcopy(set_column_x1_old)\r\n",
        "#         for b in range(lenght_all):\r\n",
        "#             if abs(set_column_x1[b]) < set_border_x1[a]:\r\n",
        "#                 set_column_x1[b] = 0\r\n",
        "#         return set_column_x1\r\n",
        "\r\n",
        "def nullify(set_column_x1, set_border_x1, set_A):\r\n",
        "    for z in range(lenght_all):\r\n",
        "        if abs(set_column_x1[z]) < set_border_x1[set_A]:\r\n",
        "            set_column_x1[z] = 0\r\n",
        "    return set_column_x1\r\n",
        "\r\n",
        "# def recoder():\r\n",
        "#     columns_x_all[0] = column_x1\r\n",
        "#     columns_x_all[1] = column_x2\r\n",
        "#     columns_x_all[2] = column_x3\r\n",
        "#     columns_x_all[3] = column_x4\r\n",
        "#     columns_x_all[4] = column_x5\r\n",
        "#     yyy = column_y\r\n",
        "#     xxx = columns_x_all\r\n",
        "#     yyy = np.array(yyy,'float32')\r\n",
        "#     xxx = np.array(xxx,'float32')\r\n",
        "#     return yyy, xxx"
      ],
      "execution_count": 489,
      "outputs": []
    },
    {
      "cell_type": "code",
      "metadata": {
        "colab": {
          "base_uri": "https://localhost:8080/"
        },
        "id": "7J0fJBgQbMha",
        "outputId": "6cb56d67-d5ca-4de0-fbf1-8e4000d162f8"
      },
      "source": [
        "# ------------ Резервная копия столбцов ------------ #\r\n",
        "column_x1_old = columns_x_all[0]\r\n",
        "column_x2_old = columns_x_all[1]\r\n",
        "column_x3_old = columns_x_all[2]\r\n",
        "column_x4_old = columns_x_all[3]\r\n",
        "column_x5_old = columns_x_all[4]\r\n",
        "\r\n",
        "# ------------ Расчет всех шагов и бордеров ------------ #\r\n",
        "x1_step_value = max(np.abs(column_x1).tolist())/check_rate_amount\r\n",
        "x2_step_value = max(np.abs(column_x2).tolist())/check_rate_amount\r\n",
        "x3_step_value = max(np.abs(column_x3).tolist())/check_rate_amount\r\n",
        "x4_step_value = max(np.abs(column_x4).tolist())/check_rate_amount\r\n",
        "x5_step_value = max(np.abs(column_x5).tolist())/check_rate_amount\r\n",
        "border_x1 = []\r\n",
        "border_x2 = []\r\n",
        "border_x3 = []\r\n",
        "border_x4 = []\r\n",
        "border_x5 = []\r\n",
        "\r\n",
        "demark(border_x1, x1_step_value)\r\n",
        "demark(border_x2, x2_step_value)\r\n",
        "demark(border_x3, x3_step_value)\r\n",
        "demark(border_x4, x4_step_value)\r\n",
        "demark(border_x5, x5_step_value)\r\n",
        "\r\n",
        "# for q in range(check_rate_amount):\r\n",
        "#     border_x1.append(check_rate_list[q]*x1_step_value*check_rate_amount)\r\n",
        "# for w in range(check_rate_amount):\r\n",
        "#     border_x2.append(check_rate_list[w]*x2_step_value*check_rate_amount)\r\n",
        "# for r in range(check_rate_amount):\r\n",
        "#     border_x3.append(check_rate_list[r]*x3_step_value*check_rate_amount)\r\n",
        "# for u in range(check_rate_amount):\r\n",
        "#     border_x4.append(check_rate_list[u]*x4_step_value*check_rate_amount)\r\n",
        "# for z in range(check_rate_amount):\r\n",
        "#     border_x5.append(check_rate_list[z]*x5_step_value*check_rate_amount)\r\n",
        "print()"
      ],
      "execution_count": 490,
      "outputs": [
        {
          "output_type": "stream",
          "text": [
            "\n"
          ],
          "name": "stdout"
        }
      ]
    },
    {
      "cell_type": "code",
      "metadata": {
        "id": "ksA4nAqDw4sv",
        "colab": {
          "base_uri": "https://localhost:8080/"
        },
        "outputId": "fb4af641-a3e2-4d77-90cb-15bfa90abfbd"
      },
      "source": [
        "start_time = time.time()   # таймер\r\n",
        "\r\n",
        "# ------------ Начало цикла ------------ #\r\n",
        "\r\n",
        "list_Rsquare_all = []\r\n",
        "\r\n",
        "# for a in range(check_rate_amount):\r\n",
        "#     column_x1 = []\r\n",
        "#     column_x1 = copy.deepcopy(column_x1_old)\r\n",
        "#     for b in range(lenght_all):\r\n",
        "#         if abs(column_x1[b]) < border_x1[a]:\r\n",
        "#             column_x1[b] = 0\r\n",
        "\r\n",
        "#     for c in range(check_rate_amount):\r\n",
        "#         column_x2 = []\r\n",
        "#         column_x2 = copy.deepcopy(column_x2_old)\r\n",
        "#         for d in range(lenght_all):\r\n",
        "#             if abs(column_x2[d]) < border_x2[c]:\r\n",
        "#                 column_x2[d] = 0\r\n",
        "\r\n",
        "#         for e in range(check_rate_amount):\r\n",
        "#             column_x3 = []\r\n",
        "#             column_x3 = copy.deepcopy(column_x3_old)\r\n",
        "#             for f in range(lenght_all):\r\n",
        "#                 if abs(column_x3[f]) < border_x3[e]:\r\n",
        "#                     column_x3[f] = 0\r\n",
        "\r\n",
        "#             for g in range(check_rate_amount):\r\n",
        "#                 column_x4 = []\r\n",
        "#                 column_x4 = copy.deepcopy(column_x4_old)\r\n",
        "#                 for h in range(lenght_all):\r\n",
        "#                     if abs(column_x4[h]) < border_x4[g]:\r\n",
        "#                         column_x4[h] = 0\r\n",
        "\r\n",
        "#                 for i in range(check_rate_amount):\r\n",
        "#                     column_x5 = []\r\n",
        "#                     column_x5 = copy.deepcopy(column_x5_old)\r\n",
        "#                     for j in range(lenght_all):\r\n",
        "#                         if abs(column_x5[j]) < border_x5[i]:\r\n",
        "#                             column_x5[j] = 0\r\n",
        "\r\n",
        "for a in range(check_rate_amount):\r\n",
        "    column_x1 = []\r\n",
        "    column_x1 = copy.deepcopy(column_x1_old)\r\n",
        "    nullify(column_x1, border_x1, a)\r\n",
        "\r\n",
        "    for c in range(check_rate_amount):\r\n",
        "        column_x2 = []\r\n",
        "        column_x2 = copy.deepcopy(column_x2_old)   \r\n",
        "        nullify(column_x2, border_x2, c)\r\n",
        "\r\n",
        "        for e in range(check_rate_amount):\r\n",
        "            column_x3 = []\r\n",
        "            column_x3 = copy.deepcopy(column_x3_old)\r\n",
        "            nullify(column_x3, border_x3, e)\r\n",
        "\r\n",
        "            for g in range(check_rate_amount):\r\n",
        "                column_x4 = []\r\n",
        "                column_x4 = copy.deepcopy(column_x4_old)\r\n",
        "                nullify(column_x4, border_x4, g)\r\n",
        "\r\n",
        "                for i in range(check_rate_amount):\r\n",
        "                    column_x5 = []\r\n",
        "                    column_x5 = copy.deepcopy(column_x5_old)\r\n",
        "                    nullify(column_x5, border_x5, i)\r\n",
        "\r\n",
        "                    # sys.stdout.write(\"\\rProgress: {} %            Decryption: {} {} {} {} {}            {}s seconds     \".format(\r\n",
        "                    #       str(round((int(\"\".join([str(l) for l in [a, c, e, g, i]]))/check_rate_amount**width_x)*100, 1)),\r\n",
        "                    #       str(100*a/float(check_rate_amount))[:1],\r\n",
        "                    #       str(100*c/float(check_rate_amount))[:1],\r\n",
        "                    #       str(100*e/float(check_rate_amount))[:1],\r\n",
        "                    #       str(100*g/float(check_rate_amount))[:1],\r\n",
        "                    #       str(100*i/float(check_rate_amount))[:1],\r\n",
        "                    #       str(time.time() - start_time)[:4]\r\n",
        "                    #       ))\r\n",
        "\r\n",
        "\r\n",
        "                    #recoder()\r\n",
        "                    columns_x_all[0] = column_x1\r\n",
        "                    columns_x_all[1] = column_x2\r\n",
        "                    columns_x_all[2] = column_x3\r\n",
        "                    columns_x_all[3] = column_x4\r\n",
        "                    columns_x_all[4] = column_x5\r\n",
        "                    yyy = column_y\r\n",
        "                    xxx = columns_x_all\r\n",
        "                    yyy = np.array(yyy,'float32')\r\n",
        "                    xxx = np.array(xxx,'float32')\r\n",
        "                    list_Rsquare_all.append(reg_m(yyy, xxx).rsquared)\r\n",
        "\r\n",
        "                    #print(a, c, e, g, i, '    ', reg_m(yyy, xxx).rsquared)    \r\n",
        "print(time.time() - start_time, \" seconds\")"
      ],
      "execution_count": 491,
      "outputs": [
        {
          "output_type": "stream",
          "text": [
            "105.9940984249115  seconds\n"
          ],
          "name": "stdout"
        }
      ]
    },
    {
      "cell_type": "code",
      "metadata": {
        "id": "DuvILyZGvFlI"
      },
      "source": [
        "# ------------ Поиск номера лучшего R-квадрат по общему списку ------------ #\r\n",
        "if abs(max(list_Rsquare_all)) >= abs(min(list_Rsquare_all)):\r\n",
        "    best_Rsquare = max(list_Rsquare_all)\r\n",
        "else:\r\n",
        "    best_Rsquare = min(list_Rsquare_all)\r\n",
        "best_position_number = list_Rsquare_all.index(best_Rsquare)\r\n",
        "\r\n",
        "\r\n",
        "# ------------ Расшифровка номера лучшего R-квадрат ------------ #\r\n",
        "\r\n",
        "list_best_positions = list(str(best_position_number).zfill(width_x))      # может быть косяк при вводе чек рейта 0.01\r\n",
        "list_best_positions = [int(item) for item in list_best_positions]\r\n",
        "\r\n",
        "best_position_number_x1 = list_best_positions[0]\r\n",
        "best_position_number_x2 = list_best_positions[1]\r\n",
        "best_position_number_x3 = list_best_positions[2]\r\n",
        "best_position_number_x4 = list_best_positions[3]\r\n",
        "best_position_number_x5 = list_best_positions[4]\r\n",
        "\r\n",
        "# ------------ Формирование нового массива Х-ов ------------ #\r\n",
        "column_x1_new = copy.deepcopy(columns_x_all_old[0])\r\n",
        "column_x2_new = copy.deepcopy(columns_x_all_old[1])\r\n",
        "column_x3_new = copy.deepcopy(columns_x_all_old[2])\r\n",
        "column_x4_new = copy.deepcopy(columns_x_all_old[3])\r\n",
        "column_x5_new = copy.deepcopy(columns_x_all_old[4])\r\n",
        "\r\n",
        "for a in range(lenght_all):\r\n",
        "    if abs(column_x1_new[a]) < border_x1[best_position_number_x1]:\r\n",
        "        column_x1_new[a] = 0\r\n",
        "for b in range(lenght_all):\r\n",
        "    if abs(column_x2_new[b]) < border_x2[best_position_number_x2]:\r\n",
        "        column_x2_new[b] = 0\r\n",
        "for c in range(lenght_all):\r\n",
        "    if abs(column_x3_new[c]) < border_x3[best_position_number_x3]:\r\n",
        "        column_x3_new[c] = 0\r\n",
        "for d in range(lenght_all):\r\n",
        "    if abs(column_x4_new[d]) < border_x4[best_position_number_x4]:\r\n",
        "        column_x4_new[d] = 0\r\n",
        "for e in range(lenght_all):\r\n",
        "    if abs(column_x5_new[e]) < border_x5[best_position_number_x5]:\r\n",
        "        column_x5_new[e] = 0\r\n",
        "\r\n",
        "group_x = []\r\n",
        "group_x.append(column_x1_new)\r\n",
        "group_x.append(column_x2_new)\r\n",
        "group_x.append(column_x3_new)\r\n",
        "group_x.append(column_x4_new)\r\n",
        "group_x.append(column_x5_new)"
      ],
      "execution_count": 492,
      "outputs": []
    },
    {
      "cell_type": "markdown",
      "metadata": {
        "id": "bw0wuq2S-Qxv"
      },
      "source": [
        "# Результаты обработки"
      ]
    },
    {
      "cell_type": "code",
      "metadata": {
        "id": "zCdjG-Lu8yY1",
        "colab": {
          "base_uri": "https://localhost:8080/"
        },
        "outputId": "e13663a8-b92c-4ea3-8467-7448463b3521"
      },
      "source": [
        "print(\"Результат оптимизации статистики\")\r\n",
        "print(\"--------------------------------\", end=\"\\n\\n\")\r\n",
        "print(\"Лучшие уровни отсечки (сколько нужно срезать; в процентах на уровень Check_rate (10 или 100))\", end=\"\\n\")\r\n",
        "print(\"Было:    [0, 0, 0, 0, 0]\")\r\n",
        "print(\"Стало:   {}\".format(\r\n",
        "    str(list_best_positions)\r\n",
        "    ), end=\"\\n\\n\")\r\n",
        "\r\n",
        "print(\"Оптимизация R-квадрат:\", end=\"\\n\")\r\n",
        "print(\"Было:    {} %\".format(\r\n",
        "    str(round(reg_m(np.array(column_y,'float32'), np.array(columns_x_all_old,'float32')).rsquared*100, 2))\r\n",
        "    ))\r\n",
        "print(\"Стало:   {} %\".format(\r\n",
        "    str(round(reg_m(np.array(column_y,'float32'), np.array(group_x,'float32')).rsquared*100, 2))\r\n",
        "    ))"
      ],
      "execution_count": 493,
      "outputs": [
        {
          "output_type": "stream",
          "text": [
            "Результат оптимизации статистики\n",
            "--------------------------------\n",
            "\n",
            "Лучшие уровни отсечки (сколько нужно срезать; в процентах на уровень Check_rate (10 или 100))\n",
            "Было:    [0, 0, 0, 0, 0]\n",
            "Стало:   [6, 1, 7, 7, 0]\n",
            "\n",
            "Оптимизация R-квадрат:\n",
            "Было:    8.87 %\n",
            "Стало:   21.12 %\n"
          ],
          "name": "stdout"
        }
      ]
    },
    {
      "cell_type": "code",
      "metadata": {
        "colab": {
          "base_uri": "https://localhost:8080/",
          "height": 371
        },
        "id": "r1wMAkZG-WmZ",
        "outputId": "75f15362-8037-4855-df07-58786a1bbced"
      },
      "source": [
        "ax_x = (np.arange(0, len(list_Rsquare_all), 5000)).tolist()\r\n",
        "\r\n",
        "print(\"R-квадрат: \", best_Rsquare, \"      Порядковый номер в общем списке: \", best_position_number, end=\"\\n\\n\")\r\n",
        "plt.figure(figsize=(15,5))\r\n",
        "plt.xticks(ax_x)\r\n",
        "plt.grid()\r\n",
        "plt.plot(list_Rsquare_all)"
      ],
      "execution_count": 494,
      "outputs": [
        {
          "output_type": "stream",
          "text": [
            "R-квадрат:  0.2112265414268667       Порядковый номер в общем списке:  61770\n",
            "\n"
          ],
          "name": "stdout"
        },
        {
          "output_type": "execute_result",
          "data": {
            "text/plain": [
              "[<matplotlib.lines.Line2D at 0x7f21442014d0>]"
            ]
          },
          "metadata": {
            "tags": []
          },
          "execution_count": 494
        },
        {
          "output_type": "display_data",
          "data": {
            "image/png": "[encoded data removed]",
            "text/plain": [
              "<Figure size 1080x360 with 1 Axes>"
            ]
          },
          "metadata": {
            "tags": [],
            "needs_background": "light"
          }
        }
      ]
    },
    {
      "cell_type": "code",
      "metadata": {
        "id": "ys0JHR0rDlZA",
        "colab": {
          "base_uri": "https://localhost:8080/"
        },
        "outputId": "c8f6d83f-353c-4024-e1a0-65cdb646b310"
      },
      "source": [
        "# Сводка всех результатов регрессии До и После\r\n",
        "print(reg_m(np.array(column_y,'float32'), np.array(columns_x_all_old,'float32')).summary(), end=\"\\n\\n\")\r\n",
        "print('█████████████████████████████████████████████████████████████', end=\"\\n\\n\")\r\n",
        "print(reg_m(np.array(column_y,'float32'), np.array(group_x,'float32')).summary())"
      ],
      "execution_count": 495,
      "outputs": [
        {
          "output_type": "stream",
          "text": [
            "                            OLS Regression Results                            \n",
            "==============================================================================\n",
            "Dep. Variable:                      y   R-squared:                       0.089\n",
            "Model:                            OLS   Adj. R-squared:                  0.058\n",
            "Method:                 Least Squares   F-statistic:                     2.939\n",
            "Date:                Sat, 13 Mar 2021   Prob (F-statistic):             0.0146\n",
            "Time:                        00:19:13   Log-Likelihood:                -566.62\n",
            "No. Observations:                 157   AIC:                             1145.\n",
            "Df Residuals:                     151   BIC:                             1164.\n",
            "Df Model:                           5                                         \n",
            "Covariance Type:            nonrobust                                         \n",
            "==============================================================================\n",
            "                 coef    std err          t      P>|t|      [0.025      0.975]\n",
            "------------------------------------------------------------------------------\n",
            "x1            -3.1291      1.635     -1.914      0.058      -6.359       0.101\n",
            "x2             2.8503      1.877      1.518      0.131      -0.859       6.560\n",
            "x3             0.2861      2.203      0.130      0.897      -4.067       4.640\n",
            "x4            -2.4300      2.450     -0.992      0.323      -7.272       2.412\n",
            "x5             6.7211      3.234      2.078      0.039       0.331      13.112\n",
            "const          0.1185      0.969      0.122      0.903      -1.797       2.034\n",
            "==============================================================================\n",
            "Omnibus:                       15.065   Durbin-Watson:                   0.192\n",
            "Prob(Omnibus):                  0.001   Jarque-Bera (JB):               17.862\n",
            "Skew:                           0.642   Prob(JB):                     0.000132\n",
            "Kurtosis:                       4.039   Cond. No.                         6.36\n",
            "==============================================================================\n",
            "\n",
            "Warnings:\n",
            "[1] Standard Errors assume that the covariance matrix of the errors is correctly specified.\n",
            "\n",
            "█████████████████████████████████████████████████████████████\n",
            "\n",
            "                            OLS Regression Results                            \n",
            "==============================================================================\n",
            "Dep. Variable:                      y   R-squared:                       0.211\n",
            "Model:                            OLS   Adj. R-squared:                  0.185\n",
            "Method:                 Least Squares   F-statistic:                     8.087\n",
            "Date:                Sat, 13 Mar 2021   Prob (F-statistic):           8.76e-07\n",
            "Time:                        00:19:13   Log-Likelihood:                -555.28\n",
            "No. Observations:                 157   AIC:                             1123.\n",
            "Df Residuals:                     151   BIC:                             1141.\n",
            "Df Model:                           5                                         \n",
            "Covariance Type:            nonrobust                                         \n",
            "==============================================================================\n",
            "                 coef    std err          t      P>|t|      [0.025      0.975]\n",
            "------------------------------------------------------------------------------\n",
            "x1            -3.2734      1.577     -2.075      0.040      -6.390      -0.157\n",
            "x2             4.6036      2.217      2.076      0.040       0.223       8.984\n",
            "x3            -1.6716      1.941     -0.861      0.390      -5.507       2.163\n",
            "x4            -6.5858      2.099     -3.137      0.002     -10.734      -2.438\n",
            "x5            16.0073      2.923      5.477      0.000      10.233      21.782\n",
            "const          0.8370      0.934      0.896      0.372      -1.009       2.683\n",
            "==============================================================================\n",
            "Omnibus:                        7.762   Durbin-Watson:                   0.268\n",
            "Prob(Omnibus):                  0.021   Jarque-Bera (JB):                7.472\n",
            "Skew:                           0.499   Prob(JB):                       0.0238\n",
            "Kurtosis:                       3.384   Cond. No.                         5.61\n",
            "==============================================================================\n",
            "\n",
            "Warnings:\n",
            "[1] Standard Errors assume that the covariance matrix of the errors is correctly specified.\n"
          ],
          "name": "stdout"
        }
      ]
    },
    {
      "cell_type": "markdown",
      "metadata": {
        "id": "KE5zySxvb4z-"
      },
      "source": [
        "# Вывод статистики"
      ]
    },
    {
      "cell_type": "code",
      "metadata": {
        "id": "Ud2d9qzXuJhb",
        "colab": {
          "base_uri": "https://localhost:8080/"
        },
        "outputId": "4ccc7150-ed67-41bc-c63c-f676480b7bce"
      },
      "source": [
        "columns = []\r\n",
        "#columns.append(\"Dates\")        ### пока без дат\r\n",
        "for b in range(width_x):\r\n",
        "    alfa = \"Variable {}\".format(str(b+1))\r\n",
        "    columns.append(alfa)\r\n",
        "    alfa = []\r\n",
        "columns.append(\"Dependent Variable 1\")\r\n",
        "columns"
      ],
      "execution_count": 496,
      "outputs": [
        {
          "output_type": "execute_result",
          "data": {
            "text/plain": [
              "['Variable 1',\n",
              " 'Variable 2',\n",
              " 'Variable 3',\n",
              " 'Variable 4',\n",
              " 'Variable 5',\n",
              " 'Dependent Variable 1']"
            ]
          },
          "metadata": {
            "tags": []
          },
          "execution_count": 496
        }
      ]
    },
    {
      "cell_type": "code",
      "metadata": {
        "id": "X5OLKyBSsIjm",
        "colab": {
          "base_uri": "https://localhost:8080/"
        },
        "outputId": "c2b85955-4023-4012-a4a6-41704702c2e3"
      },
      "source": [
        "beta = np.array(group_x).T\r\n",
        "merged_one = []\r\n",
        "merged_all = []\r\n",
        "\r\n",
        "#np.array(column_dates)\r\n",
        "\r\n",
        "for g in range(len(beta)):\r\n",
        "    merged_one = []\r\n",
        "    merged_one.append(beta[g].tolist())\r\n",
        "    merged_one.append(column_y[g])\r\n",
        "    np.array(merged_one)\r\n",
        "    merged_all.append(merged_one)"
      ],
      "execution_count": 497,
      "outputs": [
        {
          "output_type": "stream",
          "text": [
            "/usr/local/lib/python3.7/dist-packages/ipykernel_launcher.py:11: VisibleDeprecationWarning: Creating an ndarray from ragged nested sequences (which is a list-or-tuple of lists-or-tuples-or ndarrays with different lengths or shapes) is deprecated. If you meant to do this, you must specify 'dtype=object' when creating the ndarray\n",
            "  # This is added back by InteractiveShellApp.init_path()\n"
          ],
          "name": "stderr"
        }
      ]
    },
    {
      "cell_type": "code",
      "metadata": {
        "id": "xxEhrvIL3LYd"
      },
      "source": [
        "csv_half_ready = []\r\n",
        "csv_ready = []\r\n",
        "\r\n",
        "for k in range(len(merged_all)):\r\n",
        "      for f in range(len(merged_all[0][0])):\r\n",
        "          csv_half_ready.append(merged_all[k][0][f])\r\n",
        "      csv_half_ready.append(merged_all[k][1])\r\n",
        "      np.array(csv_half_ready)\r\n",
        "      csv_ready.append(csv_half_ready)\r\n",
        "      csv_half_ready = []"
      ],
      "execution_count": 498,
      "outputs": []
    },
    {
      "cell_type": "code",
      "metadata": {
        "id": "lZZBFdjX2sAf",
        "colab": {
          "base_uri": "https://localhost:8080/",
          "height": 103
        },
        "outputId": "5cb5b4fa-07dd-421a-b9ca-27fbbf3c9e18"
      },
      "source": [
        "data = csv_ready\r\n",
        "df = pd.DataFrame(data, columns=columns)\r\n",
        "df.to_csv(index=False)"
      ],
      "execution_count": 499,
      "outputs": [
        {
          "output_type": "execute_result",
          "data": {
            "application/vnd.google.colaboratory.intrinsic+json": {
              "type": "string"
            },
            "text/plain": [
              "'Variable 1,Variable 2,Variable 3,Variable 4,Variable 5,Dependent Variable 1\\n0.0,0.0,0.0,0.0,-0.83382746198,-4\\n0.0,0.0,0.0,0.0,-0.7424505603399999,-3\\n0.0,0.09062046836000001,0.0,0.0,-0.6293431015300001,-6\\n0.0,0.12377213480999999,0.0,0.0,-0.53898584625,-11\\n0.0,0.19096362873,0.0,0.0,-0.42973283802,-11\\n0.0,0.28844016535,0.0,0.0,-0.30230655112,-19\\n0.0,-0.40000554264,0.0,0.0,-0.14986499864,-14\\n0.0,-0.42917909819,0.0,0.0,-0.041209558910000006,-4\\n0.0,-0.47679913795,0.0,0.0,0.00246753522,-6\\n0.0,-0.46617114123000003,0.0,0.0,0.10177491226,-2\\n0.0,-0.39762003066,0.0,0.0,0.28944877446,11\\n0.0,-0.35887525598000003,0.0,0.0,0.4746703988,0\\n0.0,-0.35444024049999995,0.0,0.0,0.6173925853100001,-2\\n0.0,-0.32853157612,0.0,0.0,0.6191718298100001,-9\\n0.0,-0.23851795731,0.0,0.0,0.6192205685800001,-6\\n0.0,-0.12246205159000002,0.0,0.0,0.78898121103,-11\\n0.0,-0.10743404002999998,0.0,0.0,0.7152767701899999,-14\\n0.0,-0.16617208131,0.0,0.0,0.64074904573,-9\\n0.0,-0.20662801292,0.0,0.0,0.54487696505,-13\\n0.0,0.11834012765999999,-0.66728695371,0.0,0.46114486585000003,-12\\n-0.5474981994,-0.18464752550000002,-0.7101664454000001,0.0,0.36718709396,-15\\n-0.64149252361,-0.27755522230999996,-0.73363223955,0.0,0.20848509447,-16\\n-0.73631039848,-0.35204983628,-0.7911682192,0.0,0.07420191988,-10\\n-0.79675398654,-0.39742733038,-0.84336226416,0.0,0.005322935139999999,-11\\n-0.7615797233399999,-0.32640162638,-0.8456716405600001,0.0,-0.032552717519999996,0\\n-0.7568119846699999,-0.31989162936,-0.8458332186599999,0.0,-0.21391852674000003,4\\n-0.78619673313,-0.31770264212,-0.85932444171,0.0,-0.42977378215000006,8\\n-0.84106862635,-0.32759116508999997,-0.85781703156,0.0,-0.6231148145000001,2\\n-0.85764135941,-0.34121105577,-0.86078843931,0.0,-0.79387848712,-7\\n-0.88062937953,-0.52089880836,-0.88202540156,0.0,-0.86979787814,-7\\n-0.8802757425,-0.57524079216,-0.88855046323,0.0,-0.91076125731,-9\\n-0.8835376046500001,-0.53923139019,-0.90802151844,0.0,-0.90810683345,1\\n-0.87132265686,-0.5491825038600001,-0.9244738541099999,0.0,-0.8949703405299999,-13\\n-0.8440297798499999,-0.5951483079600001,-0.8939352717899999,0.0,-0.89510120244,-22\\n-0.84576251065,-0.62768420944,-0.8442259966,0.0,-0.8429370387899999,-19\\n-0.84835697353,-0.64536016987,-0.8050558266399999,0.0,-0.74635206247,-9\\n-0.8536950857100001,-0.60790616448,-0.79718415527,0.0,-0.6132081105699999,-6\\n-0.8255633062600001,-0.50072140171,-0.8117892514899999,0.0,-0.46760723636999996,-1\\n-0.7876648653499999,-0.30055873075,-0.80772265674,0.0,-0.31530746009,0\\n-0.74673245986,-0.10363192296,-0.79167056506,0.0,-0.18246058432,0\\n-0.7155597934899999,0.0,-0.7689577760899999,0.0,-0.06495341581,0\\n-0.5754404154199999,0.12500347345,-0.75263463512,0.0,-0.00301406131,0\\n0.0,0.25685456367,-0.73256732762,0.0,-0.01137778844,0\\n0.0,0.37891547896,-0.72040442081,0.0,-0.08405099074,0\\n0.0,0.45534311621000007,-0.65123470173,-0.77784518918,-0.19173241378,0\\n0.0,0.5998111082600001,-0.65171603291,-0.8442399564399999,0.34547753019,0\\n0.0,0.61602209193,-0.6604611406800001,-0.9026949841799999,0.38257291165,2\\n0.0,0.55536740056,-0.67043149295,-0.8935331743100001,0.47195877882,2\\n0.0,0.36961041201,-0.68078678059,-0.89371349055,0.54900315932,1\\n0.0,0.17004673786,-0.71910498654,-0.9076448845399999,0.60408920549,2\\n0.0,0.0,-0.7723305004100001,-0.89733683021,0.59515150539,1\\n0.0,0.0,-0.80219935576,-0.8854622020799999,0.56861148086,1\\n0.0,0.0,-0.84833558366,-0.8879681924799999,0.56858119343,1\\n0.0,0.0,-0.83973168169,-0.8353589977600001,0.52270958848,3\\n0.0,0.0,-0.79390691242,0.0,0.46667619156999995,5\\n0.0,0.0,-0.66436080925,0.0,0.48803292529,5\\n0.0,0.1554092308,0.0,0.0,0.40730468275,5\\n0.0,0.25395844081999996,0.0,0.0,0.40272770174999994,6\\n0.0,-0.32242317991,0.0,0.0,0.42510940935,8\\n0.0,-0.25801700772,0.0,0.0,-0.35099227432999996,9\\n0.0,-0.23560951590999998,0.0,0.0,-0.18073458393,9\\n0.0,-0.23238647010000002,0.0,0.0,-0.07552979902000001,10\\n0.0,-0.23243032414,0.0,0.0,0.027544825079999998,11\\n0.0,-0.20682039789999998,0.0,0.0,-0.00049573914,13\\n0.0,-0.17093983184999997,0.0,0.0,-0.04786329974,14\\n0.5866459586399999,0.0,0.0,0.0,-0.17801817554000002,14\\n0.66245180938,0.0,0.64708916302,0.0,0.29428016753,16\\n0.6903854209199999,0.0,0.62296742165,0.0,0.10222020091,17\\n0.62621364154,0.0,0.0,0.0,0.08658527994,18\\n0.0,0.0,0.0,0.0,-0.13861096921,19\\n0.0,0.0,0.0,0.0,-0.1647594675,21\\n0.0,0.0,0.0,0.0,-0.13704412973,22\\n0.0,-0.15889991375999998,0.0,0.0,-0.043850090089999995,21\\n0.0,-0.29061709331999996,0.0,0.0,0.00041553494,22\\n0.0,-0.29041311306,0.0,0.0,0.01040406776,24\\n0.0,-0.28673820105000003,0.0,0.0,-0.01707527609,25\\n0.0,-0.13097292166,0.0,0.0,-0.03990789374,26\\n0.0,-0.10342439802999999,0.0,0.0,-0.01602716721,21\\n0.0,0.0,0.0,0.0,-0.013074711329999999,7\\n0.0,0.0,0.0,0.0,-0.004811435,0\\n0.0,0.0,0.0,-0.71373626714,0.021295051769999997,-2\\n0.0,0.0,0.0,-0.77369342123,0.02370934147,-1\\n0.0,0.0,0.0,-0.81934401094,0.0147055128,-4\\n0.0,0.0,0.0,-0.8636985117,0.03855821722,-5\\n0.0,-0.09163848186000001,0.66347633321,-0.90528888339,0.02459514551,-1\\n0.0,-0.20427659041,0.73061499058,-0.9170278136200001,0.00230876181,-8\\n0.0,-0.22138324669,0.7911988414200001,-0.88914738725,0.00396854473,-4\\n0.0,-0.267037397,0.7829198003300001,-0.84905858516,-0.016623973469999997,-6\\n0.0,-0.25747969381999997,0.73770888998,-0.8076980803300001,0.18556350039,-6\\n0.0,0.21413213564,0.66577361251,-0.78171830295,0.33383412209,-8\\n0.0,-0.40973205560000003,0.0,-0.76718672896,0.39842455973000007,-12\\n0.0,-0.37693979434,0.0,-0.7601544905500001,0.47368456775,-10\\n0.0,0.31812007258,0.0,-0.77924184705,0.54204014044,-11\\n0.0,0.170435322,0.0,-0.77426937396,0.66161581823,-10\\n0.0,0.0,0.0,-0.78529683531,0.75917678838,-13\\n0.0,0.0,0.0,-0.77328723685,0.81910159507,-13\\n0.0,0.0,0.0,-0.73283309214,0.85380884171,-15\\n0.0,0.15673103406,0.0,-0.71306176557,0.86411605369,-14\\n0.0,0.28396820173,0.0,-0.64316021081,0.85168562175,-15\\n0.0,0.34361258314000004,0.0,0.0,0.7923457400399999,-18\\n0.0,0.42288257471,0.0,0.0,0.7307778720300001,-17\\n0.0,0.51976985632,0.0,0.0,0.6756566869600001,-13\\n0.0,0.64109638999,-0.6030765422500001,0.0,0.56405148721,-14\\n0.0,0.71724937824,-0.60186895096,0.0,0.43078555155000003,-8\\n0.0,0.7652024592899999,0.0,0.0,0.30473905945,-4\\n0.0,0.7963182634199999,0.0,0.0,0.18031310624000002,-1\\n0.0,0.8303981441600001,0.0,0.0,0.050691516140000004,-7\\n0.0,0.86720475675,0.0,0.0,0.00740720335,-7\\n0.0,0.88041359207,0.0,0.0,0.17870784414000002,-8\\n0.0,0.8888993819700001,0.0,0.0,-0.70565207472,-4\\n0.0,0.8956664759299999,0.0,0.0,-0.82652627158,-1\\n0.0,0.8913904186,0.0,0.0,-0.84516459254,-2\\n0.0,0.86569111639,-0.6191839085199999,0.0,-0.85955399685,0\\n0.0,0.8260226987199999,-0.6969980438,0.0,-0.8860986870700001,0\\n0.0,0.7845893127600001,-0.77039993112,0.0,-0.89658526453,0\\n0.0,0.66736268537,-0.7964987768,0.0,-0.9005608895399999,-3\\n0.0,0.50653467709,-0.8247151347399999,0.0,-0.8767795025399999,-5\\n0.0,0.25698612283000005,-0.83704726013,0.0,-0.83618247248,0\\n0.0,-0.09824654716,-0.83502711633,0.0,-0.84361423148,0\\n0.0,0.0,-0.82802736021,0.0,-0.8481953845,0\\n0.0,0.0,-0.8136815446600001,0.0,-0.78754721456,0\\n0.0,0.10773324723,-0.77563642251,0.0,-0.76546343329,-3\\n0.0,-0.39522509401999995,-0.7697615825499999,0.0,-0.75975230393,0\\n-0.51333455585,-0.62573250892,-0.7974085775599999,0.0,-0.72060144882,0\\n-0.64813125198,-0.7481250575499999,-0.82575023926,0.0,-0.68308654156,0\\n-0.72872098972,-0.8215180973199999,-0.82505372538,0.0,-0.62440515518,0\\n-0.7000919781199999,-0.8017327821699999,-0.74491672234,0.7886884807699999,-0.63042786474,0\\n-0.7299871622699999,-0.7784606526100001,-0.69541748655,0.87257534615,-0.67459438778,0\\n-0.74280044279,-0.7140979091399999,-0.65117817814,0.8595414140700001,-0.6882280072,0\\n-0.80061189675,-0.71426172847,-0.6138047308,0.7613409182800001,-0.5971822097999999,0\\n-0.7763255681199999,-0.56904303554,-0.61904312272,0.0,-0.5964455119300001,0\\n-0.7546662272600001,-0.49744900796,-0.61314033825,0.0,-0.65117136001,0\\n-0.73325805365,-0.44538697706,-0.60104290034,0.0,-0.71773875451,-1\\n-0.72041650115,-0.39519993212,-0.65908753149,0.0,-0.75640405847,-1\\n-0.67703617509,-0.35272288055,-0.7067686614,0.0,-0.7728288586100001,-2\\n-0.61332140055,-0.26487158138,-0.70448771094,0.0,-0.7889210786599999,-2\\n0.0,-0.14104023808,-0.7062891216399999,0.0,-0.7679544703100001,0\\n0.0,0.0,-0.68280410816,0.0,-0.73716804133,0\\n0.0,-0.0909364866,-0.73111082307,0.0,-0.6893739573700001,-2\\n0.0,-0.1883066814,-0.7555744215100001,0.0,-0.66904676906,0\\n0.0,-0.21232975630999998,-0.78051191996,0.0,-0.65889805107,0\\n0.0,-0.22884128713000004,-0.7952895926100001,0.0,-0.60597538466,-1\\n-0.57025403462,-0.37806361316,-0.72690131448,0.0,-0.58275987999,-3\\n-0.63234008777,-0.47938888443000005,0.0,0.0,-0.56215680958,-5\\n-0.70268092842,-0.6248707903399999,0.0,0.0,-0.5160737848800001,-8\\n-0.7157077830399999,-0.65034917752,0.0,0.0,-0.45108328679,-6\\n-0.68416149798,-0.6960622935199999,0.0,0.0,-0.37159544692,-10\\n-0.6497396648,-0.69525685172,0.0,0.0,-0.31894926225000003,-5\\n-0.61540510936,-0.64367844621,0.0,0.0,-0.2758268171,-2\\n0.0,0.31612128794,0.0,0.0,-0.24196482008,-1\\n0.0,-0.14994141390000001,0.0,0.0,-0.31785588305999996,-1\\n0.0,0.0,0.0,0.0,-0.46853053334,-1\\n0.0,0.0,0.0,0.0,-0.63447250652,-2\\n0.0,0.0,0.0,0.0,-0.7930875458600001,3\\n0.0,0.0,0.0,0.0,-0.8398275907100001,5\\n0.0,0.16449729632,0.0,0.0,-0.57622029743,8\\n0.0,0.28905336392,0.0,0.0,-0.32826378101,8\\n'"
            ]
          },
          "metadata": {
            "tags": []
          },
          "execution_count": 499
        }
      ]
    }
  ]
}