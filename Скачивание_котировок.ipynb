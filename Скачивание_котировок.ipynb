{
  "nbformat": 4,
  "nbformat_minor": 0,
  "metadata": {
    "colab": {
      "name": "Выгрузка котировок",
      "provenance": []
    },
    "kernelspec": {
      "name": "python3",
      "display_name": "Python 3"
    },
    "language_info": {
      "name": "python"
    }
  },
  "cells": [
    {
      "cell_type": "code",
      "metadata": {
        "colab": {
          "base_uri": "https://localhost:8080/"
        },
        "id": "6Jxk4EIOeb8j",
        "outputId": "b40f2596-8472-4f5a-d5a5-48a202e4f4df"
      },
      "source": [
        "!pip install yfinance"
      ],
      "execution_count": 10,
      "outputs": [
        {
          "output_type": "stream",
          "text": [
            "Requirement already satisfied: yfinance in /usr/local/lib/python3.7/dist-packages (0.1.59)\n",
            "Requirement already satisfied: pandas>=0.24 in /usr/local/lib/python3.7/dist-packages (from yfinance) (1.1.5)\n",
            "Requirement already satisfied: multitasking>=0.0.7 in /usr/local/lib/python3.7/dist-packages (from yfinance) (0.0.9)\n",
            "Requirement already satisfied: requests>=2.20 in /usr/local/lib/python3.7/dist-packages (from yfinance) (2.23.0)\n",
            "Requirement already satisfied: lxml>=4.5.1 in /usr/local/lib/python3.7/dist-packages (from yfinance) (4.6.3)\n",
            "Requirement already satisfied: numpy>=1.15 in /usr/local/lib/python3.7/dist-packages (from yfinance) (1.19.5)\n",
            "Requirement already satisfied: python-dateutil>=2.7.3 in /usr/local/lib/python3.7/dist-packages (from pandas>=0.24->yfinance) (2.8.1)\n",
            "Requirement already satisfied: pytz>=2017.2 in /usr/local/lib/python3.7/dist-packages (from pandas>=0.24->yfinance) (2018.9)\n",
            "Requirement already satisfied: urllib3!=1.25.0,!=1.25.1,<1.26,>=1.21.1 in /usr/local/lib/python3.7/dist-packages (from requests>=2.20->yfinance) (1.24.3)\n",
            "Requirement already satisfied: certifi>=2017.4.17 in /usr/local/lib/python3.7/dist-packages (from requests>=2.20->yfinance) (2020.12.5)\n",
            "Requirement already satisfied: idna<3,>=2.5 in /usr/local/lib/python3.7/dist-packages (from requests>=2.20->yfinance) (2.10)\n",
            "Requirement already satisfied: chardet<4,>=3.0.2 in /usr/local/lib/python3.7/dist-packages (from requests>=2.20->yfinance) (3.0.4)\n",
            "Requirement already satisfied: six>=1.5 in /usr/local/lib/python3.7/dist-packages (from python-dateutil>=2.7.3->pandas>=0.24->yfinance) (1.15.0)\n"
          ],
          "name": "stdout"
        }
      ]
    },
    {
      "cell_type": "markdown",
      "metadata": {
        "id": "-PQESrvffZRx"
      },
      "source": [
        "https://pypi.org/project/yfinance/ "
      ]
    },
    {
      "cell_type": "code",
      "metadata": {
        "id": "L_vRj9dzcaHl"
      },
      "source": [
        "import numpy as np\n",
        "import pandas as pd\n",
        "import yfinance as yf\n",
        "\n",
        "import matplotlib.pyplot as plt"
      ],
      "execution_count": 11,
      "outputs": []
    },
    {
      "cell_type": "code",
      "metadata": {
        "id": "NE9ZHxA54ehX"
      },
      "source": [
        "# def upload_prices_COTdates()\n",
        "\n",
        "\n",
        "# def make_futureprice_matrix()"
      ],
      "execution_count": null,
      "outputs": []
    },
    {
      "cell_type": "code",
      "metadata": {
        "id": "CKUE8AwhikYs"
      },
      "source": [
        "# Файл с датировкой отчетов СОТ\n",
        "dates_url = 'https://raw.githubusercontent.com/ForestTiger-GH/COTRA/main/Даты%20отчетов%20СОТ.txt'\n",
        "dates = pd.read_csv('https://raw.githubusercontent.com/ForestTiger-GH/COTRA/main/COTR_Dates.txt', parse_dates=True)"
      ],
      "execution_count": 12,
      "outputs": []
    },
    {
      "cell_type": "code",
      "metadata": {
        "id": "ik4jKi9MziG0"
      },
      "source": [
        "dates['Date'] = pd.to_datetime(dates['Date'])\n",
        "# dates['fDate'] = dates['Date']"
      ],
      "execution_count": 13,
      "outputs": []
    },
    {
      "cell_type": "code",
      "metadata": {
        "id": "k_8yKIKUcjqW"
      },
      "source": [
        "# Commodities\n",
        "Wheat_SRW = yf.Ticker('ZW=F').history(period=\"max\")\n",
        "Wheat_SRW.index.name = 'Index'\n",
        "Wheat_SRW['Date'] = Wheat_SRW.index\n",
        "XXX = Wheat_SRW.append(dates)\n",
        "Wheat_SRW = XXX.sort_values(by=['Date', 'Close'], ascending=True).ffill().drop_duplicates(subset=['Date']).merge(dates['Date'], how='right')\n",
        "\n",
        "Soybeans = yf.Ticker('ZS=F').history(period=\"max\")\n",
        "Soybeans.index.name = 'Index'"
      ],
      "execution_count": 14,
      "outputs": []
    },
    {
      "cell_type": "code",
      "metadata": {
        "id": "Q5DN-bKFfjgZ"
      },
      "source": [
        "# Financial\n",
        "Canadian_Dollar = yf.Ticker('6C=F').history(period=\"max\")\n",
        "Canadian_Dollar.index.name = 'Index'\n",
        "Canadian_Dollar['Date'] = Canadian_Dollar.index\n",
        "XXX = Canadian_Dollar.append(dates)\n",
        "Canadian_Dollar = XXX.sort_values(by=['Date', 'Close'], ascending=True).ffill().drop_duplicates(subset=['Date']).merge(dates['Date'], how='right')\n",
        "\n",
        "British_Pound = yf.Ticker('6B=F').history(period=\"max\")\n",
        "British_Pound.index.name = 'Index'\n",
        "British_Pound['Date'] = British_Pound.index"
      ],
      "execution_count": 15,
      "outputs": []
    },
    {
      "cell_type": "code",
      "metadata": {
        "id": "Q8zgwpell8vr"
      },
      "source": [
        "Wheat_SRW['Week_01'] = Wheat_SRW['Close'].shift(-1)"
      ],
      "execution_count": 18,
      "outputs": []
    },
    {
      "cell_type": "code",
      "metadata": {
        "colab": {
          "base_uri": "https://localhost:8080/",
          "height": 419
        },
        "id": "DXftjN6N4Yr4",
        "outputId": "7bf670e5-b6e4-4b86-b051-7328be7124f1"
      },
      "source": [
        "Wheat_SRW"
      ],
      "execution_count": 19,
      "outputs": [
        {
          "output_type": "execute_result",
          "data": {
            "text/html": [
              "<div>\n",
              "<style scoped>\n",
              "    .dataframe tbody tr th:only-of-type {\n",
              "        vertical-align: middle;\n",
              "    }\n",
              "\n",
              "    .dataframe tbody tr th {\n",
              "        vertical-align: top;\n",
              "    }\n",
              "\n",
              "    .dataframe thead th {\n",
              "        text-align: right;\n",
              "    }\n",
              "</style>\n",
              "<table border=\"1\" class=\"dataframe\">\n",
              "  <thead>\n",
              "    <tr style=\"text-align: right;\">\n",
              "      <th></th>\n",
              "      <th>Open</th>\n",
              "      <th>High</th>\n",
              "      <th>Low</th>\n",
              "      <th>Close</th>\n",
              "      <th>Volume</th>\n",
              "      <th>Dividends</th>\n",
              "      <th>Stock Splits</th>\n",
              "      <th>Date</th>\n",
              "      <th>Week_01</th>\n",
              "    </tr>\n",
              "  </thead>\n",
              "  <tbody>\n",
              "    <tr>\n",
              "      <th>0</th>\n",
              "      <td>485.25</td>\n",
              "      <td>489.00</td>\n",
              "      <td>475.75</td>\n",
              "      <td>476.75</td>\n",
              "      <td>31447.0</td>\n",
              "      <td>0.0</td>\n",
              "      <td>0.0</td>\n",
              "      <td>2010-03-23</td>\n",
              "      <td>472.00</td>\n",
              "    </tr>\n",
              "    <tr>\n",
              "      <th>1</th>\n",
              "      <td>464.75</td>\n",
              "      <td>473.75</td>\n",
              "      <td>462.25</td>\n",
              "      <td>472.00</td>\n",
              "      <td>34897.0</td>\n",
              "      <td>0.0</td>\n",
              "      <td>0.0</td>\n",
              "      <td>2010-03-30</td>\n",
              "      <td>463.50</td>\n",
              "    </tr>\n",
              "    <tr>\n",
              "      <th>2</th>\n",
              "      <td>454.00</td>\n",
              "      <td>470.00</td>\n",
              "      <td>448.75</td>\n",
              "      <td>463.50</td>\n",
              "      <td>46216.0</td>\n",
              "      <td>0.0</td>\n",
              "      <td>0.0</td>\n",
              "      <td>2010-04-06</td>\n",
              "      <td>476.00</td>\n",
              "    </tr>\n",
              "    <tr>\n",
              "      <th>3</th>\n",
              "      <td>467.00</td>\n",
              "      <td>476.50</td>\n",
              "      <td>463.50</td>\n",
              "      <td>476.00</td>\n",
              "      <td>64576.0</td>\n",
              "      <td>0.0</td>\n",
              "      <td>0.0</td>\n",
              "      <td>2010-04-13</td>\n",
              "      <td>486.00</td>\n",
              "    </tr>\n",
              "    <tr>\n",
              "      <th>4</th>\n",
              "      <td>469.50</td>\n",
              "      <td>487.25</td>\n",
              "      <td>468.50</td>\n",
              "      <td>486.00</td>\n",
              "      <td>36954.0</td>\n",
              "      <td>0.0</td>\n",
              "      <td>0.0</td>\n",
              "      <td>2010-04-20</td>\n",
              "      <td>478.25</td>\n",
              "    </tr>\n",
              "    <tr>\n",
              "      <th>...</th>\n",
              "      <td>...</td>\n",
              "      <td>...</td>\n",
              "      <td>...</td>\n",
              "      <td>...</td>\n",
              "      <td>...</td>\n",
              "      <td>...</td>\n",
              "      <td>...</td>\n",
              "      <td>...</td>\n",
              "      <td>...</td>\n",
              "    </tr>\n",
              "    <tr>\n",
              "      <th>531</th>\n",
              "      <td>517.00</td>\n",
              "      <td>517.25</td>\n",
              "      <td>506.75</td>\n",
              "      <td>508.00</td>\n",
              "      <td>76980.0</td>\n",
              "      <td>0.0</td>\n",
              "      <td>0.0</td>\n",
              "      <td>2020-06-02</td>\n",
              "      <td>504.50</td>\n",
              "    </tr>\n",
              "    <tr>\n",
              "      <th>532</th>\n",
              "      <td>512.00</td>\n",
              "      <td>514.00</td>\n",
              "      <td>500.75</td>\n",
              "      <td>504.50</td>\n",
              "      <td>105093.0</td>\n",
              "      <td>0.0</td>\n",
              "      <td>0.0</td>\n",
              "      <td>2020-06-09</td>\n",
              "      <td>496.00</td>\n",
              "    </tr>\n",
              "    <tr>\n",
              "      <th>533</th>\n",
              "      <td>506.50</td>\n",
              "      <td>507.25</td>\n",
              "      <td>491.00</td>\n",
              "      <td>496.00</td>\n",
              "      <td>67274.0</td>\n",
              "      <td>0.0</td>\n",
              "      <td>0.0</td>\n",
              "      <td>2020-06-16</td>\n",
              "      <td>486.00</td>\n",
              "    </tr>\n",
              "    <tr>\n",
              "      <th>534</th>\n",
              "      <td>485.25</td>\n",
              "      <td>488.75</td>\n",
              "      <td>479.25</td>\n",
              "      <td>486.00</td>\n",
              "      <td>38396.0</td>\n",
              "      <td>0.0</td>\n",
              "      <td>0.0</td>\n",
              "      <td>2020-06-23</td>\n",
              "      <td>490.00</td>\n",
              "    </tr>\n",
              "    <tr>\n",
              "      <th>535</th>\n",
              "      <td>483.75</td>\n",
              "      <td>495.50</td>\n",
              "      <td>478.50</td>\n",
              "      <td>490.00</td>\n",
              "      <td>2721.0</td>\n",
              "      <td>0.0</td>\n",
              "      <td>0.0</td>\n",
              "      <td>2020-06-30</td>\n",
              "      <td>NaN</td>\n",
              "    </tr>\n",
              "  </tbody>\n",
              "</table>\n",
              "<p>536 rows × 9 columns</p>\n",
              "</div>"
            ],
            "text/plain": [
              "       Open    High     Low  ...  Stock Splits       Date  Week_01\n",
              "0    485.25  489.00  475.75  ...           0.0 2010-03-23   472.00\n",
              "1    464.75  473.75  462.25  ...           0.0 2010-03-30   463.50\n",
              "2    454.00  470.00  448.75  ...           0.0 2010-04-06   476.00\n",
              "3    467.00  476.50  463.50  ...           0.0 2010-04-13   486.00\n",
              "4    469.50  487.25  468.50  ...           0.0 2010-04-20   478.25\n",
              "..      ...     ...     ...  ...           ...        ...      ...\n",
              "531  517.00  517.25  506.75  ...           0.0 2020-06-02   504.50\n",
              "532  512.00  514.00  500.75  ...           0.0 2020-06-09   496.00\n",
              "533  506.50  507.25  491.00  ...           0.0 2020-06-16   486.00\n",
              "534  485.25  488.75  479.25  ...           0.0 2020-06-23   490.00\n",
              "535  483.75  495.50  478.50  ...           0.0 2020-06-30      NaN\n",
              "\n",
              "[536 rows x 9 columns]"
            ]
          },
          "metadata": {
            "tags": []
          },
          "execution_count": 19
        }
      ]
    }
  ]
}