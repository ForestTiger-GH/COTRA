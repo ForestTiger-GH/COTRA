{
  "nbformat": 4,
  "nbformat_minor": 0,
  "metadata": {
    "colab": {
      "name": "Выгрузка котировок",
      "provenance": []
    },
    "kernelspec": {
      "name": "python3",
      "display_name": "Python 3"
    },
    "language_info": {
      "name": "python"
    }
  },
  "cells": [
    {
      "cell_type": "code",
      "metadata": {
        "colab": {
          "base_uri": "https://localhost:8080/"
        },
        "id": "6Jxk4EIOeb8j",
        "outputId": "8f96944a-de00-4d2b-a70a-18e47deb68ca"
      },
      "source": [
        "!pip install yfinance"
      ],
      "execution_count": 22,
      "outputs": [
        {
          "output_type": "stream",
          "text": [
            "Requirement already satisfied: yfinance in /usr/local/lib/python3.7/dist-packages (0.1.59)\n",
            "Requirement already satisfied: lxml>=4.5.1 in /usr/local/lib/python3.7/dist-packages (from yfinance) (4.6.3)\n",
            "Requirement already satisfied: requests>=2.20 in /usr/local/lib/python3.7/dist-packages (from yfinance) (2.23.0)\n",
            "Requirement already satisfied: pandas>=0.24 in /usr/local/lib/python3.7/dist-packages (from yfinance) (1.1.5)\n",
            "Requirement already satisfied: multitasking>=0.0.7 in /usr/local/lib/python3.7/dist-packages (from yfinance) (0.0.9)\n",
            "Requirement already satisfied: numpy>=1.15 in /usr/local/lib/python3.7/dist-packages (from yfinance) (1.19.5)\n",
            "Requirement already satisfied: certifi>=2017.4.17 in /usr/local/lib/python3.7/dist-packages (from requests>=2.20->yfinance) (2020.12.5)\n",
            "Requirement already satisfied: idna<3,>=2.5 in /usr/local/lib/python3.7/dist-packages (from requests>=2.20->yfinance) (2.10)\n",
            "Requirement already satisfied: urllib3!=1.25.0,!=1.25.1,<1.26,>=1.21.1 in /usr/local/lib/python3.7/dist-packages (from requests>=2.20->yfinance) (1.24.3)\n",
            "Requirement already satisfied: chardet<4,>=3.0.2 in /usr/local/lib/python3.7/dist-packages (from requests>=2.20->yfinance) (3.0.4)\n",
            "Requirement already satisfied: python-dateutil>=2.7.3 in /usr/local/lib/python3.7/dist-packages (from pandas>=0.24->yfinance) (2.8.1)\n",
            "Requirement already satisfied: pytz>=2017.2 in /usr/local/lib/python3.7/dist-packages (from pandas>=0.24->yfinance) (2018.9)\n",
            "Requirement already satisfied: six>=1.5 in /usr/local/lib/python3.7/dist-packages (from python-dateutil>=2.7.3->pandas>=0.24->yfinance) (1.15.0)\n"
          ],
          "name": "stdout"
        }
      ]
    },
    {
      "cell_type": "markdown",
      "metadata": {
        "id": "-PQESrvffZRx"
      },
      "source": [
        "https://pypi.org/project/yfinance/ "
      ]
    },
    {
      "cell_type": "code",
      "metadata": {
        "id": "L_vRj9dzcaHl"
      },
      "source": [
        "import pandas as pd\n",
        "import yfinance as yf\n",
        "\n",
        "import matplotlib.pyplot as plt"
      ],
      "execution_count": 23,
      "outputs": []
    },
    {
      "cell_type": "code",
      "metadata": {
        "id": "k_8yKIKUcjqW"
      },
      "source": [
        "# Commodities\n",
        "Wheat_SRW = yf.Ticker('ZW=F').history(period=\"max\")\n",
        "Soybeans = yf.Ticker('ZS=F').history(period=\"max\")"
      ],
      "execution_count": 24,
      "outputs": []
    },
    {
      "cell_type": "code",
      "metadata": {
        "id": "Q5DN-bKFfjgZ"
      },
      "source": [
        "# Financial\n",
        "Canadian_Dollar = yf.Ticker('6C=F').history(period=\"max\")\n",
        "British_Pound = yf.Ticker('6B=F').history(period=\"max\")"
      ],
      "execution_count": 25,
      "outputs": []
    },
    {
      "cell_type": "code",
      "metadata": {
        "colab": {
          "base_uri": "https://localhost:8080/",
          "height": 450
        },
        "id": "F0CzgsHveqjZ",
        "outputId": "6a9345c5-c622-45bd-e59e-d9ad796b668c"
      },
      "source": [
        "Wheat_SRW"
      ],
      "execution_count": 32,
      "outputs": [
        {
          "output_type": "execute_result",
          "data": {
            "text/html": [
              "<div>\n",
              "<style scoped>\n",
              "    .dataframe tbody tr th:only-of-type {\n",
              "        vertical-align: middle;\n",
              "    }\n",
              "\n",
              "    .dataframe tbody tr th {\n",
              "        vertical-align: top;\n",
              "    }\n",
              "\n",
              "    .dataframe thead th {\n",
              "        text-align: right;\n",
              "    }\n",
              "</style>\n",
              "<table border=\"1\" class=\"dataframe\">\n",
              "  <thead>\n",
              "    <tr style=\"text-align: right;\">\n",
              "      <th></th>\n",
              "      <th>Open</th>\n",
              "      <th>High</th>\n",
              "      <th>Low</th>\n",
              "      <th>Close</th>\n",
              "      <th>Volume</th>\n",
              "      <th>Dividends</th>\n",
              "      <th>Stock Splits</th>\n",
              "    </tr>\n",
              "    <tr>\n",
              "      <th>Date</th>\n",
              "      <th></th>\n",
              "      <th></th>\n",
              "      <th></th>\n",
              "      <th></th>\n",
              "      <th></th>\n",
              "      <th></th>\n",
              "      <th></th>\n",
              "    </tr>\n",
              "  </thead>\n",
              "  <tbody>\n",
              "    <tr>\n",
              "      <th>2000-07-17</th>\n",
              "      <td>248.00</td>\n",
              "      <td>248.00</td>\n",
              "      <td>243.75</td>\n",
              "      <td>244.00</td>\n",
              "      <td>7233</td>\n",
              "      <td>0</td>\n",
              "      <td>0</td>\n",
              "    </tr>\n",
              "    <tr>\n",
              "      <th>2000-07-18</th>\n",
              "      <td>244.25</td>\n",
              "      <td>247.50</td>\n",
              "      <td>241.00</td>\n",
              "      <td>241.25</td>\n",
              "      <td>6523</td>\n",
              "      <td>0</td>\n",
              "      <td>0</td>\n",
              "    </tr>\n",
              "    <tr>\n",
              "      <th>2000-07-19</th>\n",
              "      <td>241.25</td>\n",
              "      <td>246.00</td>\n",
              "      <td>239.00</td>\n",
              "      <td>245.00</td>\n",
              "      <td>7136</td>\n",
              "      <td>0</td>\n",
              "      <td>0</td>\n",
              "    </tr>\n",
              "    <tr>\n",
              "      <th>2000-07-20</th>\n",
              "      <td>244.00</td>\n",
              "      <td>247.50</td>\n",
              "      <td>244.00</td>\n",
              "      <td>247.00</td>\n",
              "      <td>3792</td>\n",
              "      <td>0</td>\n",
              "      <td>0</td>\n",
              "    </tr>\n",
              "    <tr>\n",
              "      <th>2000-07-21</th>\n",
              "      <td>247.00</td>\n",
              "      <td>248.50</td>\n",
              "      <td>246.50</td>\n",
              "      <td>247.25</td>\n",
              "      <td>4380</td>\n",
              "      <td>0</td>\n",
              "      <td>0</td>\n",
              "    </tr>\n",
              "    <tr>\n",
              "      <th>...</th>\n",
              "      <td>...</td>\n",
              "      <td>...</td>\n",
              "      <td>...</td>\n",
              "      <td>...</td>\n",
              "      <td>...</td>\n",
              "      <td>...</td>\n",
              "      <td>...</td>\n",
              "    </tr>\n",
              "    <tr>\n",
              "      <th>2021-03-19</th>\n",
              "      <td>629.00</td>\n",
              "      <td>635.50</td>\n",
              "      <td>621.75</td>\n",
              "      <td>627.00</td>\n",
              "      <td>51669</td>\n",
              "      <td>0</td>\n",
              "      <td>0</td>\n",
              "    </tr>\n",
              "    <tr>\n",
              "      <th>2021-03-22</th>\n",
              "      <td>627.50</td>\n",
              "      <td>630.75</td>\n",
              "      <td>621.25</td>\n",
              "      <td>627.25</td>\n",
              "      <td>36124</td>\n",
              "      <td>0</td>\n",
              "      <td>0</td>\n",
              "    </tr>\n",
              "    <tr>\n",
              "      <th>2021-03-23</th>\n",
              "      <td>628.00</td>\n",
              "      <td>644.50</td>\n",
              "      <td>621.00</td>\n",
              "      <td>634.75</td>\n",
              "      <td>68769</td>\n",
              "      <td>0</td>\n",
              "      <td>0</td>\n",
              "    </tr>\n",
              "    <tr>\n",
              "      <th>2021-03-24</th>\n",
              "      <td>635.00</td>\n",
              "      <td>638.75</td>\n",
              "      <td>624.00</td>\n",
              "      <td>624.75</td>\n",
              "      <td>45577</td>\n",
              "      <td>0</td>\n",
              "      <td>0</td>\n",
              "    </tr>\n",
              "    <tr>\n",
              "      <th>2021-03-25</th>\n",
              "      <td>624.75</td>\n",
              "      <td>625.50</td>\n",
              "      <td>609.00</td>\n",
              "      <td>612.50</td>\n",
              "      <td>45577</td>\n",
              "      <td>0</td>\n",
              "      <td>0</td>\n",
              "    </tr>\n",
              "  </tbody>\n",
              "</table>\n",
              "<p>5126 rows × 7 columns</p>\n",
              "</div>"
            ],
            "text/plain": [
              "              Open    High     Low   Close  Volume  Dividends  Stock Splits\n",
              "Date                                                                       \n",
              "2000-07-17  248.00  248.00  243.75  244.00    7233          0             0\n",
              "2000-07-18  244.25  247.50  241.00  241.25    6523          0             0\n",
              "2000-07-19  241.25  246.00  239.00  245.00    7136          0             0\n",
              "2000-07-20  244.00  247.50  244.00  247.00    3792          0             0\n",
              "2000-07-21  247.00  248.50  246.50  247.25    4380          0             0\n",
              "...            ...     ...     ...     ...     ...        ...           ...\n",
              "2021-03-19  629.00  635.50  621.75  627.00   51669          0             0\n",
              "2021-03-22  627.50  630.75  621.25  627.25   36124          0             0\n",
              "2021-03-23  628.00  644.50  621.00  634.75   68769          0             0\n",
              "2021-03-24  635.00  638.75  624.00  624.75   45577          0             0\n",
              "2021-03-25  624.75  625.50  609.00  612.50   45577          0             0\n",
              "\n",
              "[5126 rows x 7 columns]"
            ]
          },
          "metadata": {
            "tags": []
          },
          "execution_count": 32
        }
      ]
    }
  ]
}