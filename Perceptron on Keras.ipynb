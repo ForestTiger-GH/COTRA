{
  "nbformat": 4,
  "nbformat_minor": 0,
  "metadata": {
    "colab": {
      "name": "new perceptron",
      "provenance": []
    },
    "kernelspec": {
      "name": "python3",
      "display_name": "Python 3"
    }
  },
  "cells": [
    {
      "cell_type": "markdown",
      "metadata": {
        "id": "F1QBgTzYkqrl"
      },
      "source": [
        "**Нейросеть на базе Keras**\r\n",
        "\r\n",
        "Обучение с учителем\r\n",
        "\r\n",
        "27 переменных Х, 3 бинарные Y"
      ]
    },
    {
      "cell_type": "markdown",
      "metadata": {
        "id": "rRJtHC46d7_t"
      },
      "source": [
        "# Импорт библиотек"
      ]
    },
    {
      "cell_type": "code",
      "metadata": {
        "id": "udLUlZU_dodH"
      },
      "source": [
        "import numpy as np\r\n",
        "import pandas as pd\r\n",
        "\r\n",
        "import pylab\r\n",
        "\r\n",
        "import matplotlib.pyplot as plt\r\n",
        "\r\n",
        "import keras as k\r\n",
        "from keras import layers\r\n",
        "from tensorflow.keras.layers import Dense\r\n",
        "\r\n",
        "from sklearn.model_selection import train_test_split"
      ],
      "execution_count": 173,
      "outputs": []
    },
    {
      "cell_type": "markdown",
      "metadata": {
        "id": "KFytYzHKd8U7"
      },
      "source": [
        "# Ввод статистики"
      ]
    },
    {
      "cell_type": "code",
      "metadata": {
        "id": "I_xD7TcDd67G"
      },
      "source": [
        "# ------------ Источник ------------ #\r\n",
        "\r\n",
        "df_url = \"https://raw.githubusercontent.com/ForestTiger-GH/COTRA/main/Stat_wheat/WeekDyn_nonfilter_all536_3binYs.txt\"\r\n",
        "\r\n",
        "df_name = \"Week dynamic\"\r\n",
        "\r\n",
        "df = pd.read_csv(df_url,\r\n",
        "               sep='\\t', \r\n",
        "               error_bad_lines=False,\r\n",
        "               decimal=',',\r\n",
        "               encoding='gbk', \r\n",
        "               skiprows=1)"
      ],
      "execution_count": 174,
      "outputs": []
    },
    {
      "cell_type": "code",
      "metadata": {
        "id": "nQZLdzbUinGx"
      },
      "source": [
        "# ------------ Параметры данных ------------ #\r\n",
        "\r\n",
        "dates = df.iloc[:, 0:1]\r\n",
        "X = df.iloc[:, 1:28]\r\n",
        "Y = df.iloc[:, 28:31]\r\n",
        "\r\n",
        "df_length = len(df)\r\n",
        "df_width = len(df.columns)"
      ],
      "execution_count": 175,
      "outputs": []
    },
    {
      "cell_type": "code",
      "metadata": {
        "id": "9URnrtrapTS4"
      },
      "source": [
        "X = np.array(X.astype(np.float32))\r\n",
        "Y = np.array(Y.astype(np.int32))"
      ],
      "execution_count": 176,
      "outputs": []
    },
    {
      "cell_type": "code",
      "metadata": {
        "id": "5Ki5GAiQhGNh"
      },
      "source": [
        "# ------------ Разбивка данных на фрагменты ------------ #\r\n",
        "\r\n",
        "train_x, test_x, train_y, test_y = train_test_split(X, Y, test_size=0.2, random_state=42)"
      ],
      "execution_count": 177,
      "outputs": []
    },
    {
      "cell_type": "markdown",
      "metadata": {
        "id": "u8lWv6FPeBhj"
      },
      "source": [
        "# Обработка"
      ]
    },
    {
      "cell_type": "code",
      "metadata": {
        "colab": {
          "base_uri": "https://localhost:8080/",
          "height": 547
        },
        "id": "UzJkswKmjBIc",
        "outputId": "04b9f463-f68b-423f-93ed-03855385061c"
      },
      "source": [
        "model = k.Sequential()\r\n",
        "model.add(k.layers.Dense(units=27, activation='relu'))\r\n",
        "model.add(k.layers.Dense(units=13, activation='sigmoid'))\r\n",
        "model.add(k.layers.Dense(units=3, activation='softmax'))\r\n",
        "\r\n",
        "# optimizer=keras.optimizers.Adam(0.001)\r\n",
        "# optimizer='sgd'\r\n",
        "model.compile(loss='mse', optimizer=keras.optimizers.SGD(0.01), metrics=['accuracy'])\r\n",
        "fit_results = model.fit(train_x, train_y, epochs=250, validation_split=0.2, verbose=0)\r\n",
        "\r\n",
        "plt.plot(fit_results.history['accuracy'])\r\n",
        "plt.plot(fit_results.history['val_accuracy'])\r\n",
        "plt.grid(1)\r\n",
        "plt.legend()\r\n",
        "plt.show()\r\n",
        "\r\n",
        "plt.plot(fit_results.history['loss'])\r\n",
        "plt.plot(fit_results.history['val_loss'])\r\n",
        "plt.grid(1)\r\n",
        "plt.legend()\r\n",
        "plt.show()"
      ],
      "execution_count": 181,
      "outputs": [
        {
          "output_type": "stream",
          "text": [
            "No handles with labels found to put in legend.\n"
          ],
          "name": "stderr"
        },
        {
          "output_type": "display_data",
          "data": {
            "image/png": "[encoded data removed]",
            "text/plain": [
              "<Figure size 432x288 with 1 Axes>"
            ]
          },
          "metadata": {
            "tags": [],
            "needs_background": "light"
          }
        },
        {
          "output_type": "stream",
          "text": [
            "No handles with labels found to put in legend.\n"
          ],
          "name": "stderr"
        },
        {
          "output_type": "display_data",
          "data": {
            "image/png": "[encoded data removed]",
            "text/plain": [
              "<Figure size 432x288 with 1 Axes>"
            ]
          },
          "metadata": {
            "tags": [],
            "needs_background": "light"
          }
        }
      ]
    },
    {
      "cell_type": "markdown",
      "metadata": {
        "id": "4stBh1hueEFc"
      },
      "source": [
        "# Результаты"
      ]
    },
    {
      "cell_type": "code",
      "metadata": {
        "colab": {
          "base_uri": "https://localhost:8080/"
        },
        "id": "J_LCgakc93uv",
        "outputId": "0c828423-b421-48da-fe12-6d22445efbb6"
      },
      "source": [
        "model.summary()"
      ],
      "execution_count": 179,
      "outputs": [
        {
          "output_type": "stream",
          "text": [
            "Model: \"sequential_37\"\n",
            "_________________________________________________________________\n",
            "Layer (type)                 Output Shape              Param #   \n",
            "=================================================================\n",
            "dense_101 (Dense)            (None, 27)                756       \n",
            "_________________________________________________________________\n",
            "dense_102 (Dense)            (None, 19)                532       \n",
            "_________________________________________________________________\n",
            "dense_103 (Dense)            (None, 3)                 60        \n",
            "=================================================================\n",
            "Total params: 1,348\n",
            "Trainable params: 1,348\n",
            "Non-trainable params: 0\n",
            "_________________________________________________________________\n"
          ],
          "name": "stdout"
        }
      ]
    },
    {
      "cell_type": "code",
      "metadata": {
        "colab": {
          "base_uri": "https://localhost:8080/",
          "height": 419
        },
        "id": "63GWFEdGxht6",
        "outputId": "7c2bdf81-ff29-4d63-822c-3862630b1f42"
      },
      "source": [
        "pd.concat([pd.DataFrame(test_y, columns=('real Short','real Long','neutral')), pd.DataFrame(model.predict(test_x), columns=('pr Short','pr Long','pr neutral'))],1)"
      ],
      "execution_count": 180,
      "outputs": [
        {
          "output_type": "execute_result",
          "data": {
            "text/html": [
              "<div>\n",
              "<style scoped>\n",
              "    .dataframe tbody tr th:only-of-type {\n",
              "        vertical-align: middle;\n",
              "    }\n",
              "\n",
              "    .dataframe tbody tr th {\n",
              "        vertical-align: top;\n",
              "    }\n",
              "\n",
              "    .dataframe thead th {\n",
              "        text-align: right;\n",
              "    }\n",
              "</style>\n",
              "<table border=\"1\" class=\"dataframe\">\n",
              "  <thead>\n",
              "    <tr style=\"text-align: right;\">\n",
              "      <th></th>\n",
              "      <th>real Short</th>\n",
              "      <th>real Long</th>\n",
              "      <th>neutral</th>\n",
              "      <th>pr Short</th>\n",
              "      <th>pr Long</th>\n",
              "      <th>pr neutral</th>\n",
              "    </tr>\n",
              "  </thead>\n",
              "  <tbody>\n",
              "    <tr>\n",
              "      <th>0</th>\n",
              "      <td>0</td>\n",
              "      <td>1</td>\n",
              "      <td>0</td>\n",
              "      <td>0.224943</td>\n",
              "      <td>0.340808</td>\n",
              "      <td>0.434248</td>\n",
              "    </tr>\n",
              "    <tr>\n",
              "      <th>1</th>\n",
              "      <td>1</td>\n",
              "      <td>0</td>\n",
              "      <td>0</td>\n",
              "      <td>0.230641</td>\n",
              "      <td>0.342621</td>\n",
              "      <td>0.426738</td>\n",
              "    </tr>\n",
              "    <tr>\n",
              "      <th>2</th>\n",
              "      <td>0</td>\n",
              "      <td>0</td>\n",
              "      <td>1</td>\n",
              "      <td>0.239670</td>\n",
              "      <td>0.341818</td>\n",
              "      <td>0.418512</td>\n",
              "    </tr>\n",
              "    <tr>\n",
              "      <th>3</th>\n",
              "      <td>1</td>\n",
              "      <td>0</td>\n",
              "      <td>0</td>\n",
              "      <td>0.229568</td>\n",
              "      <td>0.336483</td>\n",
              "      <td>0.433949</td>\n",
              "    </tr>\n",
              "    <tr>\n",
              "      <th>4</th>\n",
              "      <td>0</td>\n",
              "      <td>0</td>\n",
              "      <td>1</td>\n",
              "      <td>0.233206</td>\n",
              "      <td>0.345428</td>\n",
              "      <td>0.421366</td>\n",
              "    </tr>\n",
              "    <tr>\n",
              "      <th>...</th>\n",
              "      <td>...</td>\n",
              "      <td>...</td>\n",
              "      <td>...</td>\n",
              "      <td>...</td>\n",
              "      <td>...</td>\n",
              "      <td>...</td>\n",
              "    </tr>\n",
              "    <tr>\n",
              "      <th>103</th>\n",
              "      <td>0</td>\n",
              "      <td>0</td>\n",
              "      <td>1</td>\n",
              "      <td>0.220705</td>\n",
              "      <td>0.349918</td>\n",
              "      <td>0.429377</td>\n",
              "    </tr>\n",
              "    <tr>\n",
              "      <th>104</th>\n",
              "      <td>0</td>\n",
              "      <td>0</td>\n",
              "      <td>1</td>\n",
              "      <td>0.226074</td>\n",
              "      <td>0.319147</td>\n",
              "      <td>0.454780</td>\n",
              "    </tr>\n",
              "    <tr>\n",
              "      <th>105</th>\n",
              "      <td>0</td>\n",
              "      <td>1</td>\n",
              "      <td>0</td>\n",
              "      <td>0.235382</td>\n",
              "      <td>0.341745</td>\n",
              "      <td>0.422873</td>\n",
              "    </tr>\n",
              "    <tr>\n",
              "      <th>106</th>\n",
              "      <td>0</td>\n",
              "      <td>0</td>\n",
              "      <td>1</td>\n",
              "      <td>0.326309</td>\n",
              "      <td>0.315042</td>\n",
              "      <td>0.358649</td>\n",
              "    </tr>\n",
              "    <tr>\n",
              "      <th>107</th>\n",
              "      <td>0</td>\n",
              "      <td>0</td>\n",
              "      <td>1</td>\n",
              "      <td>0.211588</td>\n",
              "      <td>0.308181</td>\n",
              "      <td>0.480231</td>\n",
              "    </tr>\n",
              "  </tbody>\n",
              "</table>\n",
              "<p>108 rows × 6 columns</p>\n",
              "</div>"
            ],
            "text/plain": [
              "     real Short  real Long  neutral  pr Short   pr Long  pr neutral\n",
              "0             0          1        0  0.224943  0.340808    0.434248\n",
              "1             1          0        0  0.230641  0.342621    0.426738\n",
              "2             0          0        1  0.239670  0.341818    0.418512\n",
              "3             1          0        0  0.229568  0.336483    0.433949\n",
              "4             0          0        1  0.233206  0.345428    0.421366\n",
              "..          ...        ...      ...       ...       ...         ...\n",
              "103           0          0        1  0.220705  0.349918    0.429377\n",
              "104           0          0        1  0.226074  0.319147    0.454780\n",
              "105           0          1        0  0.235382  0.341745    0.422873\n",
              "106           0          0        1  0.326309  0.315042    0.358649\n",
              "107           0          0        1  0.211588  0.308181    0.480231\n",
              "\n",
              "[108 rows x 6 columns]"
            ]
          },
          "metadata": {
            "tags": []
          },
          "execution_count": 180
        }
      ]
    }
  ]
}